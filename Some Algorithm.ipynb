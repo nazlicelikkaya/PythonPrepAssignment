{
 "cells": [
  {
   "cell_type": "markdown",
   "id": "29d60b78",
   "metadata": {},
   "source": [
    "<img src=\"https://docs.google.com/uc?id=14xeXxFrVRjvOoUYWn_GuyE-v84wVzrqr\" class=\"img-fluid\" alt=\"CLRWY\" width=\"400\" height=\"200\">"
   ]
  },
  {
   "cell_type": "markdown",
   "id": "0ecddc8c",
   "metadata": {},
   "source": [
    "<a id=\"toc\"></a>\n",
    "\n",
    "## <p style=\"background-color:#0D8D99; font-family:newtimeroman; color:#FFF9ED; font-size:175%; text-align:center; border-radius:10px 10px;\">Python Lab 8 - 8 Nov 2022</p>"
   ]
  },
  {
   "cell_type": "markdown",
   "id": "c74365f6",
   "metadata": {},
   "source": [
    "<div class=\"alert alert-block alert-info\"><h1><p style=\"text-align: center; color:purple\"><font color=blue>Some Algorithm Exercises</font><br><br>Robot-show me my way please!<br><br>Valid Parantheses<br><br>Factorial of a number</p>"
   ]
  },
  {
   "cell_type": "markdown",
   "id": "d3d8ad55",
   "metadata": {},
   "source": [
    "<a id=\"toc\"></a>\n",
    "\n",
    "### <p style=\"background-color:#9d4f8c; font-family:newtimeroman; color:#FFF9ED; font-size:175%; text-align:center; border-radius:10px 10px;\">Robot - Show me my way please!</p>\n",
    "\n",
    "<img src=\"https://www.robotsepeti.com/nao-insansi-robot-platformu-v6-egitmen-educator-versiyonu-insansi-robot-softbank-robotics-9282-48-B.png\" height = \"100\" width=\"300\" alt=\"Robot\">"
   ]
  },
  {
   "cell_type": "code",
   "execution_count": 4,
   "id": "da696261",
   "metadata": {},
   "outputs": [],
   "source": [
    "command = [\"right 20\", \"right 30\", \"left 50\", \"up 10\", \"down 20\"]"
   ]
  },
  {
   "cell_type": "code",
   "execution_count": 12,
   "id": "a367c51b",
   "metadata": {},
   "outputs": [],
   "source": [
    "x = y = 0"
   ]
  },
  {
   "cell_type": "code",
   "execution_count": 6,
   "id": "192f1352",
   "metadata": {},
   "outputs": [
    {
     "data": {
      "text/plain": [
       "'down 20'"
      ]
     },
     "execution_count": 6,
     "metadata": {},
     "output_type": "execute_result"
    }
   ],
   "source": [
    "command[-1]"
   ]
  },
  {
   "cell_type": "code",
   "execution_count": 7,
   "id": "8beed88c",
   "metadata": {},
   "outputs": [
    {
     "data": {
      "text/plain": [
       "['down', '20']"
      ]
     },
     "execution_count": 7,
     "metadata": {},
     "output_type": "execute_result"
    }
   ],
   "source": [
    "command[-1].split()"
   ]
  },
  {
   "cell_type": "code",
   "execution_count": 8,
   "id": "2989b460",
   "metadata": {},
   "outputs": [
    {
     "data": {
      "text/plain": [
       "'down'"
      ]
     },
     "execution_count": 8,
     "metadata": {},
     "output_type": "execute_result"
    }
   ],
   "source": [
    "command[-1].split()[0]"
   ]
  },
  {
   "cell_type": "code",
   "execution_count": 9,
   "id": "220d74e0",
   "metadata": {},
   "outputs": [
    {
     "data": {
      "text/plain": [
       "'20'"
      ]
     },
     "execution_count": 9,
     "metadata": {},
     "output_type": "execute_result"
    }
   ],
   "source": [
    "command[-1].split()[1]"
   ]
  },
  {
   "cell_type": "code",
   "execution_count": 10,
   "id": "c31affe5",
   "metadata": {},
   "outputs": [
    {
     "data": {
      "text/plain": [
       "[0, 1, 2, 3, 4]"
      ]
     },
     "execution_count": 10,
     "metadata": {},
     "output_type": "execute_result"
    }
   ],
   "source": [
    "list(range(len(command)))"
   ]
  },
  {
   "cell_type": "code",
   "execution_count": null,
   "id": "06560989",
   "metadata": {},
   "outputs": [],
   "source": [
    "command = [\"right 20\", \"right 30\", \"left 50\", \"up 10\", \"down 20\"]"
   ]
  },
  {
   "cell_type": "code",
   "execution_count": 13,
   "id": "b7bd8444",
   "metadata": {},
   "outputs": [
    {
     "data": {
      "text/plain": [
       "[0, -10]"
      ]
     },
     "execution_count": 13,
     "metadata": {},
     "output_type": "execute_result"
    }
   ],
   "source": [
    "for i in range(len(command)) :\n",
    "    if command[i].startswith(\"r\") : x = x + int(command[i].split()[1])\n",
    "    elif command[i].startswith(\"l\") : x = x - int(command[i].split()[1])\n",
    "    elif command[i].startswith(\"u\") : y = y + int(command[i].split()[1])\n",
    "    elif command[i].startswith(\"d\") : y = y - int(command[i].split()[1])\n",
    "\n",
    "[x, y]"
   ]
  },
  {
   "cell_type": "markdown",
   "id": "4d3656ab",
   "metadata": {},
   "source": [
    "<a id=\"toc\"></a>\n",
    "\n",
    "### <p style=\"background-color:#9d4f8c; font-family:newtimeroman; color:#FFF9ED; font-size:175%; text-align:center; border-radius:10px 10px;\">Valid Parantheses</p>"
   ]
  },
  {
   "cell_type": "markdown",
   "id": "a6b50583",
   "metadata": {},
   "source": [
    "```\n",
    "Input        Output\n",
    "--------:    ------:\n",
    "\"()\"         True\n",
    "\"()[]{}\"     True\n",
    "\"(]\"         False\n",
    "\"([)]\"       False\n",
    "\"{[]}\"       True\n",
    "\"\"           True\n",
    "```"
   ]
  },
  {
   "cell_type": "code",
   "execution_count": 1,
   "id": "5b25373f",
   "metadata": {},
   "outputs": [],
   "source": [
    "s = \"[([{({})}]({}))\""
   ]
  },
  {
   "cell_type": "code",
   "execution_count": 16,
   "id": "d2299dc6",
   "metadata": {},
   "outputs": [
    {
     "data": {
      "text/plain": [
       "'ali+deli+veli'"
      ]
     },
     "execution_count": 16,
     "metadata": {},
     "output_type": "execute_result"
    }
   ],
   "source": [
    "\"ali-deli-veli\".replace(\"-\", \"+\")"
   ]
  },
  {
   "cell_type": "code",
   "execution_count": 17,
   "id": "ccd84db2",
   "metadata": {},
   "outputs": [
    {
     "data": {
      "text/plain": [
       "'alideliveli'"
      ]
     },
     "execution_count": 17,
     "metadata": {},
     "output_type": "execute_result"
    }
   ],
   "source": [
    "\"ali-deli-veli\".replace(\"-\", \"+\").replace(\"+\", \"\")"
   ]
  },
  {
   "cell_type": "code",
   "execution_count": 18,
   "id": "565a8592",
   "metadata": {},
   "outputs": [
    {
     "data": {
      "text/plain": [
       "'aldelvel'"
      ]
     },
     "execution_count": 18,
     "metadata": {},
     "output_type": "execute_result"
    }
   ],
   "source": [
    "\"ali-deli-veli\".replace(\"-\", \"+\").replace(\"+\", \"\").replace(\"i\", \"\")"
   ]
  },
  {
   "cell_type": "code",
   "execution_count": 19,
   "id": "74c488d9",
   "metadata": {},
   "outputs": [
    {
     "data": {
      "text/plain": [
       "'ali-deli-veli'"
      ]
     },
     "execution_count": 19,
     "metadata": {},
     "output_type": "execute_result"
    }
   ],
   "source": [
    "orjinal_str = \"ali-deli-veli\"\n",
    "orjinal_str"
   ]
  },
  {
   "cell_type": "code",
   "execution_count": 20,
   "id": "11afdeff",
   "metadata": {},
   "outputs": [
    {
     "data": {
      "text/plain": [
       "'alideliveli'"
      ]
     },
     "execution_count": 20,
     "metadata": {},
     "output_type": "execute_result"
    }
   ],
   "source": [
    "orjinal_str.replace(\"-\", \"\")"
   ]
  },
  {
   "cell_type": "code",
   "execution_count": 21,
   "id": "64fe1610",
   "metadata": {},
   "outputs": [
    {
     "data": {
      "text/plain": [
       "'ali-deli-veli'"
      ]
     },
     "execution_count": 21,
     "metadata": {},
     "output_type": "execute_result"
    }
   ],
   "source": [
    "orjinal_str"
   ]
  },
  {
   "cell_type": "code",
   "execution_count": 22,
   "id": "48dfd227",
   "metadata": {},
   "outputs": [
    {
     "data": {
      "text/plain": [
       "False"
      ]
     },
     "execution_count": 22,
     "metadata": {},
     "output_type": "execute_result"
    }
   ],
   "source": [
    "\"()\" in s"
   ]
  },
  {
   "cell_type": "code",
   "execution_count": 23,
   "id": "a9f7778c",
   "metadata": {},
   "outputs": [
    {
     "data": {
      "text/plain": [
       "False"
      ]
     },
     "execution_count": 23,
     "metadata": {},
     "output_type": "execute_result"
    }
   ],
   "source": [
    "\"[]\" in s"
   ]
  },
  {
   "cell_type": "code",
   "execution_count": 24,
   "id": "7eb1c3e8",
   "metadata": {},
   "outputs": [
    {
     "data": {
      "text/plain": [
       "True"
      ]
     },
     "execution_count": 24,
     "metadata": {},
     "output_type": "execute_result"
    }
   ],
   "source": [
    "\"{}\" in s"
   ]
  },
  {
   "cell_type": "code",
   "execution_count": 25,
   "id": "64934ee0",
   "metadata": {},
   "outputs": [
    {
     "data": {
      "text/plain": [
       "'ali'"
      ]
     },
     "execution_count": 25,
     "metadata": {},
     "output_type": "execute_result"
    }
   ],
   "source": [
    "\"ali\".replace(\"b\", \"\")"
   ]
  },
  {
   "cell_type": "code",
   "execution_count": 2,
   "id": "1c98a65e",
   "metadata": {},
   "outputs": [],
   "source": [
    "def isValid(s) :\n",
    "    while \"()\" in s or \"[]\" in s or \"{}\" in s :\n",
    "        s = s.replace(\"()\", \"\").replace(\"[]\", \"\").replace(\"{}\", \"\")\n",
    "    return s == \"\""
   ]
  },
  {
   "cell_type": "code",
   "execution_count": null,
   "id": "f60b3107",
   "metadata": {},
   "outputs": [],
   "source": [
    "s"
   ]
  },
  {
   "cell_type": "code",
   "execution_count": 3,
   "id": "aa26d683",
   "metadata": {},
   "outputs": [
    {
     "data": {
      "text/plain": [
       "False"
      ]
     },
     "execution_count": 3,
     "metadata": {},
     "output_type": "execute_result"
    }
   ],
   "source": [
    "isValid(s)"
   ]
  },
  {
   "cell_type": "code",
   "execution_count": 6,
   "id": "f2517a4e",
   "metadata": {},
   "outputs": [
    {
     "data": {
      "text/plain": [
       "True"
      ]
     },
     "execution_count": 6,
     "metadata": {},
     "output_type": "execute_result"
    }
   ],
   "source": [
    "isValid(\"([{({})}]({}))\")"
   ]
  },
  {
   "cell_type": "markdown",
   "id": "1ef12d56",
   "metadata": {},
   "source": [
    "<a id=\"toc\"></a>\n",
    "\n",
    "### <p style=\"background-color:#9d4f8c; font-family:newtimeroman; color:#FFF9ED; font-size:175%; text-align:center; border-radius:10px 10px;\">Factorial of a number</p>"
   ]
  },
  {
   "cell_type": "markdown",
   "id": "2fe3cc70",
   "metadata": {},
   "source": [
    "<div class=\"alert alert-block alert-success\">\n",
    "<font color=purple><b>Write a Python program to find the factorial of a number using <font color=darkred>recursive function</font></b><br><br><font color=blue>What is factorial?</font><br><br>\n",
    "<font color=purple>Factorial is a non-negative integer. It is the product of all positive integers less than or equal to that number you ask for factorial. It is denoted by an exclamation sign (!)</font><b/>"
   ]
  },
  {
   "cell_type": "code",
   "execution_count": 7,
   "id": "b511dbc4",
   "metadata": {},
   "outputs": [
    {
     "name": "stdout",
     "output_type": "stream",
     "text": [
      "120\n"
     ]
    }
   ],
   "source": [
    "sonuç = 1\n",
    "\n",
    "for i in range(1, 6) :\n",
    "    sonuç = sonuç * i  # sonuç *= i\n",
    "    \n",
    "print(sonuç)"
   ]
  },
  {
   "cell_type": "code",
   "execution_count": 8,
   "id": "a990a7fb",
   "metadata": {},
   "outputs": [],
   "source": [
    "def my_factorial(n) :\n",
    "    sonuç = 1\n",
    "    \n",
    "    for i in range(1, n+1) :\n",
    "        sonuç *= i\n",
    "        \n",
    "    if n == 0 or n == 1 :\n",
    "        return 1\n",
    "    \n",
    "    else : return sonuç"
   ]
  },
  {
   "cell_type": "code",
   "execution_count": 9,
   "id": "d986337c",
   "metadata": {},
   "outputs": [
    {
     "data": {
      "text/plain": [
       "1"
      ]
     },
     "execution_count": 9,
     "metadata": {},
     "output_type": "execute_result"
    }
   ],
   "source": [
    "my_factorial(0)"
   ]
  },
  {
   "cell_type": "code",
   "execution_count": 10,
   "id": "2713b793",
   "metadata": {},
   "outputs": [
    {
     "data": {
      "text/plain": [
       "120"
      ]
     },
     "execution_count": 10,
     "metadata": {},
     "output_type": "execute_result"
    }
   ],
   "source": [
    "my_factorial(5)"
   ]
  },
  {
   "cell_type": "markdown",
   "id": "dab1a974",
   "metadata": {},
   "source": [
    "# recursive çözümü\n",
    "\n",
    "**(Derste veya bir sonraki Labaratuvarda anlatılacak.)**"
   ]
  },
  {
   "cell_type": "code",
   "execution_count": 11,
   "id": "341a8d71",
   "metadata": {},
   "outputs": [],
   "source": [
    "def factorial(n) :\n",
    "    if n == 1 or n == 0 :\n",
    "        return 1\n",
    "    else :\n",
    "        return n * factorial(n-1)"
   ]
  },
  {
   "cell_type": "code",
   "execution_count": 13,
   "id": "86983498",
   "metadata": {},
   "outputs": [
    {
     "data": {
      "text/plain": [
       "1"
      ]
     },
     "execution_count": 13,
     "metadata": {},
     "output_type": "execute_result"
    }
   ],
   "source": [
    "factorial(1)"
   ]
  },
  {
   "cell_type": "code",
   "execution_count": 12,
   "id": "49f47d22",
   "metadata": {},
   "outputs": [
    {
     "data": {
      "text/plain": [
       "120"
      ]
     },
     "execution_count": 12,
     "metadata": {},
     "output_type": "execute_result"
    }
   ],
   "source": [
    "factorial(5)"
   ]
  },
  {
   "attachments": {
    "image-2.png": {
     "image/png": "[encoded data removed]"
    }
   },
   "cell_type": "markdown",
   "id": "37c6a1fa",
   "metadata": {},
   "source": [
    "![image-2.png](attachment:image-2.png)"
   ]
  },
  {
   "cell_type": "markdown",
   "id": "3b17d923",
   "metadata": {},
   "source": [
    "<img src=\"https://docs.google.com/uc?id=14xeXxFrVRjvOoUYWn_GuyE-v84wVzrqr\" class=\"img-fluid\" alt=\"CLRWY\" width=\"400\" height=\"200\">"
   ]
  }
 ],
 "metadata": {
  "kernelspec": {
   "display_name": "Python 3 (ipykernel)",
   "language": "python",
   "name": "python3"
  },
  "language_info": {
   "codemirror_mode": {
    "name": "ipython",
    "version": 3
   },
   "file_extension": ".py",
   "mimetype": "text/x-python",
   "name": "python",
   "nbconvert_exporter": "python",
   "pygments_lexer": "ipython3",
   "version": "3.9.12"
  }
 },
 "nbformat": 4,
 "nbformat_minor": 5
}
