{
 "cells": [
  {
   "cell_type": "markdown",
   "id": "9c1e315b",
   "metadata": {},
   "source": [
    "<img src=\"https://docs.google.com/uc?id=14xeXxFrVRjvOoUYWn_GuyE-v84wVzrqr\" class=\"img-fluid\" alt=\"CLRWY\" width=\"400\" height=\"200\">"
   ]
  },
  {
   "cell_type": "markdown",
   "id": "0ecddc8c",
   "metadata": {},
   "source": [
    "<a id=\"toc\"></a>\n",
    "\n",
    "## <p style=\"background-color:#0D8D99; font-family:newtimeroman; color:#FFF9ED; font-size:175%; text-align:center; border-radius:10px 10px;\">Python Lab 4</p>"
   ]
  },
  {
   "cell_type": "markdown",
   "id": "c74365f6",
   "metadata": {},
   "source": [
    "<div class=\"alert alert-block alert-info\"><h1><p style=\"text-align: center; color:purple\">Assignment-6 (The Most Frequent Element)<br><br>Assignment-7 (Profit Calculator)<br><br>Mutable & Immutable ve Hashable kavramları<br><br>Dictionary oluşturma yöntemleri<br><br>Dictionary'yi keylerine göre sıralama</p>"
   ]
  },
  {
   "cell_type": "markdown",
   "id": "d3d8ad55",
   "metadata": {},
   "source": [
    "<a id=\"toc\"></a>\n",
    "\n",
    "### <p style=\"background-color:#9d4f8c; font-family:newtimeroman; color:#FFF9ED; font-size:175%; text-align:center; border-radius:10px 10px;\">Assignment-6 (The Most Frequent Element)</p>"
   ]
  },
  {
   "cell_type": "markdown",
   "id": "9659034f",
   "metadata": {},
   "source": [
    "<div class=\"alert alert-block alert-info\">\n",
    "<font color=red><b>Task :</b></font> \n",
    "<font color=purple><b>Find out the most frequent number and its frequency.</b></font><br><br>\n",
    "<font color=red>Note :</font>You may need to use useful/necessary <font color=red>built-in functions</font> and <font color=red>list</font>  methods other than the functions we haven't covered in the lessons yet.<br><br> \n",
    "<font color=darkblue>Write a program that;<br><br>\n",
    "Finds out the most frequent number in the given list.<br>\n",
    "Calculates its frequency.<br>\n",
    "Prints out the result such as :\n",
    "</font>"
   ]
  },
  {
   "attachments": {
    "image-2.png": {
     "image/png": "[encoded data removed]"
    }
   },
   "cell_type": "markdown",
   "id": "9fa70231",
   "metadata": {},
   "source": [
    "![image-2.png](attachment:image-2.png)"
   ]
  },
  {
   "cell_type": "code",
   "execution_count": 3,
   "id": "41896be2",
   "metadata": {},
   "outputs": [],
   "source": [
    "numbers = [1, 3, 7, 4, 6, 3, 0, 3, 6, 3, 7, 6 , 6]"
   ]
  },
  {
   "cell_type": "code",
   "execution_count": 5,
   "id": "260e40f5",
   "metadata": {},
   "outputs": [
    {
     "data": {
      "text/plain": [
       "7"
      ]
     },
     "execution_count": 5,
     "metadata": {},
     "output_type": "execute_result"
    }
   ],
   "source": [
    "max(numbers)"
   ]
  },
  {
   "cell_type": "code",
   "execution_count": 6,
   "id": "e47d3ba7",
   "metadata": {},
   "outputs": [
    {
     "data": {
      "text/plain": [
       "35"
      ]
     },
     "execution_count": 6,
     "metadata": {},
     "output_type": "execute_result"
    }
   ],
   "source": [
    "max(11, 8, 35)"
   ]
  },
  {
   "cell_type": "code",
   "execution_count": 7,
   "id": "3179ec38",
   "metadata": {},
   "outputs": [
    {
     "data": {
      "text/plain": [
       "'y'"
      ]
     },
     "execution_count": 7,
     "metadata": {},
     "output_type": "execute_result"
    }
   ],
   "source": [
    "max(\"clarusway\")"
   ]
  },
  {
   "cell_type": "code",
   "execution_count": 8,
   "id": "ca041c9d",
   "metadata": {},
   "outputs": [],
   "source": [
    "empty = []"
   ]
  },
  {
   "cell_type": "code",
   "execution_count": 9,
   "id": "a90694e8",
   "metadata": {},
   "outputs": [
    {
     "ename": "ValueError",
     "evalue": "max() arg is an empty sequence",
     "output_type": "error",
     "traceback": [
      "\u001b[1;31m---------------------------------------------------------------------------\u001b[0m",
      "\u001b[1;31mValueError\u001b[0m                                Traceback (most recent call last)",
      "Input \u001b[1;32mIn [9]\u001b[0m, in \u001b[0;36m<cell line: 1>\u001b[1;34m()\u001b[0m\n\u001b[1;32m----> 1\u001b[0m \u001b[38;5;28;43mmax\u001b[39;49m\u001b[43m(\u001b[49m\u001b[43mempty\u001b[49m\u001b[43m)\u001b[49m\n",
      "\u001b[1;31mValueError\u001b[0m: max() arg is an empty sequence"
     ]
    }
   ],
   "source": [
    "max(empty)"
   ]
  },
  {
   "cell_type": "code",
   "execution_count": 10,
   "id": "059252d1",
   "metadata": {},
   "outputs": [
    {
     "data": {
      "text/plain": [
       "'Boş'"
      ]
     },
     "execution_count": 10,
     "metadata": {},
     "output_type": "execute_result"
    }
   ],
   "source": [
    "max(empty, default = \"Boş\")"
   ]
  },
  {
   "cell_type": "code",
   "execution_count": 11,
   "id": "1065b948",
   "metadata": {},
   "outputs": [
    {
     "data": {
      "text/plain": [
       "True"
      ]
     },
     "execution_count": 11,
     "metadata": {},
     "output_type": "execute_result"
    }
   ],
   "source": [
    "max(empty, default = True)"
   ]
  },
  {
   "cell_type": "code",
   "execution_count": 13,
   "id": "39f90f7e",
   "metadata": {},
   "outputs": [],
   "source": [
    "sequence = [1, 1, 1, 1, 2, 2, 2, 3, 3, 4]"
   ]
  },
  {
   "cell_type": "code",
   "execution_count": 14,
   "id": "798bc4f8",
   "metadata": {},
   "outputs": [
    {
     "data": {
      "text/plain": [
       "4"
      ]
     },
     "execution_count": 14,
     "metadata": {},
     "output_type": "execute_result"
    }
   ],
   "source": [
    "max(sequence)"
   ]
  },
  {
   "cell_type": "code",
   "execution_count": 15,
   "id": "7b257384",
   "metadata": {},
   "outputs": [
    {
     "data": {
      "text/plain": [
       "1"
      ]
     },
     "execution_count": 15,
     "metadata": {},
     "output_type": "execute_result"
    }
   ],
   "source": [
    "sequence.count(4)"
   ]
  },
  {
   "cell_type": "code",
   "execution_count": 16,
   "id": "a3a7ca00",
   "metadata": {},
   "outputs": [
    {
     "data": {
      "text/plain": [
       "4"
      ]
     },
     "execution_count": 16,
     "metadata": {},
     "output_type": "execute_result"
    }
   ],
   "source": [
    "sequence.count(1)"
   ]
  },
  {
   "cell_type": "code",
   "execution_count": 17,
   "id": "cc20032f",
   "metadata": {},
   "outputs": [
    {
     "data": {
      "text/plain": [
       "[1, 3, 7, 4, 6, 3, 0, 3, 6, 3, 7, 6, 6]"
      ]
     },
     "execution_count": 17,
     "metadata": {},
     "output_type": "execute_result"
    }
   ],
   "source": [
    "numbers"
   ]
  },
  {
   "cell_type": "code",
   "execution_count": 18,
   "id": "505f2c9c",
   "metadata": {},
   "outputs": [
    {
     "data": {
      "text/plain": [
       "7"
      ]
     },
     "execution_count": 18,
     "metadata": {},
     "output_type": "execute_result"
    }
   ],
   "source": [
    "max(numbers)"
   ]
  },
  {
   "cell_type": "code",
   "execution_count": 19,
   "id": "c1a473ff",
   "metadata": {},
   "outputs": [
    {
     "data": {
      "text/plain": [
       "2"
      ]
     },
     "execution_count": 19,
     "metadata": {},
     "output_type": "execute_result"
    }
   ],
   "source": [
    "numbers.count(7)"
   ]
  },
  {
   "cell_type": "code",
   "execution_count": 20,
   "id": "d81ae79c",
   "metadata": {},
   "outputs": [
    {
     "data": {
      "text/plain": [
       "2"
      ]
     },
     "execution_count": 20,
     "metadata": {},
     "output_type": "execute_result"
    }
   ],
   "source": [
    "numbers.count(max(numbers))"
   ]
  },
  {
   "cell_type": "code",
   "execution_count": 21,
   "id": "a45b8182",
   "metadata": {},
   "outputs": [
    {
     "data": {
      "text/plain": [
       "[1, 3, 7, 4, 6, 3, 0, 3, 6, 3, 7, 6, 6]"
      ]
     },
     "execution_count": 21,
     "metadata": {},
     "output_type": "execute_result"
    }
   ],
   "source": [
    "numbers"
   ]
  },
  {
   "cell_type": "code",
   "execution_count": 22,
   "id": "ec7becf2",
   "metadata": {},
   "outputs": [
    {
     "data": {
      "text/plain": [
       "3"
      ]
     },
     "execution_count": 22,
     "metadata": {},
     "output_type": "execute_result"
    }
   ],
   "source": [
    "max(numbers, key = numbers.count)"
   ]
  },
  {
   "cell_type": "code",
   "execution_count": 23,
   "id": "2e1db97c",
   "metadata": {},
   "outputs": [],
   "source": [
    "maximum = max(numbers, key = numbers.count)\n",
    "\n",
    "cnt = numbers.count(max(numbers, key = numbers.count))"
   ]
  },
  {
   "cell_type": "code",
   "execution_count": 24,
   "id": "eee96b84",
   "metadata": {},
   "outputs": [
    {
     "name": "stdout",
     "output_type": "stream",
     "text": [
      "The most frequent number is 3 and it was 4 times repeated\n"
     ]
    }
   ],
   "source": [
    "print(f\"The most frequent number is {maximum} and it was {cnt} times repeated\")"
   ]
  },
  {
   "cell_type": "markdown",
   "id": "a6897281",
   "metadata": {},
   "source": [
    "## sorted() fonksiyonunun da \"key\" parametresi var."
   ]
  },
  {
   "cell_type": "code",
   "execution_count": 25,
   "id": "edf85019",
   "metadata": {},
   "outputs": [],
   "source": [
    "şehirler = [\"istanbul\", \"ağrı\", \"ankara\", \"van\"]"
   ]
  },
  {
   "cell_type": "code",
   "execution_count": 26,
   "id": "d3f1b3eb",
   "metadata": {},
   "outputs": [
    {
     "data": {
      "text/plain": [
       "['ankara', 'ağrı', 'istanbul', 'van']"
      ]
     },
     "execution_count": 26,
     "metadata": {},
     "output_type": "execute_result"
    }
   ],
   "source": [
    "sorted(şehirler)"
   ]
  },
  {
   "cell_type": "code",
   "execution_count": 27,
   "id": "26885420",
   "metadata": {},
   "outputs": [
    {
     "data": {
      "text/plain": [
       "['van', 'ağrı', 'ankara', 'istanbul']"
      ]
     },
     "execution_count": 27,
     "metadata": {},
     "output_type": "execute_result"
    }
   ],
   "source": [
    "sorted(şehirler, key = len)"
   ]
  },
  {
   "cell_type": "code",
   "execution_count": 28,
   "id": "d67c8696",
   "metadata": {},
   "outputs": [
    {
     "data": {
      "text/plain": [
       "['istanbul', 'ankara', 'ağrı', 'van']"
      ]
     },
     "execution_count": 28,
     "metadata": {},
     "output_type": "execute_result"
    }
   ],
   "source": [
    "sorted(şehirler, key = len, reverse = True )"
   ]
  },
  {
   "cell_type": "markdown",
   "id": "51a78c56",
   "metadata": {},
   "source": [
    "<a id=\"toc\"></a>\n",
    "\n",
    "### <p style=\"background-color:#9d4f8c; font-family:newtimeroman; color:#FFF9ED; font-size:175%; text-align:center; border-radius:10px 10px;\">Assignment-7 (Profit Calculator)</p>"
   ]
  },
  {
   "attachments": {
    "image.png": {
     "image/png": "[encoded data removed]"
    }
   },
   "cell_type": "markdown",
   "id": "a6993cea",
   "metadata": {},
   "source": [
    "![image.png](attachment:image.png)"
   ]
  },
  {
   "attachments": {
    "image.png": {
     "image/png": "[encoded data removed]"
    }
   },
   "cell_type": "markdown",
   "id": "088a580b",
   "metadata": {},
   "source": [
    "![image.png](attachment:image.png)"
   ]
  },
  {
   "cell_type": "markdown",
   "id": "da9b4960",
   "metadata": {},
   "source": [
    "# Task 1"
   ]
  },
  {
   "cell_type": "code",
   "execution_count": 29,
   "id": "0a405d95",
   "metadata": {},
   "outputs": [],
   "source": [
    "sales = {\n",
    "\n",
    "  \"cost_value\": 31.87,\n",
    "\n",
    "  \"sell_value\": 45.00,\n",
    "\n",
    "  \"inventory\": 1000\n",
    "\n",
    "}  "
   ]
  },
  {
   "cell_type": "code",
   "execution_count": 30,
   "id": "f5a3aeab",
   "metadata": {},
   "outputs": [
    {
     "data": {
      "text/plain": [
       "45.0"
      ]
     },
     "execution_count": 30,
     "metadata": {},
     "output_type": "execute_result"
    }
   ],
   "source": [
    "sales[\"sell_value\"]"
   ]
  },
  {
   "cell_type": "code",
   "execution_count": 31,
   "id": "461b9745",
   "metadata": {},
   "outputs": [
    {
     "data": {
      "text/plain": [
       "31.87"
      ]
     },
     "execution_count": 31,
     "metadata": {},
     "output_type": "execute_result"
    }
   ],
   "source": [
    "sales[\"cost_value\"]"
   ]
  },
  {
   "cell_type": "code",
   "execution_count": 32,
   "id": "24d9c38d",
   "metadata": {},
   "outputs": [
    {
     "data": {
      "text/plain": [
       "1000"
      ]
     },
     "execution_count": 32,
     "metadata": {},
     "output_type": "execute_result"
    }
   ],
   "source": [
    "sales[\"inventory\"]"
   ]
  },
  {
   "cell_type": "code",
   "execution_count": 36,
   "id": "27858cbd",
   "metadata": {},
   "outputs": [
    {
     "name": "stdout",
     "output_type": "stream",
     "text": [
      "13129.999999999998\n",
      "13130\n",
      "13130.0\n"
     ]
    }
   ],
   "source": [
    "total_profit = (sales[\"sell_value\"] - sales[\"cost_value\"]) * sales[\"inventory\"]\n",
    "\n",
    "print(total_profit)\n",
    "print(round(total_profit))\n",
    "print(round(total_profit, 2))"
   ]
  },
  {
   "cell_type": "markdown",
   "id": "84d80ed0",
   "metadata": {},
   "source": [
    "# Task 2"
   ]
  },
  {
   "cell_type": "code",
   "execution_count": 37,
   "id": "78c04c23",
   "metadata": {},
   "outputs": [],
   "source": [
    "payrolls = {\"first\" : 3, \n",
    "\n",
    "            \"second\": 29.99,\n",
    "\n",
    "            \"third\" : 4.1}"
   ]
  },
  {
   "cell_type": "code",
   "execution_count": 38,
   "id": "80be8ecc",
   "metadata": {},
   "outputs": [
    {
     "name": "stdout",
     "output_type": "stream",
     "text": [
      " $3.00 \n",
      " $29.99 \n",
      " $4.10 \n"
     ]
    }
   ],
   "source": [
    "print(\" ${:.2f} \".format(payrolls[\"first\"]))\n",
    "\n",
    "print(\" ${:.2f} \".format(payrolls[\"second\"]))\n",
    "\n",
    "print(\" ${:.2f} \".format(payrolls[\"third\"]))"
   ]
  },
  {
   "cell_type": "code",
   "execution_count": 40,
   "id": "9eec20a0",
   "metadata": {},
   "outputs": [
    {
     "name": "stdout",
     "output_type": "stream",
     "text": [
      "bir değer giriniz : 25.875\n",
      " $25.88 \n"
     ]
    }
   ],
   "source": [
    "payrolls = float(input(\"bir değer giriniz : \"))\n",
    "print(\" ${:.2f} \".format(payrolls))"
   ]
  },
  {
   "cell_type": "markdown",
   "id": "2a219933",
   "metadata": {},
   "source": [
    "<a id=\"toc\"></a>\n",
    "\n",
    "### <p style=\"background-color:#9d4f8c; font-family:newtimeroman; color:#FFF9ED; font-size:175%; text-align:center; border-radius:10px 10px;\">Mutable & Immutable ve Hashable kavramları</p>"
   ]
  },
  {
   "cell_type": "markdown",
   "id": "1b18aa23",
   "metadata": {},
   "source": [
    "Python'da IMMUTABLE nesneler, zamanla değerlerini ve niteliklerini değiştirmeyen nesnelerdir.\n",
    "\n",
    "Bu nesneler bir kere oluşturulduktan sonra kalıcı hale gelirler.\n",
    "\n",
    "MUTABLE nesneler ise; doğası gereği yerinde değiştirilebilen veya üzerinde düzenleme yapılabilen nesnelerdir.\n",
    "\n",
    "Bir nesne ömrü boyunca değişmeyen bir HASH değerine sahipse ona HASHABLE nesne deriz. \n",
    "    \n",
    "Integer, string, tuple gibi IMMUTABLE nesneler, değişmeyen bir HASH değerine sahiptir.\n",
    "    \n",
    "HASHABLE; bir nesnenin bir hash değerine sahip olup olmadığını söyleyen Python nesnelerinin bir özelliğidir."
   ]
  },
  {
   "cell_type": "markdown",
   "id": "d8ea1a42",
   "metadata": {},
   "source": [
    "# mutable & immutable"
   ]
  },
  {
   "cell_type": "markdown",
   "id": "10a73567",
   "metadata": {},
   "source": [
    "```\n",
    "mutable:\n",
    "\n",
    "list \n",
    "dictionary \n",
    "set \n",
    "user-defined classes\n",
    "```"
   ]
  },
  {
   "cell_type": "markdown",
   "id": "f0cf7721",
   "metadata": {},
   "source": [
    "```\n",
    "immutable:\n",
    "\n",
    "int \n",
    "float \n",
    "decimal \n",
    "bool \n",
    "string \n",
    "tuple\n",
    "range\n",
    "```"
   ]
  },
  {
   "cell_type": "markdown",
   "id": "ce80d4ad",
   "metadata": {},
   "source": [
    "# hash() fonksiyonu:\n",
    "\n",
    "**hash() fonksiyonu; hashable olan bir objectin \"hash\" değerini döndürür (return eder).**"
   ]
  },
  {
   "cell_type": "code",
   "execution_count": 41,
   "id": "7e23ad57",
   "metadata": {},
   "outputs": [
    {
     "data": {
      "text/plain": [
       "10"
      ]
     },
     "execution_count": 41,
     "metadata": {},
     "output_type": "execute_result"
    }
   ],
   "source": [
    "sayı = 10\n",
    "\n",
    "hash(sayı)"
   ]
  },
  {
   "cell_type": "code",
   "execution_count": 42,
   "id": "e52e33a6",
   "metadata": {},
   "outputs": [
    {
     "data": {
      "text/plain": [
       "-2826955105034270594"
      ]
     },
     "execution_count": 42,
     "metadata": {},
     "output_type": "execute_result"
    }
   ],
   "source": [
    "hash(\"10\")"
   ]
  },
  {
   "cell_type": "code",
   "execution_count": 43,
   "id": "85d0e9f9",
   "metadata": {},
   "outputs": [
    {
     "data": {
      "text/plain": [
       "-7528905430803619287"
      ]
     },
     "execution_count": 43,
     "metadata": {},
     "output_type": "execute_result"
    }
   ],
   "source": [
    "hash(\"c\")"
   ]
  },
  {
   "cell_type": "code",
   "execution_count": 44,
   "id": "85f14974",
   "metadata": {},
   "outputs": [
    {
     "data": {
      "text/plain": [
       "2230757716366288543"
      ]
     },
     "execution_count": 44,
     "metadata": {},
     "output_type": "execute_result"
    }
   ],
   "source": [
    "hash(\"clarusway\")"
   ]
  },
  {
   "cell_type": "code",
   "execution_count": 45,
   "id": "5ec4780e",
   "metadata": {},
   "outputs": [],
   "source": [
    "a = \"10\""
   ]
  },
  {
   "cell_type": "code",
   "execution_count": 46,
   "id": "62b56f5c",
   "metadata": {},
   "outputs": [
    {
     "data": {
      "text/plain": [
       "-2826955105034270594"
      ]
     },
     "execution_count": 46,
     "metadata": {},
     "output_type": "execute_result"
    }
   ],
   "source": [
    "hash(a)"
   ]
  },
  {
   "cell_type": "code",
   "execution_count": 47,
   "id": "8ea46b03",
   "metadata": {},
   "outputs": [],
   "source": [
    "listem = [10, 20, 30]"
   ]
  },
  {
   "cell_type": "code",
   "execution_count": 48,
   "id": "b710b790",
   "metadata": {},
   "outputs": [
    {
     "ename": "TypeError",
     "evalue": "unhashable type: 'list'",
     "output_type": "error",
     "traceback": [
      "\u001b[1;31m---------------------------------------------------------------------------\u001b[0m",
      "\u001b[1;31mTypeError\u001b[0m                                 Traceback (most recent call last)",
      "Input \u001b[1;32mIn [48]\u001b[0m, in \u001b[0;36m<cell line: 1>\u001b[1;34m()\u001b[0m\n\u001b[1;32m----> 1\u001b[0m \u001b[38;5;28;43mhash\u001b[39;49m\u001b[43m(\u001b[49m\u001b[43mlistem\u001b[49m\u001b[43m)\u001b[49m\n",
      "\u001b[1;31mTypeError\u001b[0m: unhashable type: 'list'"
     ]
    }
   ],
   "source": [
    "hash(listem)  # list object'ler unhashable'dır. Hash değerleri yoktur. Değiştirilebilirler."
   ]
  },
  {
   "cell_type": "code",
   "execution_count": 49,
   "id": "3f70d199",
   "metadata": {},
   "outputs": [
    {
     "name": "stdout",
     "output_type": "stream",
     "text": [
      "the tuple hash value is : -5659871693760987716\n"
     ]
    },
    {
     "ename": "TypeError",
     "evalue": "unhashable type: 'list'",
     "output_type": "error",
     "traceback": [
      "\u001b[1;31m---------------------------------------------------------------------------\u001b[0m",
      "\u001b[1;31mTypeError\u001b[0m                                 Traceback (most recent call last)",
      "Input \u001b[1;32mIn [49]\u001b[0m, in \u001b[0;36m<cell line: 8>\u001b[1;34m()\u001b[0m\n\u001b[0;32m      3\u001b[0m listem \u001b[38;5;241m=\u001b[39m [\u001b[38;5;241m1\u001b[39m, \u001b[38;5;241m2\u001b[39m, \u001b[38;5;241m3\u001b[39m, \u001b[38;5;241m4\u001b[39m, \u001b[38;5;241m5\u001b[39m]\n\u001b[0;32m      6\u001b[0m \u001b[38;5;28mprint\u001b[39m(\u001b[38;5;124m\"\u001b[39m\u001b[38;5;124mthe tuple hash value is : \u001b[39m\u001b[38;5;124m\"\u001b[39m \u001b[38;5;241m+\u001b[39m \u001b[38;5;28mstr\u001b[39m(\u001b[38;5;28mhash\u001b[39m(tupılım)))\n\u001b[1;32m----> 8\u001b[0m \u001b[38;5;28mprint\u001b[39m(\u001b[38;5;124m\"\u001b[39m\u001b[38;5;124mthe list hash value is : \u001b[39m\u001b[38;5;124m\"\u001b[39m \u001b[38;5;241m+\u001b[39m \u001b[38;5;28mstr\u001b[39m(\u001b[38;5;28;43mhash\u001b[39;49m\u001b[43m(\u001b[49m\u001b[43mlistem\u001b[49m\u001b[43m)\u001b[49m))\n",
      "\u001b[1;31mTypeError\u001b[0m: unhashable type: 'list'"
     ]
    }
   ],
   "source": [
    "tupılım = (1, 2, 3, 4, 5)\n",
    "\n",
    "listem = [1, 2, 3, 4, 5]\n",
    "\n",
    "\n",
    "print(\"the tuple hash value is : \" + str(hash(tupılım)))\n",
    "\n",
    "print(\"the list hash value is : \" + str(hash(listem)))  # type hatası verecek!"
   ]
  },
  {
   "cell_type": "code",
   "execution_count": 1,
   "id": "20db7e2c",
   "metadata": {},
   "outputs": [
    {
     "data": {
      "text/plain": [
       "-4582959206032632983"
      ]
     },
     "execution_count": 1,
     "metadata": {},
     "output_type": "execute_result"
    }
   ],
   "source": [
    "# kernel'i (runtime'ı) restart ettikten sonra \"10\" stringinin hash değeri değişir.\n",
    "\n",
    "hash(\"10\")  \n",
    "\n",
    "# Değişken vs. herşey runtime'ınızın çalışma süresi boyunca hafızada tutulur. \n",
    "# Runtime'ınızı resetlediğinizde hafıza tamamen boşalır."
   ]
  },
  {
   "cell_type": "markdown",
   "id": "b8cb4865",
   "metadata": {},
   "source": [
    "## Bir object'in bir \"hash\" değeri varsa (hashable ise), o object değiştirilemez olduğundan bir dictionary'nin \"key\" i veya bir kümenin (set) bir elemanı olarak kullanılabilir."
   ]
  },
  {
   "cell_type": "code",
   "execution_count": 2,
   "id": "312db3f2",
   "metadata": {},
   "outputs": [
    {
     "name": "stdout",
     "output_type": "stream",
     "text": [
      "{'friend1': {'name': 'Ali', 'age': 35, 'is_student': True, 'assgnmnt_grades': [8, 8, 9]}, 'friend2': {'name': 'Deli', 'age': 38, 'is_student': True, 'assgnmnt_grades': [9, 9, 10]}, 'friend3': {'name': 'Veli', 'age': 40, 'is_student': False, 'assgnmnt_grades': [10, 10, 10]}}\n"
     ]
    }
   ],
   "source": [
    "friends = {\n",
    "    \"friend1\" : {\"name\" : \"Ali\", \n",
    "                 \"age\" : 35, \n",
    "                 \"is_student\" : True,\n",
    "                 \"assgnmnt_grades\" : [8, 8, 9]},\n",
    "    \n",
    "    \"friend2\" : {\"name\" : \n",
    "                 \"Deli\", \n",
    "                 \"age\" : 38, \n",
    "                 \"is_student\" : True,\n",
    "                \"assgnmnt_grades\" : [9, 9, 10]},\n",
    "    \n",
    "    \"friend3\" : {\"name\" : \n",
    "                 \"Veli\", \n",
    "                 \"age\" : 40, \n",
    "                 \"is_student\" : False,\n",
    "                \"assgnmnt_grades\" : [10, 10, 10]}\n",
    "}\n",
    "\n",
    "print(friends)"
   ]
  },
  {
   "cell_type": "code",
   "execution_count": 6,
   "id": "77fe8682",
   "metadata": {},
   "outputs": [
    {
     "data": {
      "text/plain": [
       "[9, 9, 10]"
      ]
     },
     "execution_count": 6,
     "metadata": {},
     "output_type": "execute_result"
    }
   ],
   "source": [
    "friends[\"friend2\"][\"assgnmnt_grades\"]"
   ]
  },
  {
   "cell_type": "code",
   "execution_count": 7,
   "id": "c23f3af9",
   "metadata": {},
   "outputs": [
    {
     "data": {
      "text/plain": [
       "{(1, 2, 3): 'value'}"
      ]
     },
     "execution_count": 7,
     "metadata": {},
     "output_type": "execute_result"
    }
   ],
   "source": [
    "sözlük = {}\n",
    "\n",
    "key1 = (1,2,3)\n",
    "\n",
    "sözlük[key1] = \"value\"\n",
    "\n",
    "sözlük"
   ]
  },
  {
   "cell_type": "code",
   "execution_count": 8,
   "id": "403f28de",
   "metadata": {},
   "outputs": [
    {
     "data": {
      "text/plain": [
       "{(1, 2, 3): 'value', 45: 'value2'}"
      ]
     },
     "execution_count": 8,
     "metadata": {},
     "output_type": "execute_result"
    }
   ],
   "source": [
    "key2 = 45\n",
    "\n",
    "sözlük[key2] = \"value2\"\n",
    "\n",
    "sözlük"
   ]
  },
  {
   "cell_type": "code",
   "execution_count": 9,
   "id": "25a1717d",
   "metadata": {},
   "outputs": [
    {
     "data": {
      "text/plain": [
       "{(1, 2, 3): 'value', 45: 'value2', 'Fuad': 'value'}"
      ]
     },
     "execution_count": 9,
     "metadata": {},
     "output_type": "execute_result"
    }
   ],
   "source": [
    "key3 = \"Fuad\"\n",
    "\n",
    "sözlük[key3] = \"value\"\n",
    "\n",
    "sözlük"
   ]
  },
  {
   "cell_type": "code",
   "execution_count": 10,
   "id": "270402c6",
   "metadata": {},
   "outputs": [
    {
     "ename": "TypeError",
     "evalue": "unhashable type: 'list'",
     "output_type": "error",
     "traceback": [
      "\u001b[1;31m---------------------------------------------------------------------------\u001b[0m",
      "\u001b[1;31mTypeError\u001b[0m                                 Traceback (most recent call last)",
      "Input \u001b[1;32mIn [10]\u001b[0m, in \u001b[0;36m<cell line: 3>\u001b[1;34m()\u001b[0m\n\u001b[0;32m      1\u001b[0m key4 \u001b[38;5;241m=\u001b[39m [\u001b[38;5;241m1\u001b[39m, \u001b[38;5;241m2\u001b[39m, \u001b[38;5;241m3\u001b[39m]\n\u001b[1;32m----> 3\u001b[0m sözlük[key4] \u001b[38;5;241m=\u001b[39m \u001b[38;5;124m\"\u001b[39m\u001b[38;5;124mvalue\u001b[39m\u001b[38;5;124m\"\u001b[39m\n",
      "\u001b[1;31mTypeError\u001b[0m: unhashable type: 'list'"
     ]
    }
   ],
   "source": [
    "key4 = [1, 2, 3]\n",
    "\n",
    "sözlük[key4] = \"value\"  # string object'ler unhashable'dır. Hash değerleri yoktur. \n",
    "                        # Değiştirilebilirler."
   ]
  },
  {
   "cell_type": "code",
   "execution_count": 11,
   "id": "2cbe8df2",
   "metadata": {},
   "outputs": [
    {
     "ename": "TypeError",
     "evalue": "unhashable type: 'dict'",
     "output_type": "error",
     "traceback": [
      "\u001b[1;31m---------------------------------------------------------------------------\u001b[0m",
      "\u001b[1;31mTypeError\u001b[0m                                 Traceback (most recent call last)",
      "Input \u001b[1;32mIn [11]\u001b[0m, in \u001b[0;36m<cell line: 3>\u001b[1;34m()\u001b[0m\n\u001b[0;32m      1\u001b[0m key5 \u001b[38;5;241m=\u001b[39m {\u001b[38;5;124m\"\u001b[39m\u001b[38;5;124ma\u001b[39m\u001b[38;5;124m\"\u001b[39m : \u001b[38;5;241m1\u001b[39m, \u001b[38;5;124m\"\u001b[39m\u001b[38;5;124mb\u001b[39m\u001b[38;5;124m\"\u001b[39m : \u001b[38;5;241m2\u001b[39m}\n\u001b[1;32m----> 3\u001b[0m sözlük[key5] \u001b[38;5;241m=\u001b[39m \u001b[38;5;124m\"\u001b[39m\u001b[38;5;124mvalue\u001b[39m\u001b[38;5;124m\"\u001b[39m\n",
      "\u001b[1;31mTypeError\u001b[0m: unhashable type: 'dict'"
     ]
    }
   ],
   "source": [
    "key5 = {\"a\" : 1, \"b\" : 2}\n",
    "\n",
    "sözlük[key5] = \"value\"   # dictionary object'ler unhashable'dır. Hash değerleri yoktur. \n",
    "                        # Değiştirilebilirler."
   ]
  },
  {
   "cell_type": "markdown",
   "id": "c66c4275",
   "metadata": {},
   "source": [
    "<a id=\"toc\"></a>\n",
    "\n",
    "### <p style=\"background-color:#9d4f8c; font-family:newtimeroman; color:#FFF9ED; font-size:175%; text-align:center; border-radius:10px 10px;\">Dictionary oluşturma yöntemleri</p>"
   ]
  },
  {
   "cell_type": "markdown",
   "id": "600466e4",
   "metadata": {},
   "source": [
    "## dict() fonksiyonu, içine dictionary item formatında (pair - pair) veri girildiğinde onu dictionary'e çevirir."
   ]
  },
  {
   "cell_type": "code",
   "execution_count": 14,
   "id": "c9b5b8f0",
   "metadata": {},
   "outputs": [
    {
     "data": {
      "text/plain": [
       "{'bir': 1, 'iki': 'iki', 'üç': 3.0}"
      ]
     },
     "execution_count": 14,
     "metadata": {},
     "output_type": "execute_result"
    }
   ],
   "source": [
    "dict(bir = 1, iki = \"iki\", üç = 3.0)\n",
    "\n",
    "# değişken ataması yaparak dictionary oluşturduk.\n",
    "# değişken ataması yaparken değişkenlere isim verme kurallarına uymamız gerekiyor.\n",
    "# aksi halde hata alırız."
   ]
  },
  {
   "cell_type": "code",
   "execution_count": 26,
   "id": "9995a825",
   "metadata": {},
   "outputs": [
    {
     "ename": "SyntaxError",
     "evalue": "expression cannot contain assignment, perhaps you meant \"==\"? (1712960116.py, line 1)",
     "output_type": "error",
     "traceback": [
      "\u001b[1;36m  Input \u001b[1;32mIn [26]\u001b[1;36m\u001b[0m\n\u001b[1;33m    dict(\"bir\" = 1, 2 = \"iki\", üç% = 3.0)\u001b[0m\n\u001b[1;37m         ^\u001b[0m\n\u001b[1;31mSyntaxError\u001b[0m\u001b[1;31m:\u001b[0m expression cannot contain assignment, perhaps you meant \"==\"?\n"
     ]
    }
   ],
   "source": [
    "dict(\"bir\" = 1, 2 = \"iki\", üç% = 3.0)  \n",
    "# key isimleri olacak değişkenlere uygun olmayan isimler verildi"
   ]
  },
  {
   "cell_type": "markdown",
   "id": "dc0d6ef2",
   "metadata": {},
   "source": [
    "## İkişer elemanlı tuple'lardan oluşan bir liste ile dictionary create edebiliriz."
   ]
  },
  {
   "cell_type": "code",
   "execution_count": 15,
   "id": "8599947f",
   "metadata": {},
   "outputs": [
    {
     "name": "stdout",
     "output_type": "stream",
     "text": [
      "{'a': 'A', 'b': 'B', 'c': 'C'}\n"
     ]
    }
   ],
   "source": [
    "listoftuple = [(\"a\", \"A\"), (\"b\", \"B\"), (\"c\", \"C\")]\n",
    "\n",
    "tuples_dict = dict(listoftuple)\n",
    "\n",
    "print(tuples_dict)"
   ]
  },
  {
   "cell_type": "markdown",
   "id": "ce5e187f",
   "metadata": {},
   "source": [
    "## Düz listeden (plain list) dictionay yapma yöntemi:"
   ]
  },
  {
   "cell_type": "code",
   "execution_count": 16,
   "id": "816460cd",
   "metadata": {},
   "outputs": [],
   "source": [
    "düzlistem = [1,2,3,4,5]     düzlistem = [1,2,3,4,5]"
   ]
  },
  {
   "cell_type": "code",
   "execution_count": 17,
   "id": "f0bcdbd4",
   "metadata": {},
   "outputs": [
    {
     "data": {
      "text/plain": [
       "<zip at 0x283d0cc61c0>"
      ]
     },
     "execution_count": 17,
     "metadata": {},
     "output_type": "execute_result"
    }
   ],
   "source": [
    "zip(düzlistem, düzlistem)   # zip fonksiyonun docstringine bakınız! \n",
    "\n",
    "# zip, iki iterable'ın karşılıklı elemanlarını bir tuple'da bir araya getirerek\n",
    "# havada bir zip object generate eder."
   ]
  },
  {
   "cell_type": "code",
   "execution_count": 19,
   "id": "5e2df9c8",
   "metadata": {},
   "outputs": [
    {
     "data": {
      "text/plain": [
       "[(1, 1), (2, 2), (3, 3), (4, 4), (5, 5)]"
      ]
     },
     "execution_count": 19,
     "metadata": {},
     "output_type": "execute_result"
    }
   ],
   "source": [
    "zip_list = zip(düzlistem, düzlistem)  \n",
    "# aynı iki listeyi zip'in içine atarak zip object oluşturduk.\n",
    "\n",
    "list(zip_list) # havada zip object'i görünür yapmak için onu listeye çevirebiliriz."
   ]
  },
  {
   "cell_type": "code",
   "execution_count": 20,
   "id": "4c205ac9",
   "metadata": {},
   "outputs": [
    {
     "data": {
      "text/plain": [
       "[]"
      ]
     },
     "execution_count": 20,
     "metadata": {},
     "output_type": "execute_result"
    }
   ],
   "source": [
    "list(zip_list)  \n",
    "# zip fonk. ile generate edilen zip object'in elemanları \n",
    " # görünür yapılıp bir kere kullanıldığında zip object boşalır. "
   ]
  },
  {
   "cell_type": "code",
   "execution_count": 21,
   "id": "d70181ad",
   "metadata": {},
   "outputs": [
    {
     "data": {
      "text/plain": [
       "[(1, 1), (2, 2), (3, 3), (4, 4), (5, 5)]"
      ]
     },
     "execution_count": 21,
     "metadata": {},
     "output_type": "execute_result"
    }
   ],
   "source": [
    "# zip object'i tekrar generate etmeliyiz\n",
    "\n",
    "zip_list = zip(düzlistem, düzlistem)  \n",
    "\n",
    "list(zip_list)"
   ]
  },
  {
   "cell_type": "code",
   "execution_count": 22,
   "id": "49e4839a",
   "metadata": {},
   "outputs": [
    {
     "name": "stdout",
     "output_type": "stream",
     "text": [
      "(1, 1) (2, 2) (3, 3) (4, 4) (5, 5)\n"
     ]
    }
   ],
   "source": [
    "zip_list = zip(düzlistem, düzlistem)\n",
    "\n",
    "print(*zip_list)  # print ( * zip object) syntax'i de zip object'i görünür yapar."
   ]
  },
  {
   "cell_type": "code",
   "execution_count": 23,
   "id": "b6358e27",
   "metadata": {},
   "outputs": [
    {
     "name": "stdout",
     "output_type": "stream",
     "text": [
      "\n"
     ]
    }
   ],
   "source": [
    "print(*zip_list)  # generate edildikten sonra print(* ) ile görünür yapılan \n",
    "                # zip object boşaldı."
   ]
  },
  {
   "cell_type": "code",
   "execution_count": 24,
   "id": "d9a4cd41",
   "metadata": {},
   "outputs": [
    {
     "data": {
      "text/plain": [
       "{1: 1, 2: 2, 3: 3, 4: 4, 5: 5}"
      ]
     },
     "execution_count": 24,
     "metadata": {},
     "output_type": "execute_result"
    }
   ],
   "source": [
    "zip_list = zip(düzlistem, düzlistem)\n",
    "\n",
    "dict(list(zip_list))  # pair pair tuple'lardan oluşan listeden bir dictionary oluşturabiliyoruz."
   ]
  },
  {
   "cell_type": "code",
   "execution_count": 25,
   "id": "a17ed290",
   "metadata": {},
   "outputs": [
    {
     "data": {
      "text/plain": [
       "{0: 0,\n",
       " 1: 1,\n",
       " 2: 2,\n",
       " 3: 3,\n",
       " 4: 4,\n",
       " 5: 5,\n",
       " 6: 6,\n",
       " 7: 7,\n",
       " 8: 8,\n",
       " 9: 9,\n",
       " 10: 10,\n",
       " 11: 11,\n",
       " 12: 12,\n",
       " 13: 13,\n",
       " 14: 14,\n",
       " 15: 15,\n",
       " 16: 16,\n",
       " 17: 17,\n",
       " 18: 18,\n",
       " 19: 19,\n",
       " 20: 20,\n",
       " 21: 21,\n",
       " 22: 22,\n",
       " 23: 23,\n",
       " 24: 24,\n",
       " 25: 25,\n",
       " 26: 26,\n",
       " 27: 27,\n",
       " 28: 28,\n",
       " 29: 29,\n",
       " 30: 30,\n",
       " 31: 31,\n",
       " 32: 32,\n",
       " 33: 33,\n",
       " 34: 34,\n",
       " 35: 35,\n",
       " 36: 36,\n",
       " 37: 37,\n",
       " 38: 38,\n",
       " 39: 39,\n",
       " 40: 40,\n",
       " 41: 41,\n",
       " 42: 42,\n",
       " 43: 43,\n",
       " 44: 44,\n",
       " 45: 45,\n",
       " 46: 46,\n",
       " 47: 47,\n",
       " 48: 48,\n",
       " 49: 49,\n",
       " 50: 50,\n",
       " 51: 51,\n",
       " 52: 52,\n",
       " 53: 53,\n",
       " 54: 54,\n",
       " 55: 55,\n",
       " 56: 56,\n",
       " 57: 57,\n",
       " 58: 58,\n",
       " 59: 59,\n",
       " 60: 60,\n",
       " 61: 61,\n",
       " 62: 62,\n",
       " 63: 63,\n",
       " 64: 64,\n",
       " 65: 65,\n",
       " 66: 66,\n",
       " 67: 67,\n",
       " 68: 68,\n",
       " 69: 69,\n",
       " 70: 70,\n",
       " 71: 71,\n",
       " 72: 72,\n",
       " 73: 73,\n",
       " 74: 74,\n",
       " 75: 75,\n",
       " 76: 76,\n",
       " 77: 77,\n",
       " 78: 78,\n",
       " 79: 79,\n",
       " 80: 80,\n",
       " 81: 81,\n",
       " 82: 82,\n",
       " 83: 83,\n",
       " 84: 84,\n",
       " 85: 85,\n",
       " 86: 86,\n",
       " 87: 87,\n",
       " 88: 88,\n",
       " 89: 89,\n",
       " 90: 90,\n",
       " 91: 91,\n",
       " 92: 92,\n",
       " 93: 93,\n",
       " 94: 94,\n",
       " 95: 95,\n",
       " 96: 96,\n",
       " 97: 97,\n",
       " 98: 98,\n",
       " 99: 99,\n",
       " 100: 100,\n",
       " 101: 101,\n",
       " 102: 102,\n",
       " 103: 103,\n",
       " 104: 104,\n",
       " 105: 105,\n",
       " 106: 106,\n",
       " 107: 107,\n",
       " 108: 108,\n",
       " 109: 109,\n",
       " 110: 110,\n",
       " 111: 111,\n",
       " 112: 112,\n",
       " 113: 113,\n",
       " 114: 114,\n",
       " 115: 115,\n",
       " 116: 116,\n",
       " 117: 117,\n",
       " 118: 118,\n",
       " 119: 119,\n",
       " 120: 120,\n",
       " 121: 121,\n",
       " 122: 122,\n",
       " 123: 123,\n",
       " 124: 124,\n",
       " 125: 125,\n",
       " 126: 126,\n",
       " 127: 127,\n",
       " 128: 128,\n",
       " 129: 129,\n",
       " 130: 130,\n",
       " 131: 131,\n",
       " 132: 132,\n",
       " 133: 133,\n",
       " 134: 134,\n",
       " 135: 135,\n",
       " 136: 136,\n",
       " 137: 137,\n",
       " 138: 138,\n",
       " 139: 139,\n",
       " 140: 140,\n",
       " 141: 141,\n",
       " 142: 142,\n",
       " 143: 143,\n",
       " 144: 144,\n",
       " 145: 145,\n",
       " 146: 146,\n",
       " 147: 147,\n",
       " 148: 148,\n",
       " 149: 149,\n",
       " 150: 150,\n",
       " 151: 151,\n",
       " 152: 152,\n",
       " 153: 153,\n",
       " 154: 154,\n",
       " 155: 155,\n",
       " 156: 156,\n",
       " 157: 157,\n",
       " 158: 158,\n",
       " 159: 159,\n",
       " 160: 160,\n",
       " 161: 161,\n",
       " 162: 162,\n",
       " 163: 163,\n",
       " 164: 164,\n",
       " 165: 165,\n",
       " 166: 166,\n",
       " 167: 167,\n",
       " 168: 168,\n",
       " 169: 169,\n",
       " 170: 170,\n",
       " 171: 171,\n",
       " 172: 172,\n",
       " 173: 173,\n",
       " 174: 174,\n",
       " 175: 175,\n",
       " 176: 176,\n",
       " 177: 177,\n",
       " 178: 178,\n",
       " 179: 179,\n",
       " 180: 180,\n",
       " 181: 181,\n",
       " 182: 182,\n",
       " 183: 183,\n",
       " 184: 184,\n",
       " 185: 185,\n",
       " 186: 186,\n",
       " 187: 187,\n",
       " 188: 188,\n",
       " 189: 189,\n",
       " 190: 190,\n",
       " 191: 191,\n",
       " 192: 192,\n",
       " 193: 193,\n",
       " 194: 194,\n",
       " 195: 195,\n",
       " 196: 196,\n",
       " 197: 197,\n",
       " 198: 198,\n",
       " 199: 199,\n",
       " 200: 200,\n",
       " 201: 201,\n",
       " 202: 202,\n",
       " 203: 203,\n",
       " 204: 204,\n",
       " 205: 205,\n",
       " 206: 206,\n",
       " 207: 207,\n",
       " 208: 208,\n",
       " 209: 209,\n",
       " 210: 210,\n",
       " 211: 211,\n",
       " 212: 212,\n",
       " 213: 213,\n",
       " 214: 214,\n",
       " 215: 215,\n",
       " 216: 216,\n",
       " 217: 217,\n",
       " 218: 218,\n",
       " 219: 219,\n",
       " 220: 220,\n",
       " 221: 221,\n",
       " 222: 222,\n",
       " 223: 223,\n",
       " 224: 224,\n",
       " 225: 225,\n",
       " 226: 226,\n",
       " 227: 227,\n",
       " 228: 228,\n",
       " 229: 229,\n",
       " 230: 230,\n",
       " 231: 231,\n",
       " 232: 232,\n",
       " 233: 233,\n",
       " 234: 234,\n",
       " 235: 235,\n",
       " 236: 236,\n",
       " 237: 237,\n",
       " 238: 238,\n",
       " 239: 239,\n",
       " 240: 240,\n",
       " 241: 241,\n",
       " 242: 242,\n",
       " 243: 243,\n",
       " 244: 244,\n",
       " 245: 245,\n",
       " 246: 246,\n",
       " 247: 247,\n",
       " 248: 248,\n",
       " 249: 249,\n",
       " 250: 250,\n",
       " 251: 251,\n",
       " 252: 252,\n",
       " 253: 253,\n",
       " 254: 254,\n",
       " 255: 255,\n",
       " 256: 256,\n",
       " 257: 257,\n",
       " 258: 258,\n",
       " 259: 259,\n",
       " 260: 260,\n",
       " 261: 261,\n",
       " 262: 262,\n",
       " 263: 263,\n",
       " 264: 264,\n",
       " 265: 265,\n",
       " 266: 266,\n",
       " 267: 267,\n",
       " 268: 268,\n",
       " 269: 269,\n",
       " 270: 270,\n",
       " 271: 271,\n",
       " 272: 272,\n",
       " 273: 273,\n",
       " 274: 274,\n",
       " 275: 275,\n",
       " 276: 276,\n",
       " 277: 277,\n",
       " 278: 278,\n",
       " 279: 279,\n",
       " 280: 280,\n",
       " 281: 281,\n",
       " 282: 282,\n",
       " 283: 283,\n",
       " 284: 284,\n",
       " 285: 285,\n",
       " 286: 286,\n",
       " 287: 287,\n",
       " 288: 288,\n",
       " 289: 289,\n",
       " 290: 290,\n",
       " 291: 291,\n",
       " 292: 292,\n",
       " 293: 293,\n",
       " 294: 294,\n",
       " 295: 295,\n",
       " 296: 296,\n",
       " 297: 297,\n",
       " 298: 298,\n",
       " 299: 299,\n",
       " 300: 300,\n",
       " 301: 301,\n",
       " 302: 302,\n",
       " 303: 303,\n",
       " 304: 304,\n",
       " 305: 305,\n",
       " 306: 306,\n",
       " 307: 307,\n",
       " 308: 308,\n",
       " 309: 309,\n",
       " 310: 310,\n",
       " 311: 311,\n",
       " 312: 312,\n",
       " 313: 313,\n",
       " 314: 314,\n",
       " 315: 315,\n",
       " 316: 316,\n",
       " 317: 317,\n",
       " 318: 318,\n",
       " 319: 319,\n",
       " 320: 320,\n",
       " 321: 321,\n",
       " 322: 322,\n",
       " 323: 323,\n",
       " 324: 324,\n",
       " 325: 325,\n",
       " 326: 326,\n",
       " 327: 327,\n",
       " 328: 328,\n",
       " 329: 329,\n",
       " 330: 330,\n",
       " 331: 331,\n",
       " 332: 332,\n",
       " 333: 333,\n",
       " 334: 334,\n",
       " 335: 335,\n",
       " 336: 336,\n",
       " 337: 337,\n",
       " 338: 338,\n",
       " 339: 339,\n",
       " 340: 340,\n",
       " 341: 341,\n",
       " 342: 342,\n",
       " 343: 343,\n",
       " 344: 344,\n",
       " 345: 345,\n",
       " 346: 346,\n",
       " 347: 347,\n",
       " 348: 348,\n",
       " 349: 349,\n",
       " 350: 350,\n",
       " 351: 351,\n",
       " 352: 352,\n",
       " 353: 353,\n",
       " 354: 354,\n",
       " 355: 355,\n",
       " 356: 356,\n",
       " 357: 357,\n",
       " 358: 358,\n",
       " 359: 359,\n",
       " 360: 360,\n",
       " 361: 361,\n",
       " 362: 362,\n",
       " 363: 363,\n",
       " 364: 364,\n",
       " 365: 365,\n",
       " 366: 366,\n",
       " 367: 367,\n",
       " 368: 368,\n",
       " 369: 369,\n",
       " 370: 370,\n",
       " 371: 371,\n",
       " 372: 372,\n",
       " 373: 373,\n",
       " 374: 374,\n",
       " 375: 375,\n",
       " 376: 376,\n",
       " 377: 377,\n",
       " 378: 378,\n",
       " 379: 379,\n",
       " 380: 380,\n",
       " 381: 381,\n",
       " 382: 382,\n",
       " 383: 383,\n",
       " 384: 384,\n",
       " 385: 385,\n",
       " 386: 386,\n",
       " 387: 387,\n",
       " 388: 388,\n",
       " 389: 389,\n",
       " 390: 390,\n",
       " 391: 391,\n",
       " 392: 392,\n",
       " 393: 393,\n",
       " 394: 394,\n",
       " 395: 395,\n",
       " 396: 396,\n",
       " 397: 397,\n",
       " 398: 398,\n",
       " 399: 399,\n",
       " 400: 400,\n",
       " 401: 401,\n",
       " 402: 402,\n",
       " 403: 403,\n",
       " 404: 404,\n",
       " 405: 405,\n",
       " 406: 406,\n",
       " 407: 407,\n",
       " 408: 408,\n",
       " 409: 409,\n",
       " 410: 410,\n",
       " 411: 411,\n",
       " 412: 412,\n",
       " 413: 413,\n",
       " 414: 414,\n",
       " 415: 415,\n",
       " 416: 416,\n",
       " 417: 417,\n",
       " 418: 418,\n",
       " 419: 419,\n",
       " 420: 420,\n",
       " 421: 421,\n",
       " 422: 422,\n",
       " 423: 423,\n",
       " 424: 424,\n",
       " 425: 425,\n",
       " 426: 426,\n",
       " 427: 427,\n",
       " 428: 428,\n",
       " 429: 429,\n",
       " 430: 430,\n",
       " 431: 431,\n",
       " 432: 432,\n",
       " 433: 433,\n",
       " 434: 434,\n",
       " 435: 435,\n",
       " 436: 436,\n",
       " 437: 437,\n",
       " 438: 438,\n",
       " 439: 439,\n",
       " 440: 440,\n",
       " 441: 441,\n",
       " 442: 442,\n",
       " 443: 443,\n",
       " 444: 444,\n",
       " 445: 445,\n",
       " 446: 446,\n",
       " 447: 447,\n",
       " 448: 448,\n",
       " 449: 449,\n",
       " 450: 450,\n",
       " 451: 451,\n",
       " 452: 452,\n",
       " 453: 453,\n",
       " 454: 454,\n",
       " 455: 455,\n",
       " 456: 456,\n",
       " 457: 457,\n",
       " 458: 458,\n",
       " 459: 459,\n",
       " 460: 460,\n",
       " 461: 461,\n",
       " 462: 462,\n",
       " 463: 463,\n",
       " 464: 464,\n",
       " 465: 465,\n",
       " 466: 466,\n",
       " 467: 467,\n",
       " 468: 468,\n",
       " 469: 469,\n",
       " 470: 470,\n",
       " 471: 471,\n",
       " 472: 472,\n",
       " 473: 473,\n",
       " 474: 474,\n",
       " 475: 475,\n",
       " 476: 476,\n",
       " 477: 477,\n",
       " 478: 478,\n",
       " 479: 479,\n",
       " 480: 480,\n",
       " 481: 481,\n",
       " 482: 482,\n",
       " 483: 483,\n",
       " 484: 484,\n",
       " 485: 485,\n",
       " 486: 486,\n",
       " 487: 487,\n",
       " 488: 488,\n",
       " 489: 489,\n",
       " 490: 490,\n",
       " 491: 491,\n",
       " 492: 492,\n",
       " 493: 493,\n",
       " 494: 494,\n",
       " 495: 495,\n",
       " 496: 496,\n",
       " 497: 497,\n",
       " 498: 498,\n",
       " 499: 499,\n",
       " 500: 500,\n",
       " 501: 501,\n",
       " 502: 502,\n",
       " 503: 503,\n",
       " 504: 504,\n",
       " 505: 505,\n",
       " 506: 506,\n",
       " 507: 507,\n",
       " 508: 508,\n",
       " 509: 509,\n",
       " 510: 510,\n",
       " 511: 511,\n",
       " 512: 512,\n",
       " 513: 513,\n",
       " 514: 514,\n",
       " 515: 515,\n",
       " 516: 516,\n",
       " 517: 517,\n",
       " 518: 518,\n",
       " 519: 519,\n",
       " 520: 520,\n",
       " 521: 521,\n",
       " 522: 522,\n",
       " 523: 523,\n",
       " 524: 524,\n",
       " 525: 525,\n",
       " 526: 526,\n",
       " 527: 527,\n",
       " 528: 528,\n",
       " 529: 529,\n",
       " 530: 530,\n",
       " 531: 531,\n",
       " 532: 532,\n",
       " 533: 533,\n",
       " 534: 534,\n",
       " 535: 535,\n",
       " 536: 536,\n",
       " 537: 537,\n",
       " 538: 538,\n",
       " 539: 539,\n",
       " 540: 540,\n",
       " 541: 541,\n",
       " 542: 542,\n",
       " 543: 543,\n",
       " 544: 544,\n",
       " 545: 545,\n",
       " 546: 546,\n",
       " 547: 547,\n",
       " 548: 548,\n",
       " 549: 549,\n",
       " 550: 550,\n",
       " 551: 551,\n",
       " 552: 552,\n",
       " 553: 553,\n",
       " 554: 554,\n",
       " 555: 555,\n",
       " 556: 556,\n",
       " 557: 557,\n",
       " 558: 558,\n",
       " 559: 559,\n",
       " 560: 560,\n",
       " 561: 561,\n",
       " 562: 562,\n",
       " 563: 563,\n",
       " 564: 564,\n",
       " 565: 565,\n",
       " 566: 566,\n",
       " 567: 567,\n",
       " 568: 568,\n",
       " 569: 569,\n",
       " 570: 570,\n",
       " 571: 571,\n",
       " 572: 572,\n",
       " 573: 573,\n",
       " 574: 574,\n",
       " 575: 575,\n",
       " 576: 576,\n",
       " 577: 577,\n",
       " 578: 578,\n",
       " 579: 579,\n",
       " 580: 580,\n",
       " 581: 581,\n",
       " 582: 582,\n",
       " 583: 583,\n",
       " 584: 584,\n",
       " 585: 585,\n",
       " 586: 586,\n",
       " 587: 587,\n",
       " 588: 588,\n",
       " 589: 589,\n",
       " 590: 590,\n",
       " 591: 591,\n",
       " 592: 592,\n",
       " 593: 593,\n",
       " 594: 594,\n",
       " 595: 595,\n",
       " 596: 596,\n",
       " 597: 597,\n",
       " 598: 598,\n",
       " 599: 599,\n",
       " 600: 600,\n",
       " 601: 601,\n",
       " 602: 602,\n",
       " 603: 603,\n",
       " 604: 604,\n",
       " 605: 605,\n",
       " 606: 606,\n",
       " 607: 607,\n",
       " 608: 608,\n",
       " 609: 609,\n",
       " 610: 610,\n",
       " 611: 611,\n",
       " 612: 612,\n",
       " 613: 613,\n",
       " 614: 614,\n",
       " 615: 615,\n",
       " 616: 616,\n",
       " 617: 617,\n",
       " 618: 618,\n",
       " 619: 619,\n",
       " 620: 620,\n",
       " 621: 621,\n",
       " 622: 622,\n",
       " 623: 623,\n",
       " 624: 624,\n",
       " 625: 625,\n",
       " 626: 626,\n",
       " 627: 627,\n",
       " 628: 628,\n",
       " 629: 629,\n",
       " 630: 630,\n",
       " 631: 631,\n",
       " 632: 632,\n",
       " 633: 633,\n",
       " 634: 634,\n",
       " 635: 635,\n",
       " 636: 636,\n",
       " 637: 637,\n",
       " 638: 638,\n",
       " 639: 639,\n",
       " 640: 640,\n",
       " 641: 641,\n",
       " 642: 642,\n",
       " 643: 643,\n",
       " 644: 644,\n",
       " 645: 645,\n",
       " 646: 646,\n",
       " 647: 647,\n",
       " 648: 648,\n",
       " 649: 649,\n",
       " 650: 650,\n",
       " 651: 651,\n",
       " 652: 652,\n",
       " 653: 653,\n",
       " 654: 654,\n",
       " 655: 655,\n",
       " 656: 656,\n",
       " 657: 657,\n",
       " 658: 658,\n",
       " 659: 659,\n",
       " 660: 660,\n",
       " 661: 661,\n",
       " 662: 662,\n",
       " 663: 663,\n",
       " 664: 664,\n",
       " 665: 665,\n",
       " 666: 666,\n",
       " 667: 667,\n",
       " 668: 668,\n",
       " 669: 669,\n",
       " 670: 670,\n",
       " 671: 671,\n",
       " 672: 672,\n",
       " 673: 673,\n",
       " 674: 674,\n",
       " 675: 675,\n",
       " 676: 676,\n",
       " 677: 677,\n",
       " 678: 678,\n",
       " 679: 679,\n",
       " 680: 680,\n",
       " 681: 681,\n",
       " 682: 682,\n",
       " 683: 683,\n",
       " 684: 684,\n",
       " 685: 685,\n",
       " 686: 686,\n",
       " 687: 687,\n",
       " 688: 688,\n",
       " 689: 689,\n",
       " 690: 690,\n",
       " 691: 691,\n",
       " 692: 692,\n",
       " 693: 693,\n",
       " 694: 694,\n",
       " 695: 695,\n",
       " 696: 696,\n",
       " 697: 697,\n",
       " 698: 698,\n",
       " 699: 699,\n",
       " 700: 700,\n",
       " 701: 701,\n",
       " 702: 702,\n",
       " 703: 703,\n",
       " 704: 704,\n",
       " 705: 705,\n",
       " 706: 706,\n",
       " 707: 707,\n",
       " 708: 708,\n",
       " 709: 709,\n",
       " 710: 710,\n",
       " 711: 711,\n",
       " 712: 712,\n",
       " 713: 713,\n",
       " 714: 714,\n",
       " 715: 715,\n",
       " 716: 716,\n",
       " 717: 717,\n",
       " 718: 718,\n",
       " 719: 719,\n",
       " 720: 720,\n",
       " 721: 721,\n",
       " 722: 722,\n",
       " 723: 723,\n",
       " 724: 724,\n",
       " 725: 725,\n",
       " 726: 726,\n",
       " 727: 727,\n",
       " 728: 728,\n",
       " 729: 729,\n",
       " 730: 730,\n",
       " 731: 731,\n",
       " 732: 732,\n",
       " 733: 733,\n",
       " 734: 734,\n",
       " 735: 735,\n",
       " 736: 736,\n",
       " 737: 737,\n",
       " 738: 738,\n",
       " 739: 739,\n",
       " 740: 740,\n",
       " 741: 741,\n",
       " 742: 742,\n",
       " 743: 743,\n",
       " 744: 744,\n",
       " 745: 745,\n",
       " 746: 746,\n",
       " 747: 747,\n",
       " 748: 748,\n",
       " 749: 749,\n",
       " 750: 750,\n",
       " 751: 751,\n",
       " 752: 752,\n",
       " 753: 753,\n",
       " 754: 754,\n",
       " 755: 755,\n",
       " 756: 756,\n",
       " 757: 757,\n",
       " 758: 758,\n",
       " 759: 759,\n",
       " 760: 760,\n",
       " 761: 761,\n",
       " 762: 762,\n",
       " 763: 763,\n",
       " 764: 764,\n",
       " 765: 765,\n",
       " 766: 766,\n",
       " 767: 767,\n",
       " 768: 768,\n",
       " 769: 769,\n",
       " 770: 770,\n",
       " 771: 771,\n",
       " 772: 772,\n",
       " 773: 773,\n",
       " 774: 774,\n",
       " 775: 775,\n",
       " 776: 776,\n",
       " 777: 777,\n",
       " 778: 778,\n",
       " 779: 779,\n",
       " 780: 780,\n",
       " 781: 781,\n",
       " 782: 782,\n",
       " 783: 783,\n",
       " 784: 784,\n",
       " 785: 785,\n",
       " 786: 786,\n",
       " 787: 787,\n",
       " 788: 788,\n",
       " 789: 789,\n",
       " 790: 790,\n",
       " 791: 791,\n",
       " 792: 792,\n",
       " 793: 793,\n",
       " 794: 794,\n",
       " 795: 795,\n",
       " 796: 796,\n",
       " 797: 797,\n",
       " 798: 798,\n",
       " 799: 799,\n",
       " 800: 800,\n",
       " 801: 801,\n",
       " 802: 802,\n",
       " 803: 803,\n",
       " 804: 804,\n",
       " 805: 805,\n",
       " 806: 806,\n",
       " 807: 807,\n",
       " 808: 808,\n",
       " 809: 809,\n",
       " 810: 810,\n",
       " 811: 811,\n",
       " 812: 812,\n",
       " 813: 813,\n",
       " 814: 814,\n",
       " 815: 815,\n",
       " 816: 816,\n",
       " 817: 817,\n",
       " 818: 818,\n",
       " 819: 819,\n",
       " 820: 820,\n",
       " 821: 821,\n",
       " 822: 822,\n",
       " 823: 823,\n",
       " 824: 824,\n",
       " 825: 825,\n",
       " 826: 826,\n",
       " 827: 827,\n",
       " 828: 828,\n",
       " 829: 829,\n",
       " 830: 830,\n",
       " 831: 831,\n",
       " 832: 832,\n",
       " 833: 833,\n",
       " 834: 834,\n",
       " 835: 835,\n",
       " 836: 836,\n",
       " 837: 837,\n",
       " 838: 838,\n",
       " 839: 839,\n",
       " 840: 840,\n",
       " 841: 841,\n",
       " 842: 842,\n",
       " 843: 843,\n",
       " 844: 844,\n",
       " 845: 845,\n",
       " 846: 846,\n",
       " 847: 847,\n",
       " 848: 848,\n",
       " 849: 849,\n",
       " 850: 850,\n",
       " 851: 851,\n",
       " 852: 852,\n",
       " 853: 853,\n",
       " 854: 854,\n",
       " 855: 855,\n",
       " 856: 856,\n",
       " 857: 857,\n",
       " 858: 858,\n",
       " 859: 859,\n",
       " 860: 860,\n",
       " 861: 861,\n",
       " 862: 862,\n",
       " 863: 863,\n",
       " 864: 864,\n",
       " 865: 865,\n",
       " 866: 866,\n",
       " 867: 867,\n",
       " 868: 868,\n",
       " 869: 869,\n",
       " 870: 870,\n",
       " 871: 871,\n",
       " 872: 872,\n",
       " 873: 873,\n",
       " 874: 874,\n",
       " 875: 875,\n",
       " 876: 876,\n",
       " 877: 877,\n",
       " 878: 878,\n",
       " 879: 879,\n",
       " 880: 880,\n",
       " 881: 881,\n",
       " 882: 882,\n",
       " 883: 883,\n",
       " 884: 884,\n",
       " 885: 885,\n",
       " 886: 886,\n",
       " 887: 887,\n",
       " 888: 888,\n",
       " 889: 889,\n",
       " 890: 890,\n",
       " 891: 891,\n",
       " 892: 892,\n",
       " 893: 893,\n",
       " 894: 894,\n",
       " 895: 895,\n",
       " 896: 896,\n",
       " 897: 897,\n",
       " 898: 898,\n",
       " 899: 899,\n",
       " 900: 900,\n",
       " 901: 901,\n",
       " 902: 902,\n",
       " 903: 903,\n",
       " 904: 904,\n",
       " 905: 905,\n",
       " 906: 906,\n",
       " 907: 907,\n",
       " 908: 908,\n",
       " 909: 909,\n",
       " 910: 910,\n",
       " 911: 911,\n",
       " 912: 912,\n",
       " 913: 913,\n",
       " 914: 914,\n",
       " 915: 915,\n",
       " 916: 916,\n",
       " 917: 917,\n",
       " 918: 918,\n",
       " 919: 919,\n",
       " 920: 920,\n",
       " 921: 921,\n",
       " 922: 922,\n",
       " 923: 923,\n",
       " 924: 924,\n",
       " 925: 925,\n",
       " 926: 926,\n",
       " 927: 927,\n",
       " 928: 928,\n",
       " 929: 929,\n",
       " 930: 930,\n",
       " 931: 931,\n",
       " 932: 932,\n",
       " 933: 933,\n",
       " 934: 934,\n",
       " 935: 935,\n",
       " 936: 936,\n",
       " 937: 937,\n",
       " 938: 938,\n",
       " 939: 939,\n",
       " 940: 940,\n",
       " 941: 941,\n",
       " 942: 942,\n",
       " 943: 943,\n",
       " 944: 944,\n",
       " 945: 945,\n",
       " 946: 946,\n",
       " 947: 947,\n",
       " 948: 948,\n",
       " 949: 949,\n",
       " 950: 950,\n",
       " 951: 951,\n",
       " 952: 952,\n",
       " 953: 953,\n",
       " 954: 954,\n",
       " 955: 955,\n",
       " 956: 956,\n",
       " 957: 957,\n",
       " 958: 958,\n",
       " 959: 959,\n",
       " 960: 960,\n",
       " 961: 961,\n",
       " 962: 962,\n",
       " 963: 963,\n",
       " 964: 964,\n",
       " 965: 965,\n",
       " 966: 966,\n",
       " 967: 967,\n",
       " 968: 968,\n",
       " 969: 969,\n",
       " 970: 970,\n",
       " 971: 971,\n",
       " 972: 972,\n",
       " 973: 973,\n",
       " 974: 974,\n",
       " 975: 975,\n",
       " 976: 976,\n",
       " 977: 977,\n",
       " 978: 978,\n",
       " 979: 979,\n",
       " 980: 980,\n",
       " 981: 981,\n",
       " 982: 982,\n",
       " 983: 983,\n",
       " 984: 984,\n",
       " 985: 985,\n",
       " 986: 986,\n",
       " 987: 987,\n",
       " 988: 988,\n",
       " 989: 989,\n",
       " 990: 990,\n",
       " 991: 991,\n",
       " 992: 992,\n",
       " 993: 993,\n",
       " 994: 994,\n",
       " 995: 995,\n",
       " 996: 996,\n",
       " 997: 997,\n",
       " 998: 998,\n",
       " 999: 999}"
      ]
     },
     "execution_count": 25,
     "metadata": {},
     "output_type": "execute_result"
    }
   ],
   "source": [
    "# sonradan key ve value'ları doldurulmak üzere elimizde uzun bir dictionary hazır bulunmasını\n",
    "# istiyorsak bu yöntemle onu oluşturabiliriz.\n",
    "\n",
    "basitliste2 = list(range(1000))\n",
    "dict(list(zip(basitliste2, basitliste2)))"
   ]
  },
  {
   "cell_type": "markdown",
   "id": "40717eb6",
   "metadata": {},
   "source": [
    "<a id=\"toc\"></a>\n",
    "\n",
    "### <p style=\"background-color:#9d4f8c; font-family:newtimeroman; color:#FFF9ED; font-size:175%; text-align:center; border-radius:10px 10px;\">Dictionary'yi keylerine göre sıralama</p>"
   ]
  },
  {
   "cell_type": "code",
   "execution_count": 29,
   "id": "dd42cc0a",
   "metadata": {},
   "outputs": [],
   "source": [
    "# bunun için desserts dictionary'si üzerinden ilerleyelim: \n",
    "\n",
    "desserts = {\n",
    "    \"Ice cream\":10,\n",
    "    \"Brownies\":12,\n",
    "    \"Cheesecake\":3,\n",
    "    \"Swiss roll\":5,\n",
    "    \"Cookies\":4,\n",
    "    \"Cup cake\":2\n",
    "}"
   ]
  },
  {
   "cell_type": "code",
   "execution_count": 30,
   "id": "e49aa25e",
   "metadata": {},
   "outputs": [
    {
     "name": "stdout",
     "output_type": "stream",
     "text": [
      "dict_keys(['Ice cream', 'Brownies', 'Cheesecake', 'Swiss roll', 'Cookies', 'Cup cake'])\n"
     ]
    }
   ],
   "source": [
    "# önce keylerine ulaşalım:\n",
    "\n",
    "keys = desserts.keys()\n",
    "print(keys)"
   ]
  },
  {
   "cell_type": "markdown",
   "id": "6d2a209d",
   "metadata": {},
   "source": [
    "**sorted() fonksiyonu ile bu dict_keys listesini sıralayabiliriz:**"
   ]
  },
  {
   "cell_type": "code",
   "execution_count": 32,
   "id": "43af55e0",
   "metadata": {},
   "outputs": [
    {
     "name": "stdout",
     "output_type": "stream",
     "text": [
      "['Brownies', 'Cheesecake', 'Cookies', 'Cup cake', 'Ice cream', 'Swiss roll']\n"
     ]
    }
   ],
   "source": [
    "sorted_keys = sorted(keys)  # sıralanmış key'leri sorted_keys değişkenine atadık.\n",
    "# sorted_keys = sorted(desserts.keys())\n",
    "\n",
    "print(sorted_keys)\n",
    "\n",
    "# Artık alfabetik olarak sıralanmış key'lerimiz var. "
   ]
  },
  {
   "cell_type": "code",
   "execution_count": 33,
   "id": "f399d880",
   "metadata": {},
   "outputs": [
    {
     "data": {
      "text/plain": [
       "{'Brownies': 12}"
      ]
     },
     "execution_count": 33,
     "metadata": {},
     "output_type": "execute_result"
    }
   ],
   "source": [
    "# sıralanmış olan key'lerden yeni bir dictionary oluşturmak istiyorum.\n",
    "# böylece eski dict.'mi keylerine göre sıralamış olacağım.\n",
    "\n",
    "sorted_desserts={}  # önce boş bir dict. oluşturuyorum.\n",
    "\n",
    "sorted_desserts[\"Brownies\"] = desserts[\"Brownies\"] \n",
    "\n",
    "# sorted_keys listesine bakarak belirlediğim eski dictionarimin (alfabetik olarak) \n",
    "# ilk sıradaki key'ini sorted_desserts isimli yeni dict'ime ekledim.\n",
    "\n",
    "sorted_desserts"
   ]
  },
  {
   "cell_type": "code",
   "execution_count": 34,
   "id": "7dddf6ea",
   "metadata": {},
   "outputs": [
    {
     "data": {
      "text/plain": [
       "{'Brownies': 12, 'Cheesecake': 3}"
      ]
     },
     "execution_count": 34,
     "metadata": {},
     "output_type": "execute_result"
    }
   ],
   "source": [
    "# eski dictionarimin alfabetik olarak ikinci sıradaki keyinden; \n",
    "# yeni dict'imin ikinci key-value çiftini oluşturuyorum.\n",
    "\n",
    "sorted_desserts[\"Cheesecake\"] = desserts[\"Cheesecake\"] \n",
    "sorted_desserts"
   ]
  },
  {
   "cell_type": "code",
   "execution_count": 35,
   "id": "fed1e612",
   "metadata": {},
   "outputs": [
    {
     "data": {
      "text/plain": [
       "{'Brownies': 12, 'Cheesecake': 3, 'Cookies': 4}"
      ]
     },
     "execution_count": 35,
     "metadata": {},
     "output_type": "execute_result"
    }
   ],
   "source": [
    "# eski dictionarimin alfabetik olarak 3. sıradaki keyinden; \n",
    "# yeni dict'imin 3. key-value çiftini oluşturuyorum\n",
    "\n",
    "sorted_desserts[\"Cookies\"] = desserts[\"Cookies\"] \n",
    "sorted_desserts"
   ]
  },
  {
   "cell_type": "code",
   "execution_count": 36,
   "id": "baaf81de",
   "metadata": {},
   "outputs": [
    {
     "data": {
      "text/plain": [
       "{'Brownies': 12, 'Cheesecake': 3, 'Cookies': 4, 'Cup cake': 2}"
      ]
     },
     "execution_count": 36,
     "metadata": {},
     "output_type": "execute_result"
    }
   ],
   "source": [
    "# eski dictionarimin alfabetik olarak 4. sıradaki keyinden; \n",
    "# yeni dict'imin 4. key-value çiftini oluşturuyorum.\n",
    "\n",
    "sorted_desserts[\"Cup cake\"] = desserts[\"Cup cake\"]\n",
    "sorted_desserts"
   ]
  },
  {
   "cell_type": "code",
   "execution_count": 37,
   "id": "74954cad",
   "metadata": {},
   "outputs": [
    {
     "data": {
      "text/plain": [
       "{'Brownies': 12, 'Cheesecake': 3, 'Cookies': 4, 'Cup cake': 2, 'Ice cream': 10}"
      ]
     },
     "execution_count": 37,
     "metadata": {},
     "output_type": "execute_result"
    }
   ],
   "source": [
    "# ve bu şekilde devam ediyorum.\n",
    "\n",
    "sorted_desserts[\"Ice cream\"] = desserts[\"Ice cream\"] \n",
    "sorted_desserts"
   ]
  },
  {
   "cell_type": "code",
   "execution_count": 38,
   "id": "1abacb29",
   "metadata": {},
   "outputs": [
    {
     "data": {
      "text/plain": [
       "{'Brownies': 12,\n",
       " 'Cheesecake': 3,\n",
       " 'Cookies': 4,\n",
       " 'Cup cake': 2,\n",
       " 'Ice cream': 10,\n",
       " 'Swiss roll': 5}"
      ]
     },
     "execution_count": 38,
     "metadata": {},
     "output_type": "execute_result"
    }
   ],
   "source": [
    "# yeni dict'imin son item'ını da oluşturuyorum.\n",
    "\n",
    "sorted_desserts[\"Swiss roll\"] = desserts[\"Swiss roll\"] \n",
    "sorted_desserts"
   ]
  },
  {
   "cell_type": "raw",
   "id": "c5816be9",
   "metadata": {},
   "source": [
    "Bu şekilde keyleri manuel olarak sıraya koysam da bunun kısa bir yolu olmalı.\n",
    "böyle tek tek manuel olarak atama yapmak yerine (dictionarinin onbinlerce key-value çiftinden oluştuğunu hayal edin) döngüleri kullanarak çok daha pratik olarak bunu yapabiliyoruz. \n",
    "\n",
    "for döngüleri konusuna ilerde gireceğiz. şimdilik döngülerin hayatımızı nasıl kolaylaştırdığını anlamak için aşağıdaki koda bakma yeterli. "
   ]
  },
  {
   "cell_type": "code",
   "execution_count": 74,
   "id": "d8900452",
   "metadata": {},
   "outputs": [
    {
     "name": "stdout",
     "output_type": "stream",
     "text": [
      "{'Brownies': 12, 'Cheesecake': 3, 'Cookies': 4, 'Cup cake': 2, 'Ice cream': 10, 'Swiss roll': 5}\n"
     ]
    }
   ],
   "source": [
    "sorted_desserts = {}  \n",
    "for key in sorted_keys:  # sorted_keys listesi içinde dolaş.\n",
    "    sorted_desserts[key] = desserts[key]  # her iterasyonda yeni sorted_desserts dict.in key'lerini oluştur.\n",
    "                                # value'ları keylere atarken orjinal desserts dictionarisinin keylerini kullan. \n",
    "print(sorted_desserts)"
   ]
  },
  {
   "attachments": {
    "image-2.png": {
     "image/png": "[encoded data removed]"
    }
   },
   "cell_type": "markdown",
   "id": "37c6a1fa",
   "metadata": {},
   "source": [
    "![image-2.png](attachment:image-2.png)"
   ]
  },
  {
   "cell_type": "markdown",
   "id": "124381fa",
   "metadata": {},
   "source": [
    "<img src=\"https://docs.google.com/uc?id=14xeXxFrVRjvOoUYWn_GuyE-v84wVzrqr\" class=\"img-fluid\" alt=\"CLRWY\" width=\"400\" height=\"200\">"
   ]
  }
 ],
 "metadata": {
  "kernelspec": {
   "display_name": "Python 3 (ipykernel)",
   "language": "python",
   "name": "python3"
  },
  "language_info": {
   "codemirror_mode": {
    "name": "ipython",
    "version": 3
   },
   "file_extension": ".py",
   "mimetype": "text/x-python",
   "name": "python",
   "nbconvert_exporter": "python",
   "pygments_lexer": "ipython3",
   "version": "3.9.12"
  }
 },
 "nbformat": 4,
 "nbformat_minor": 5
}
