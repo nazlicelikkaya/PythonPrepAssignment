{
 "cells": [
  {
   "cell_type": "markdown",
   "id": "29d60b78",
   "metadata": {},
   "source": [
    "<img src=\"https://docs.google.com/uc?id=14xeXxFrVRjvOoUYWn_GuyE-v84wVzrqr\" class=\"img-fluid\" alt=\"CLRWY\" width=\"400\" height=\"200\">"
   ]
  },
  {
   "cell_type": "markdown",
   "id": "97d2a08c",
   "metadata": {},
   "source": [
    "<a id=\"toc\"></a>\n",
    "\n",
    "### <p style=\"background-color:#0D8D99; font-family:newtimeroman; color:#FFF9ED; font-size:175%; text-align:center; border-radius:10px 10px;\">Python Session-18 (7 Nov 2022)</p>"
   ]
  },
  {
   "cell_type": "markdown",
   "id": "2a056995",
   "metadata": {},
   "source": [
    "#### <div class=\"alert alert-block alert-info\"><h1><p style=\"text-align: center; color:purple\"> Lambda Functions </p> "
   ]
  },
  {
   "cell_type": "markdown",
   "id": "71e9c513",
   "metadata": {},
   "source": [
    "**Python official documentation 1 - Lambda Functions:https://docs.python.org/3/tutorial/controlflow.html#lambda-expressions**\n",
    "\n",
    "**Link2 - Python Lambda: https://www.w3schools.com/python/python_lambda.asp**\n",
    "\n",
    "**Link3 - Python Lambda Functions: https://www.geeksforgeeks.org/python-lambda-anonymous-functions-filter-map-reduce/**\n",
    "\n",
    "**Link4 - Lambda functions with practical examples in python :https://towardsdatascience.com/lambda-functions-with-practical-examples-in-python-45934f3653a8**"
   ]
  },
  {
   "cell_type": "markdown",
   "id": "4fb2806b",
   "metadata": {},
   "source": [
    "<a id=\"toc\"></a>\n",
    "\n",
    "### <p style=\"background-color:#9d4f8c; font-family:newtimeroman; color:#FFF9ED; font-size:175%; text-align:center; border-radius:10px 10px;\">Lambda Functions</p>"
   ]
  },
  {
   "cell_type": "code",
   "execution_count": 1,
   "id": "a5538318",
   "metadata": {},
   "outputs": [
    {
     "data": {
      "text/plain": [
       "<function __main__.<lambda>(x)>"
      ]
     },
     "execution_count": 1,
     "metadata": {},
     "output_type": "execute_result"
    }
   ],
   "source": [
    "lambda x : \"odd\" if x % 2 != 0 else \"even\""
   ]
  },
  {
   "cell_type": "code",
   "execution_count": 2,
   "id": "2b5f55f2",
   "metadata": {},
   "outputs": [
    {
     "data": {
      "text/plain": [
       "'even'"
      ]
     },
     "execution_count": 2,
     "metadata": {},
     "output_type": "execute_result"
    }
   ],
   "source": [
    "# 1. use\n",
    "\n",
    "(lambda x : \"odd\" if x % 2 != 0 else \"even\")(4) "
   ]
  },
  {
   "cell_type": "code",
   "execution_count": 16,
   "id": "fe30b4e3",
   "metadata": {},
   "outputs": [],
   "source": [
    "# 2. use\n",
    "\n",
    "odd_even = (lambda x : \"odd\" if x % 2 != 0 else \"even\")"
   ]
  },
  {
   "cell_type": "code",
   "execution_count": 17,
   "id": "6eb9669f",
   "metadata": {},
   "outputs": [
    {
     "data": {
      "text/plain": [
       "<function __main__.<lambda>(x)>"
      ]
     },
     "execution_count": 17,
     "metadata": {},
     "output_type": "execute_result"
    }
   ],
   "source": [
    "odd_even"
   ]
  },
  {
   "cell_type": "code",
   "execution_count": 18,
   "id": "b8164452",
   "metadata": {},
   "outputs": [
    {
     "data": {
      "text/plain": [
       "'odd'"
      ]
     },
     "execution_count": 18,
     "metadata": {},
     "output_type": "execute_result"
    }
   ],
   "source": [
    "odd_even(3)"
   ]
  },
  {
   "cell_type": "code",
   "execution_count": 19,
   "id": "40620ece",
   "metadata": {},
   "outputs": [],
   "source": [
    "odd_even_arg = (lambda x : \"odd\" if x % 2 != 0 else \"even\")(4)"
   ]
  },
  {
   "cell_type": "code",
   "execution_count": 20,
   "id": "dad0c7d8",
   "metadata": {},
   "outputs": [
    {
     "data": {
      "text/plain": [
       "'even'"
      ]
     },
     "execution_count": 20,
     "metadata": {},
     "output_type": "execute_result"
    }
   ],
   "source": [
    "odd_even_arg"
   ]
  },
  {
   "cell_type": "code",
   "execution_count": 22,
   "id": "d5ae6a12",
   "metadata": {},
   "outputs": [
    {
     "name": "stdout",
     "output_type": "stream",
     "text": [
      "4.0\n"
     ]
    }
   ],
   "source": [
    "print((lambda x, y : (x + y)/2)(3, 5))"
   ]
  },
  {
   "cell_type": "code",
   "execution_count": 23,
   "id": "00340e4c",
   "metadata": {},
   "outputs": [
    {
     "name": "stdout",
     "output_type": "stream",
     "text": [
      "4.0\n"
     ]
    }
   ],
   "source": [
    "average = (lambda x, y : (x + y)/2)\n",
    "\n",
    "print(average(3,5))"
   ]
  },
  {
   "cell_type": "code",
   "execution_count": 24,
   "id": "4dd60f37",
   "metadata": {},
   "outputs": [
    {
     "name": "stdout",
     "output_type": "stream",
     "text": [
      "4.0\n"
     ]
    }
   ],
   "source": [
    "average = (lambda x, y : (x + y)/2)(3, 5)\n",
    "\n",
    "print(average)"
   ]
  },
  {
   "cell_type": "markdown",
   "id": "039fffef",
   "metadata": {},
   "source": [
    "### Task"
   ]
  },
  {
   "cell_type": "code",
   "execution_count": 6,
   "id": "735ec0a0",
   "metadata": {},
   "outputs": [
    {
     "data": {
      "text/plain": [
       "'ila'"
      ]
     },
     "execution_count": 6,
     "metadata": {},
     "output_type": "execute_result"
    }
   ],
   "source": [
    "\"ali\"[::-1]"
   ]
  },
  {
   "cell_type": "code",
   "execution_count": 7,
   "id": "a6afe1e1",
   "metadata": {},
   "outputs": [
    {
     "data": {
      "text/plain": [
       "'ila'"
      ]
     },
     "execution_count": 7,
     "metadata": {},
     "output_type": "execute_result"
    }
   ],
   "source": [
    "(lambda x :x[::-1])(\"ali\")"
   ]
  },
  {
   "cell_type": "code",
   "execution_count": 8,
   "id": "257b36ad",
   "metadata": {},
   "outputs": [
    {
     "data": {
      "text/plain": [
       "[7, 5, 3, 1]"
      ]
     },
     "execution_count": 8,
     "metadata": {},
     "output_type": "execute_result"
    }
   ],
   "source": [
    "(lambda x :x[::-1])([1,3,5,7])"
   ]
  },
  {
   "cell_type": "markdown",
   "id": "476e8775",
   "metadata": {},
   "source": [
    "### Task"
   ]
  },
  {
   "cell_type": "code",
   "execution_count": 11,
   "id": "9e9831e1",
   "metadata": {},
   "outputs": [
    {
     "name": "stdout",
     "output_type": "stream",
     "text": [
      "1 : odd\n",
      "2 : even\n",
      "3 : odd\n",
      "4 : even\n",
      "5 : odd\n",
      "6 : even\n"
     ]
    }
   ],
   "source": [
    "sayılar = [1,2,3,4,5,6]\n",
    "\n",
    "for i in sayılar:\n",
    "    print(i, \":\", (lambda x : \"odd\" if x % 2 != 0 else \"even\")(i)) "
   ]
  },
  {
   "cell_type": "markdown",
   "id": "84e3cfc5",
   "metadata": {},
   "source": [
    "### Task"
   ]
  },
  {
   "cell_type": "code",
   "execution_count": 13,
   "id": "5cf35da2",
   "metadata": {},
   "outputs": [],
   "source": [
    "iterable = \"clarusway\"\n",
    "\n",
    "reverser = lambda x : x[::-1]"
   ]
  },
  {
   "cell_type": "code",
   "execution_count": 14,
   "id": "04752ffd",
   "metadata": {},
   "outputs": [
    {
     "data": {
      "text/plain": [
       "<function __main__.<lambda>(x)>"
      ]
     },
     "execution_count": 14,
     "metadata": {},
     "output_type": "execute_result"
    }
   ],
   "source": [
    "reverser"
   ]
  },
  {
   "cell_type": "code",
   "execution_count": 15,
   "id": "7a69307d",
   "metadata": {},
   "outputs": [
    {
     "data": {
      "text/plain": [
       "'yawsuralc'"
      ]
     },
     "execution_count": 15,
     "metadata": {},
     "output_type": "execute_result"
    }
   ],
   "source": [
    "reverser(iterable)"
   ]
  },
  {
   "cell_type": "markdown",
   "id": "5b2a1c98",
   "metadata": {},
   "source": [
    "### Task"
   ]
  },
  {
   "cell_type": "code",
   "execution_count": 21,
   "id": "84a5ad8e",
   "metadata": {},
   "outputs": [
    {
     "name": "stdout",
     "output_type": "stream",
     "text": [
      "4.0\n"
     ]
    }
   ],
   "source": [
    "average = lambda x, y : (x + y) / 2\n",
    "print(average(3,5))"
   ]
  },
  {
   "cell_type": "code",
   "execution_count": null,
   "id": "cce03fea",
   "metadata": {},
   "outputs": [],
   "source": []
  },
  {
   "attachments": {
    "image.png": {
     "image/png": "[encoded data removed]"
    }
   },
   "cell_type": "markdown",
   "id": "b2acb65d",
   "metadata": {},
   "source": [
    "![image.png](attachment:image.png)"
   ]
  },
  {
   "cell_type": "markdown",
   "id": "937c7c82",
   "metadata": {},
   "source": [
    "<img src=\"https://docs.google.com/uc?id=14xeXxFrVRjvOoUYWn_GuyE-v84wVzrqr\" class=\"img-fluid\" alt=\"CLRWY\" width=\"400\" height=\"200\">"
   ]
  }
 ],
 "metadata": {
  "kernelspec": {
   "display_name": "Python 3 (ipykernel)",
   "language": "python",
   "name": "python3"
  },
  "language_info": {
   "codemirror_mode": {
    "name": "ipython",
    "version": 3
   },
   "file_extension": ".py",
   "mimetype": "text/x-python",
   "name": "python",
   "nbconvert_exporter": "python",
   "pygments_lexer": "ipython3",
   "version": "3.9.12"
  }
 },
 "nbformat": 4,
 "nbformat_minor": 5
}
