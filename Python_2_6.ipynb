{
 "cells": [
  {
   "cell_type": "markdown",
   "id": "f6491598",
   "metadata": {},
   "source": [
    "<img src=\"https://docs.google.com/uc?id=14xeXxFrVRjvOoUYWn_GuyE-v84wVzrqr\" class=\"img-fluid\" alt=\"CLRWY\" width=\"400\" height=\"200\">"
   ]
  },
  {
   "cell_type": "markdown",
   "id": "97d2a08c",
   "metadata": {},
   "source": [
    "<a id=\"toc\"></a>\n",
    "\n",
    "## <p style=\"background-color:#0D8D99; font-family:newtimeroman; color:#FFF9ED; font-size:175%; text-align:center; border-radius:10px 10px;\">Python Session-2 (06 Oct 2022)</p>"
   ]
  },
  {
   "cell_type": "markdown",
   "id": "c9137337",
   "metadata": {},
   "source": [
    "#### <div class=\"alert alert-block alert-info\"><h1><p style=\"text-align: center; color:purple\">Variables & Naming Rules<br><br>Strings & Numeric & Boolean Types<br><br>Type Conversion<br><br>Simple Arithmetic Operations</p>"
   ]
  },
  {
   "cell_type": "markdown",
   "id": "65266f01",
   "metadata": {},
   "source": [
    "<a id=\"toc\"></a>\n",
    "\n",
    "## <p style=\"background-color:#9d4f8c; font-family:newtimeroman; color:#FFF9ED; font-size:175%; text-align:center; border-radius:10px 10px;\">Variables & Naming Variable</p>"
   ]
  },
  {
   "cell_type": "markdown",
   "id": "ac2539df",
   "metadata": {},
   "source": [
    "**Link 1 - Variables in Python: https://realpython.com/python-variables/**\n",
    "\n",
    "**Link 2 - Python Variables: https://www.w3schools.com/python/python_variables.asp**"
   ]
  },
  {
   "attachments": {
    "image.png": {
     "image/png": "[encoded data removed]"
    }
   },
   "cell_type": "markdown",
   "id": "fbc98fcd",
   "metadata": {},
   "source": [
    "**Bir değişkene değer atama:**\n",
    "![image.png](attachment:image.png)"
   ]
  },
  {
   "cell_type": "markdown",
   "id": "87dcaef3",
   "metadata": {},
   "source": [
    "**Eşitliğin sağ tarafındaki value (değer) eşitliğin sol tarafındaki variable'a (değişkene) atanır.**"
   ]
  },
  {
   "cell_type": "code",
   "execution_count": 7,
   "id": "e7fb43c4",
   "metadata": {},
   "outputs": [],
   "source": [
    "okul = \"clarusway\""
   ]
  },
  {
   "cell_type": "markdown",
   "id": "f370a17a",
   "metadata": {},
   "source": [
    "**Kötü değişken ismi örnekleri:**"
   ]
  },
  {
   "cell_type": "code",
   "execution_count": null,
   "id": "998ba4c1",
   "metadata": {},
   "outputs": [],
   "source": [
    "\n",
    "Con_PEP_N_Rl = \"Conventional (PEP 8) Naming Rules\"\n"
   ]
  },
  {
   "cell_type": "code",
   "execution_count": null,
   "id": "c3eddc42",
   "metadata": {},
   "outputs": [],
   "source": [
    "l = 3.14  # This is lowercase letter el\n",
    "I = 3.14  # This is uppercase letter eye\n",
    "1 = 'something wrong'  # This is number one."
   ]
  },
  {
   "cell_type": "code",
   "execution_count": null,
   "id": "ea2a60d7",
   "metadata": {},
   "outputs": [],
   "source": [
    "time_O = '3.14'  # This is uppercase letter “O”\n",
    "time_0 = '3.14'  # This is number zero"
   ]
  },
  {
   "cell_type": "code",
   "execution_count": null,
   "id": "7c63115c",
   "metadata": {},
   "outputs": [],
   "source": [
    "s = \"Ahmet\"  # student\n",
    "st = \"Esra\"  # student"
   ]
  },
  {
   "cell_type": "code",
   "execution_count": null,
   "id": "9628ef3f",
   "metadata": {},
   "outputs": [],
   "source": [
    "average_income_february = 20000  # Average income of February"
   ]
  },
  {
   "cell_type": "markdown",
   "id": "16fa1fa1",
   "metadata": {},
   "source": [
    "**Doğru değişken ismi örnekleri:**"
   ]
  },
  {
   "cell_type": "code",
   "execution_count": null,
   "id": "5a9a234c",
   "metadata": {},
   "outputs": [],
   "source": [
    "variable = 3.14\n",
    "var_one = 'something'\n",
    "time_zero = '3.14'\n",
    "big_data = 9999  # Big Data\n",
    "students = \"Edwin\"\n",
    "avg_income_feb = 20000  # Average income of February"
   ]
  },
  {
   "cell_type": "markdown",
   "id": "8a688df5",
   "metadata": {},
   "source": [
    " **Değişkenlere farklı veri tipleri atanabilir.**"
   ]
  },
  {
   "cell_type": "code",
   "execution_count": 2,
   "id": "4a072eb3",
   "metadata": {},
   "outputs": [
    {
     "name": "stdout",
     "output_type": "stream",
     "text": [
      "jupyter\n",
      "140\n",
      "3.14\n",
      "True\n"
     ]
    }
   ],
   "source": [
    "planet = 'jupyter'\n",
    "price = 140\n",
    "pi_number = 3.14\n",
    "logic = True\n",
    "\n",
    "print(planet)\n",
    "print(price)\n",
    "print(pi_number)\n",
    "print(logic)"
   ]
  },
  {
   "cell_type": "markdown",
   "id": "a6f86eb3",
   "metadata": {},
   "source": [
    "**python'daki keyword'ler değişken ismi olarak atanamaz**"
   ]
  },
  {
   "cell_type": "code",
   "execution_count": 1,
   "id": "91498a30",
   "metadata": {},
   "outputs": [
    {
     "ename": "SyntaxError",
     "evalue": "invalid syntax (2614479275.py, line 1)",
     "output_type": "error",
     "traceback": [
      "\u001b[1;36m  Input \u001b[1;32mIn [1]\u001b[1;36m\u001b[0m\n\u001b[1;33m    or = \"alideliveli\"\u001b[0m\n\u001b[1;37m    ^\u001b[0m\n\u001b[1;31mSyntaxError\u001b[0m\u001b[1;31m:\u001b[0m invalid syntax\n"
     ]
    }
   ],
   "source": [
    "or = \"alideliveli\" "
   ]
  },
  {
   "cell_type": "code",
   "execution_count": 2,
   "id": "ff0f4b5c",
   "metadata": {},
   "outputs": [
    {
     "ename": "SyntaxError",
     "evalue": "invalid syntax (3280009931.py, line 1)",
     "output_type": "error",
     "traceback": [
      "\u001b[1;36m  Input \u001b[1;32mIn [2]\u001b[1;36m\u001b[0m\n\u001b[1;33m    if = 22\u001b[0m\n\u001b[1;37m       ^\u001b[0m\n\u001b[1;31mSyntaxError\u001b[0m\u001b[1;31m:\u001b[0m invalid syntax\n"
     ]
    }
   ],
   "source": [
    "if = 22"
   ]
  },
  {
   "cell_type": "markdown",
   "id": "6a8f0f41",
   "metadata": {},
   "source": [
    "**keyword'leri aralarına başka karakter koyarak kullanabilirsin**"
   ]
  },
  {
   "cell_type": "code",
   "execution_count": 3,
   "id": "4e973ad6",
   "metadata": {},
   "outputs": [],
   "source": [
    "if_or_else = \"clarusway\""
   ]
  },
  {
   "cell_type": "code",
   "execution_count": 4,
   "id": "7a99ae75",
   "metadata": {},
   "outputs": [
    {
     "data": {
      "text/plain": [
       "'clarusway'"
      ]
     },
     "execution_count": 4,
     "metadata": {},
     "output_type": "execute_result"
    }
   ],
   "source": [
    "if_or_else"
   ]
  },
  {
   "cell_type": "code",
   "execution_count": 5,
   "id": "61a28fce",
   "metadata": {},
   "outputs": [
    {
     "data": {
      "text/plain": [
       "'ali'"
      ]
     },
     "execution_count": 5,
     "metadata": {},
     "output_type": "execute_result"
    }
   ],
   "source": [
    "class_ = \"ali\"\n",
    "class_"
   ]
  },
  {
   "cell_type": "markdown",
   "id": "bfaf65c4",
   "metadata": {},
   "source": [
    "**özel karakterler değişken isimlerinde kullanılamaz**"
   ]
  },
  {
   "cell_type": "code",
   "execution_count": 6,
   "id": "0a17f7a5",
   "metadata": {},
   "outputs": [
    {
     "ename": "SyntaxError",
     "evalue": "invalid syntax (2772885082.py, line 1)",
     "output_type": "error",
     "traceback": [
      "\u001b[1;36m  Input \u001b[1;32mIn [6]\u001b[1;36m\u001b[0m\n\u001b[1;33m    _al?i = \"absurd\"\u001b[0m\n\u001b[1;37m       ^\u001b[0m\n\u001b[1;31mSyntaxError\u001b[0m\u001b[1;31m:\u001b[0m invalid syntax\n"
     ]
    }
   ],
   "source": [
    "_al?i = \"absurd\""
   ]
  },
  {
   "cell_type": "markdown",
   "id": "9d9e8dd8",
   "metadata": {},
   "source": [
    "**bazı özel karakterler:**"
   ]
  },
  {
   "cell_type": "code",
   "execution_count": null,
   "id": "78f1f80a",
   "metadata": {},
   "outputs": [],
   "source": [
    "!'^+%&/()=?|{[}]#$,;~'"
   ]
  },
  {
   "cell_type": "markdown",
   "id": "bee953a2",
   "metadata": {},
   "source": [
    "**bir değeri (value) birden fazla değişkene atayabilirsin**"
   ]
  },
  {
   "cell_type": "code",
   "execution_count": 6,
   "id": "3fd2fdf5",
   "metadata": {},
   "outputs": [
    {
     "name": "stdout",
     "output_type": "stream",
     "text": [
      "10 10 10\n"
     ]
    }
   ],
   "source": [
    "x = y = z = 10\n",
    "print(x, y, z)"
   ]
  },
  {
   "cell_type": "code",
   "execution_count": 14,
   "id": "9b79e63b",
   "metadata": {},
   "outputs": [],
   "source": [
    "veli = a = deli = \"40\""
   ]
  },
  {
   "cell_type": "code",
   "execution_count": 15,
   "id": "381b17f1",
   "metadata": {},
   "outputs": [
    {
     "name": "stdout",
     "output_type": "stream",
     "text": [
      "40\n",
      "40\n",
      "40\n"
     ]
    }
   ],
   "source": [
    "print(veli)\n",
    "print(a)\n",
    "print(deli)"
   ]
  },
  {
   "cell_type": "markdown",
   "id": "77d5bb43",
   "metadata": {},
   "source": [
    "**tanımlanmamış bir değişkeni değişkenlere atayamazsın! çünkü tanımlanmadığı için içinde taşıdığı bir değer yoktur**"
   ]
  },
  {
   "cell_type": "code",
   "execution_count": 13,
   "id": "279a0b70",
   "metadata": {},
   "outputs": [
    {
     "ename": "NameError",
     "evalue": "name 'veli' is not defined",
     "output_type": "error",
     "traceback": [
      "\u001b[1;31m---------------------------------------------------------------------------\u001b[0m",
      "\u001b[1;31mNameError\u001b[0m                                 Traceback (most recent call last)",
      "Input \u001b[1;32mIn [13]\u001b[0m, in \u001b[0;36m<cell line: 1>\u001b[1;34m()\u001b[0m\n\u001b[1;32m----> 1\u001b[0m a \u001b[38;5;241m=\u001b[39m b \u001b[38;5;241m=\u001b[39m c \u001b[38;5;241m=\u001b[39m \u001b[43mveli\u001b[49m\n\u001b[0;32m      2\u001b[0m \u001b[38;5;28mprint\u001b[39m(a)\n",
      "\u001b[1;31mNameError\u001b[0m: name 'veli' is not defined"
     ]
    }
   ],
   "source": [
    "a = b = c = veli\n",
    "print(a)"
   ]
  },
  {
   "cell_type": "markdown",
   "id": "ff3b394f",
   "metadata": {},
   "source": [
    "**veli değişkenini tanımladıktan sonra onun değerini başka değişkenlere atayabilirsin**"
   ]
  },
  {
   "cell_type": "code",
   "execution_count": 5,
   "id": "b9b7583b",
   "metadata": {},
   "outputs": [
    {
     "name": "stdout",
     "output_type": "stream",
     "text": [
      "30 30 30\n"
     ]
    }
   ],
   "source": [
    "veli = 30\n",
    "\n",
    "a = b = c = veli\n",
    "\n",
    "print(a,b,c)"
   ]
  },
  {
   "cell_type": "code",
   "execution_count": 16,
   "id": "aa3bb9be",
   "metadata": {},
   "outputs": [
    {
     "name": "stdout",
     "output_type": "stream",
     "text": [
      "33 55 33\n"
     ]
    }
   ],
   "source": [
    "a = 11\n",
    "b = 22\n",
    "c = 44\n",
    "\n",
    "a = 33\n",
    "b = 55\n",
    "c = a\n",
    "\n",
    "print(a, b, c)"
   ]
  },
  {
   "cell_type": "markdown",
   "id": "601caee7",
   "metadata": {},
   "source": [
    "**Bir değişkenin güncellenmesi**  \n",
    "**Değişken kendisine son atanan değeri tutar**"
   ]
  },
  {
   "cell_type": "code",
   "execution_count": 10,
   "id": "664e6391",
   "metadata": {},
   "outputs": [
    {
     "name": "stdout",
     "output_type": "stream",
     "text": [
      "30\n"
     ]
    }
   ],
   "source": [
    "my_age = 33\n",
    "your_age = 30\n",
    "my_age = your_age\n",
    "print(my_age)"
   ]
  },
  {
   "cell_type": "markdown",
   "id": "ea5f84b4",
   "metadata": {},
   "source": [
    "**Bir değişkene başka bir değikenin değerini atama:**"
   ]
  },
  {
   "cell_type": "code",
   "execution_count": null,
   "id": "2d067f3c",
   "metadata": {},
   "outputs": [],
   "source": [
    "first_number = 100\n",
    "second_number = first_number\n",
    "print(second_number)"
   ]
  },
  {
   "cell_type": "markdown",
   "id": "9f25df60",
   "metadata": {},
   "source": [
    "<a id=\"toc\"></a>\n",
    "\n",
    "## <p style=\"background-color:#9d4f8c; font-family:newtimeroman; color:#FFF9ED; font-size:175%; text-align:center; border-radius:10px 10px;\">type() fonksiyonu</p>"
   ]
  },
  {
   "cell_type": "markdown",
   "id": "277adad2",
   "metadata": {},
   "source": [
    "**Python official documentation - type() function: https://docs.python.org/3/library/functions.html#type**"
   ]
  },
  {
   "cell_type": "code",
   "execution_count": null,
   "id": "2493071d",
   "metadata": {},
   "outputs": [],
   "source": [
    "type()  \n",
    "# shift + tab + tab  \n",
    "# type() fonksiyonunun \"Docstring\"ini oku!"
   ]
  },
  {
   "cell_type": "code",
   "execution_count": 17,
   "id": "fb550a4f",
   "metadata": {},
   "outputs": [
    {
     "data": {
      "text/plain": [
       "str"
      ]
     },
     "execution_count": 17,
     "metadata": {},
     "output_type": "execute_result"
    }
   ],
   "source": [
    "type(\"alideliveli\")"
   ]
  },
  {
   "cell_type": "markdown",
   "id": "7b5644ff",
   "metadata": {},
   "source": [
    " Simple Arithmetic Operations</p>"
   ]
  },
  {
   "cell_type": "markdown",
   "id": "e599a310",
   "metadata": {},
   "source": [
    "<a id=\"toc\"></a>\n",
    "\n",
    "## <p style=\"background-color:#9d4f8c; font-family:newtimeroman; color:#FFF9ED; font-size:175%; text-align:center; border-radius:10px 10px;\">Strings & Numeric & Boolean Types</p>"
   ]
  },
  {
   "cell_type": "markdown",
   "id": "2e8c11bc",
   "metadata": {},
   "source": [
    "**Python official documentation - Data Types: https://docs.python.org/3/library/datatypes.html**\n",
    "\n",
    "**Link 2- Python Data Types: https://www.w3schools.com/python/python_datatypes.asp**"
   ]
  },
  {
   "cell_type": "code",
   "execution_count": 11,
   "id": "eec36951",
   "metadata": {},
   "outputs": [
    {
     "name": "stdout",
     "output_type": "stream",
     "text": [
      "being a good person\n"
     ]
    }
   ],
   "source": [
    "my_text = 'being a good person'\n",
    "print(my_text)"
   ]
  },
  {
   "cell_type": "code",
   "execution_count": 18,
   "id": "ecf52c4e",
   "metadata": {},
   "outputs": [
    {
     "data": {
      "text/plain": [
       "str"
      ]
     },
     "execution_count": 18,
     "metadata": {},
     "output_type": "execute_result"
    }
   ],
   "source": [
    "type(\"ali, veli, deli\")"
   ]
  },
  {
   "cell_type": "code",
   "execution_count": 12,
   "id": "ad8e0e5b",
   "metadata": {},
   "outputs": [
    {
     "data": {
      "text/plain": [
       "int"
      ]
     },
     "execution_count": 12,
     "metadata": {},
     "output_type": "execute_result"
    }
   ],
   "source": [
    "type(a)  # yukarda a değişkenine integer 30 değeri atanmıştı."
   ]
  },
  {
   "cell_type": "code",
   "execution_count": 20,
   "id": "f7a43059",
   "metadata": {},
   "outputs": [
    {
     "data": {
      "text/plain": [
       "10.5"
      ]
     },
     "execution_count": 20,
     "metadata": {},
     "output_type": "execute_result"
    }
   ],
   "source": [
    "10.5"
   ]
  },
  {
   "cell_type": "code",
   "execution_count": 21,
   "id": "c04e2284",
   "metadata": {},
   "outputs": [
    {
     "data": {
      "text/plain": [
       "float"
      ]
     },
     "execution_count": 21,
     "metadata": {},
     "output_type": "execute_result"
    }
   ],
   "source": [
    "type(10.5)"
   ]
  },
  {
   "cell_type": "code",
   "execution_count": 22,
   "id": "fd5f311b",
   "metadata": {},
   "outputs": [
    {
     "data": {
      "text/plain": [
       "True"
      ]
     },
     "execution_count": 22,
     "metadata": {},
     "output_type": "execute_result"
    }
   ],
   "source": [
    "10 == 10.0"
   ]
  },
  {
   "cell_type": "code",
   "execution_count": 23,
   "id": "ee16c55e",
   "metadata": {},
   "outputs": [
    {
     "data": {
      "text/plain": [
       "True"
      ]
     },
     "execution_count": 23,
     "metadata": {},
     "output_type": "execute_result"
    }
   ],
   "source": [
    "a = True\n",
    "a"
   ]
  },
  {
   "cell_type": "code",
   "execution_count": 25,
   "id": "81f61a70",
   "metadata": {},
   "outputs": [
    {
     "data": {
      "text/plain": [
       "float"
      ]
     },
     "execution_count": 25,
     "metadata": {},
     "output_type": "execute_result"
    }
   ],
   "source": [
    "type(float(3))"
   ]
  },
  {
   "cell_type": "code",
   "execution_count": 26,
   "id": "c78ad47b",
   "metadata": {},
   "outputs": [
    {
     "data": {
      "text/plain": [
       "10"
      ]
     },
     "execution_count": 26,
     "metadata": {},
     "output_type": "execute_result"
    }
   ],
   "source": [
    "int(\"10\")"
   ]
  },
  {
   "cell_type": "code",
   "execution_count": 27,
   "id": "f20f1e28",
   "metadata": {},
   "outputs": [
    {
     "data": {
      "text/plain": [
       "int"
      ]
     },
     "execution_count": 27,
     "metadata": {},
     "output_type": "execute_result"
    }
   ],
   "source": [
    "a = int(\"11\")\n",
    "type(a)"
   ]
  },
  {
   "cell_type": "markdown",
   "id": "6ceb22fe",
   "metadata": {},
   "source": [
    "<a id=\"toc\"></a>\n",
    "\n",
    "## <p style=\"background-color:#9d4f8c; font-family:newtimeroman; color:#FFF9ED; font-size:175%; text-align:center; border-radius:10px 10px;\">Type Conversion</p>"
   ]
  },
  {
   "cell_type": "markdown",
   "id": "5824d94d",
   "metadata": {},
   "source": [
    "**Python official documentation - Type Conversion in Python: https://discuss.python.org/t/what-is-type-conversion-in-python/6584**\n",
    "\n",
    "**Link 2: Type Conversion in Python: https://www.geeksforgeeks.org/type-conversion-in-python/**"
   ]
  },
  {
   "cell_type": "markdown",
   "id": "c2aff2f9",
   "metadata": {},
   "source": [
    "**int() fonksiyonu; nümerik değerdeki bir string veriyi integer'a çevirir**"
   ]
  },
  {
   "cell_type": "code",
   "execution_count": 28,
   "id": "d5b7ff27",
   "metadata": {},
   "outputs": [
    {
     "ename": "ValueError",
     "evalue": "invalid literal for int() with base 10: 'onbir'",
     "output_type": "error",
     "traceback": [
      "\u001b[1;31m---------------------------------------------------------------------------\u001b[0m",
      "\u001b[1;31mValueError\u001b[0m                                Traceback (most recent call last)",
      "Input \u001b[1;32mIn [28]\u001b[0m, in \u001b[0;36m<cell line: 1>\u001b[1;34m()\u001b[0m\n\u001b[1;32m----> 1\u001b[0m \u001b[38;5;28;43mint\u001b[39;49m\u001b[43m(\u001b[49m\u001b[38;5;124;43m\"\u001b[39;49m\u001b[38;5;124;43monbir\u001b[39;49m\u001b[38;5;124;43m\"\u001b[39;49m\u001b[43m)\u001b[49m\n",
      "\u001b[1;31mValueError\u001b[0m: invalid literal for int() with base 10: 'onbir'"
     ]
    }
   ],
   "source": [
    "int(\"onbir\")"
   ]
  },
  {
   "cell_type": "code",
   "execution_count": 29,
   "id": "ef9295fb",
   "metadata": {},
   "outputs": [
    {
     "ename": "ValueError",
     "evalue": "invalid literal for int() with base 10: 'ten'",
     "output_type": "error",
     "traceback": [
      "\u001b[1;31m---------------------------------------------------------------------------\u001b[0m",
      "\u001b[1;31mValueError\u001b[0m                                Traceback (most recent call last)",
      "Input \u001b[1;32mIn [29]\u001b[0m, in \u001b[0;36m<cell line: 1>\u001b[1;34m()\u001b[0m\n\u001b[1;32m----> 1\u001b[0m \u001b[38;5;28;43mint\u001b[39;49m\u001b[43m(\u001b[49m\u001b[38;5;124;43m\"\u001b[39;49m\u001b[38;5;124;43mten\u001b[39;49m\u001b[38;5;124;43m\"\u001b[39;49m\u001b[43m)\u001b[49m\n",
      "\u001b[1;31mValueError\u001b[0m: invalid literal for int() with base 10: 'ten'"
     ]
    }
   ],
   "source": [
    "int(\"ten\")"
   ]
  },
  {
   "cell_type": "markdown",
   "id": "9257b61a",
   "metadata": {},
   "source": [
    "**float() fonksiyonu; nümerik değerdeki bir string veriyi float'a çevirir**"
   ]
  },
  {
   "cell_type": "code",
   "execution_count": 32,
   "id": "08e9b55d",
   "metadata": {},
   "outputs": [
    {
     "data": {
      "text/plain": [
       "10.0"
      ]
     },
     "execution_count": 32,
     "metadata": {},
     "output_type": "execute_result"
    }
   ],
   "source": [
    "float(\"10\")"
   ]
  },
  {
   "cell_type": "code",
   "execution_count": 8,
   "id": "884e8eb7",
   "metadata": {},
   "outputs": [
    {
     "data": {
      "text/plain": [
       "10.8"
      ]
     },
     "execution_count": 8,
     "metadata": {},
     "output_type": "execute_result"
    }
   ],
   "source": [
    "float(\"10.8\")"
   ]
  },
  {
   "cell_type": "code",
   "execution_count": 9,
   "id": "f6a1962c",
   "metadata": {},
   "outputs": [
    {
     "name": "stdout",
     "output_type": "stream",
     "text": [
      "28\n",
      "36.5\n",
      "I am at_39\n"
     ]
    }
   ],
   "source": [
    "x = 39\n",
    "v = \"11\"\n",
    "y = \"2.5\"\n",
    "z = \"I am at_\"\n",
    "\n",
    "print(x - int(v))\n",
    "print(x - float(y))\n",
    "print(z + str(x))"
   ]
  },
  {
   "cell_type": "markdown",
   "id": "0c6c0364",
   "metadata": {},
   "source": [
    "<a id=\"toc\"></a>\n",
    "\n",
    "## <p style=\"background-color:#9d4f8c; font-family:newtimeroman; color:#FFF9ED; font-size:175%; text-align:center; border-radius:10px 10px;\">Simple Arithmetic Operations</p>"
   ]
  },
  {
   "cell_type": "markdown",
   "id": "48f740b4",
   "metadata": {},
   "source": [
    "**Link : https://www.geeksforgeeks.org/python-arithmetic-operators/**"
   ]
  },
  {
   "attachments": {
    "image.png": {
     "image/png": "[encoded data removed]"
    }
   },
   "cell_type": "markdown",
   "id": "03e1fd95",
   "metadata": {},
   "source": [
    "![image.png](attachment:image.png)"
   ]
  },
  {
   "cell_type": "markdown",
   "id": "b65c1a6f",
   "metadata": {},
   "source": [
    "**iki string veri \"+\" aritmetik operatörü ile birleştirilir (concat edilir)**"
   ]
  },
  {
   "cell_type": "code",
   "execution_count": 33,
   "id": "cccad700",
   "metadata": {},
   "outputs": [
    {
     "data": {
      "text/plain": [
       "'clarusway'"
      ]
     },
     "execution_count": 33,
     "metadata": {},
     "output_type": "execute_result"
    }
   ],
   "source": [
    "\"clarus\" + \"way\""
   ]
  },
  {
   "cell_type": "code",
   "execution_count": 34,
   "id": "76b60874",
   "metadata": {},
   "outputs": [
    {
     "data": {
      "text/plain": [
       "'3311'"
      ]
     },
     "execution_count": 34,
     "metadata": {},
     "output_type": "execute_result"
    }
   ],
   "source": [
    "\"33\" + \"11\""
   ]
  },
  {
   "cell_type": "markdown",
   "id": "e816707e",
   "metadata": {},
   "source": [
    "**+ oparatörü, string veri tipindeki iki değişkeni concat eder (yanyana birleştirir)** "
   ]
  },
  {
   "cell_type": "code",
   "execution_count": 35,
   "id": "816564ba",
   "metadata": {},
   "outputs": [],
   "source": [
    "part1 = \"clarus\"\n",
    "part2 = \"way\""
   ]
  },
  {
   "cell_type": "code",
   "execution_count": 36,
   "id": "811c85d8",
   "metadata": {},
   "outputs": [
    {
     "data": {
      "text/plain": [
       "'clarusway'"
      ]
     },
     "execution_count": 36,
     "metadata": {},
     "output_type": "execute_result"
    }
   ],
   "source": [
    "part1 + part2 "
   ]
  },
  {
   "cell_type": "markdown",
   "id": "0daf8e55",
   "metadata": {},
   "source": [
    "**+ oparatörü integer veri tipindeki iki değişkeni aritmetik olarak toplar** "
   ]
  },
  {
   "cell_type": "code",
   "execution_count": 37,
   "id": "778a3081",
   "metadata": {},
   "outputs": [],
   "source": [
    "part3 = 33\n",
    "part4 = 11"
   ]
  },
  {
   "cell_type": "code",
   "execution_count": 38,
   "id": "f05d9493",
   "metadata": {},
   "outputs": [
    {
     "data": {
      "text/plain": [
       "44"
      ]
     },
     "execution_count": 38,
     "metadata": {},
     "output_type": "execute_result"
    }
   ],
   "source": [
    "part3 + part4"
   ]
  },
  {
   "cell_type": "markdown",
   "id": "4e5194b0",
   "metadata": {},
   "source": [
    "**+ operatörünün hatalı kullanımı:** "
   ]
  },
  {
   "cell_type": "code",
   "execution_count": 39,
   "id": "99a0989c",
   "metadata": {},
   "outputs": [
    {
     "ename": "TypeError",
     "evalue": "can only concatenate str (not \"int\") to str",
     "output_type": "error",
     "traceback": [
      "\u001b[1;31m---------------------------------------------------------------------------\u001b[0m",
      "\u001b[1;31mTypeError\u001b[0m                                 Traceback (most recent call last)",
      "Input \u001b[1;32mIn [39]\u001b[0m, in \u001b[0;36m<cell line: 1>\u001b[1;34m()\u001b[0m\n\u001b[1;32m----> 1\u001b[0m \u001b[38;5;124;43m\"\u001b[39;49m\u001b[38;5;124;43m33\u001b[39;49m\u001b[38;5;124;43m\"\u001b[39;49m\u001b[43m \u001b[49m\u001b[38;5;241;43m+\u001b[39;49m\u001b[43m \u001b[49m\u001b[38;5;241;43m11\u001b[39;49m\n",
      "\u001b[1;31mTypeError\u001b[0m: can only concatenate str (not \"int\") to str"
     ]
    }
   ],
   "source": [
    "\"33\" + 11"
   ]
  },
  {
   "cell_type": "code",
   "execution_count": 1,
   "id": "5d9f61c0",
   "metadata": {},
   "outputs": [
    {
     "ename": "NameError",
     "evalue": "name 'pi' is not defined",
     "output_type": "error",
     "traceback": [
      "\u001b[1;31m---------------------------------------------------------------------------\u001b[0m",
      "\u001b[1;31mNameError\u001b[0m                                 Traceback (most recent call last)",
      "Input \u001b[1;32mIn [1]\u001b[0m, in \u001b[0;36m<cell line: 1>\u001b[1;34m()\u001b[0m\n\u001b[1;32m----> 1\u001b[0m \u001b[43mpi\u001b[49m\n",
      "\u001b[1;31mNameError\u001b[0m: name 'pi' is not defined"
     ]
    }
   ],
   "source": [
    "pi  # Hata aldık çünkü henüz pi değişkeni tanımlanmadı. "
   ]
  },
  {
   "cell_type": "code",
   "execution_count": 2,
   "id": "f04c6238",
   "metadata": {},
   "outputs": [],
   "source": [
    "from numpy import pi  \n",
    "# python'un numpy kütüphanesindeki pi değişkenini kullanmak üzere çağırdık."
   ]
  },
  {
   "cell_type": "code",
   "execution_count": 3,
   "id": "2ebc36c5",
   "metadata": {},
   "outputs": [
    {
     "data": {
      "text/plain": [
       "3.141592653589793"
      ]
     },
     "execution_count": 3,
     "metadata": {},
     "output_type": "execute_result"
    }
   ],
   "source": [
    "# artık pi değişkenini atama yapmama gerek kalmadan kullanabilirim.\n",
    "pi"
   ]
  },
  {
   "cell_type": "markdown",
   "id": "24907fee",
   "metadata": {},
   "source": [
    "**çarpım \"*\" ve üs alma \"* *\" aritmetik operatörleri**"
   ]
  },
  {
   "cell_type": "code",
   "execution_count": 4,
   "id": "4968a64c",
   "metadata": {},
   "outputs": [
    {
     "data": {
      "text/plain": [
       "78.53981633974483"
      ]
     },
     "execution_count": 4,
     "metadata": {},
     "output_type": "execute_result"
    }
   ],
   "source": [
    "# eğer numpy'dan pi değişkenini çağırmamışsak ona mutlaka değer atamalıyız.\n",
    "\n",
    "pi = 3.14\n",
    "r = 5\n",
    "\n",
    "area = pi * r ** 2\n",
    "\n",
    "area"
   ]
  },
  {
   "cell_type": "code",
   "execution_count": null,
   "id": "9cd3e021",
   "metadata": {},
   "outputs": [],
   "source": [
    "pi"
   ]
  },
  {
   "cell_type": "markdown",
   "id": "20780ffd",
   "metadata": {},
   "source": [
    "**floor division aritmetik operatörü bölme işlemindeki bölümü verir**"
   ]
  },
  {
   "cell_type": "code",
   "execution_count": 41,
   "id": "beaac2cf",
   "metadata": {},
   "outputs": [
    {
     "data": {
      "text/plain": [
       "8"
      ]
     },
     "execution_count": 41,
     "metadata": {},
     "output_type": "execute_result"
    }
   ],
   "source": [
    "43 // 5"
   ]
  },
  {
   "cell_type": "markdown",
   "id": "db280b24",
   "metadata": {},
   "source": [
    "**modulus aritmetik operatörü bölme işlemindeki kalanı verir**"
   ]
  },
  {
   "cell_type": "code",
   "execution_count": 42,
   "id": "70fddf35",
   "metadata": {},
   "outputs": [
    {
     "data": {
      "text/plain": [
       "3"
      ]
     },
     "execution_count": 42,
     "metadata": {},
     "output_type": "execute_result"
    }
   ],
   "source": [
    "43 % 5"
   ]
  },
  {
   "cell_type": "markdown",
   "id": "aaf49be1",
   "metadata": {},
   "source": [
    "**modulus, çift ve tek sayıların belirlenmesinde kullanılır. bir sayının modulusu 2'si 0 veriyor ise o sayı çift, 1 veriyor ise tek sayıdır.** "
   ]
  },
  {
   "cell_type": "code",
   "execution_count": 13,
   "id": "0315a76f",
   "metadata": {},
   "outputs": [
    {
     "data": {
      "text/plain": [
       "1"
      ]
     },
     "execution_count": 13,
     "metadata": {},
     "output_type": "execute_result"
    }
   ],
   "source": [
    "11 % 2"
   ]
  },
  {
   "cell_type": "code",
   "execution_count": 14,
   "id": "4a8efa8d",
   "metadata": {},
   "outputs": [
    {
     "data": {
      "text/plain": [
       "0"
      ]
     },
     "execution_count": 14,
     "metadata": {},
     "output_type": "execute_result"
    }
   ],
   "source": [
    "10 % 2"
   ]
  },
  {
   "attachments": {
    "image.png": {
     "image/png": "[encoded data removed]"
    }
   },
   "cell_type": "markdown",
   "id": "c35c348a",
   "metadata": {},
   "source": [
    "![image.png](attachment:image.png)"
   ]
  },
  {
   "cell_type": "markdown",
   "id": "a833452b",
   "metadata": {},
   "source": [
    "<img src=\"https://docs.google.com/uc?id=14xeXxFrVRjvOoUYWn_GuyE-v84wVzrqr\" class=\"img-fluid\" alt=\"CLRWY\" width=\"400\" height=\"200\">"
   ]
  }
 ],
 "metadata": {
  "kernelspec": {
   "display_name": "Python 3 (ipykernel)",
   "language": "python",
   "name": "python3"
  },
  "language_info": {
   "codemirror_mode": {
    "name": "ipython",
    "version": 3
   },
   "file_extension": ".py",
   "mimetype": "text/x-python",
   "name": "python",
   "nbconvert_exporter": "python",
   "pygments_lexer": "ipython3",
   "version": "3.9.12"
  }
 },
 "nbformat": 4,
 "nbformat_minor": 5
}
