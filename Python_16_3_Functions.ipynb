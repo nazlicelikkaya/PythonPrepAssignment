{
 "cells": [
  {
   "cell_type": "markdown",
   "id": "97d2a08c",
   "metadata": {},
   "source": [
    "<a id=\"toc\"></a>\n",
    "\n",
    "### <p style=\"background-color:#0D8D99; font-family:newtimeroman; color:#FFF9ED; font-size:175%; text-align:center; border-radius:10px 10px;\">Python Session-16 (3 Nov 2022)</p>"
   ]
  },
  {
   "cell_type": "markdown",
   "id": "2a056995",
   "metadata": {},
   "source": [
    "#### <div class=\"alert alert-block alert-info\"><h1><p style=\"text-align: center; color:purple\"> Generator Comprehension<br><br>Build in Functions<br><br>Defining a Function<br><br>Duration comparison between for loop and list comprehension<br><br>The Matter of Arguments</p> "
   ]
  },
  {
   "cell_type": "markdown",
   "id": "71e9c513",
   "metadata": {},
   "source": [
    "**Python official documentation 1 - Functions: https://docs.python.org/3/library/stdtypes.html#functions**\n",
    "\n",
    "**Python official documentation 2 - Function Definition: https://docs.python.org/3/reference/compound_stmts.html#function**\n",
    "\n",
    "**Python official documentation 3 - Build-in Functions: https://docs.python.org/3/library/functions.html**\n",
    "\n",
    "**Link 1 - Python Functions: https://www.w3schools.com/python/python_functions.asp**\n",
    "\n",
    "**Link 2 - Python Functions: https://www.programiz.com/python-programming/function**\n",
    "\n",
    "**Link 3 - Python Functions: https://www.geeksforgeeks.org/python-functions/**"
   ]
  },
  {
   "cell_type": "markdown",
   "id": "4fb2806b",
   "metadata": {},
   "source": [
    "<a id=\"toc\"></a>\n",
    "\n",
    "### <p style=\"background-color:#9d4f8c; font-family:newtimeroman; color:#FFF9ED; font-size:175%; text-align:center; border-radius:10px 10px;\">Generator Comprehension</p>"
   ]
  },
  {
   "cell_type": "code",
   "execution_count": 1,
   "id": "aac15755",
   "metadata": {},
   "outputs": [
    {
     "data": {
      "text/plain": [
       "[0, 1, 4, 9, 16, 25]"
      ]
     },
     "execution_count": 1,
     "metadata": {},
     "output_type": "execute_result"
    }
   ],
   "source": [
    "[i ** 2 for i in range(6)]"
   ]
  },
  {
   "cell_type": "code",
   "execution_count": 4,
   "id": "4135bdc1",
   "metadata": {},
   "outputs": [
    {
     "data": {
      "text/plain": [
       "<generator object <genexpr> at 0x000001359A72A900>"
      ]
     },
     "execution_count": 4,
     "metadata": {},
     "output_type": "execute_result"
    }
   ],
   "source": [
    "generator = (i ** 2 for i in range(6))\n",
    "generator"
   ]
  },
  {
   "cell_type": "code",
   "execution_count": 5,
   "id": "aaefd3e5",
   "metadata": {},
   "outputs": [
    {
     "data": {
      "text/plain": [
       "[0, 1, 4, 9, 16, 25]"
      ]
     },
     "execution_count": 5,
     "metadata": {},
     "output_type": "execute_result"
    }
   ],
   "source": [
    "list(generator)"
   ]
  },
  {
   "cell_type": "code",
   "execution_count": 6,
   "id": "c5ffa765",
   "metadata": {},
   "outputs": [
    {
     "name": "stdout",
     "output_type": "stream",
     "text": [
      "\n"
     ]
    }
   ],
   "source": [
    "print(*generator)"
   ]
  },
  {
   "cell_type": "code",
   "execution_count": 7,
   "id": "9969930c",
   "metadata": {},
   "outputs": [],
   "source": [
    "generator = (i ** 2 for i in range(6))"
   ]
  },
  {
   "cell_type": "code",
   "execution_count": 8,
   "id": "04db561b",
   "metadata": {},
   "outputs": [
    {
     "name": "stdout",
     "output_type": "stream",
     "text": [
      "0\n",
      "1\n",
      "4\n",
      "9\n",
      "16\n",
      "25\n"
     ]
    }
   ],
   "source": [
    "for i in generator :\n",
    "    print(i)"
   ]
  },
  {
   "cell_type": "code",
   "execution_count": 9,
   "id": "ffb7ea5d",
   "metadata": {},
   "outputs": [
    {
     "data": {
      "text/plain": [
       "[]"
      ]
     },
     "execution_count": 9,
     "metadata": {},
     "output_type": "execute_result"
    }
   ],
   "source": [
    "list(generator)"
   ]
  },
  {
   "cell_type": "code",
   "execution_count": 20,
   "id": "96ec5a01",
   "metadata": {},
   "outputs": [],
   "source": [
    "generator = (i ** 2 for i in range(6))"
   ]
  },
  {
   "cell_type": "code",
   "execution_count": 11,
   "id": "2ab32ae0",
   "metadata": {},
   "outputs": [
    {
     "data": {
      "text/plain": [
       "<generator object <genexpr> at 0x0000013599D1CF90>"
      ]
     },
     "execution_count": 11,
     "metadata": {},
     "output_type": "execute_result"
    }
   ],
   "source": [
    "generator"
   ]
  },
  {
   "cell_type": "code",
   "execution_count": 21,
   "id": "deae2703",
   "metadata": {},
   "outputs": [
    {
     "name": "stdout",
     "output_type": "stream",
     "text": [
      "0\n"
     ]
    }
   ],
   "source": [
    "print(next(generator))"
   ]
  },
  {
   "cell_type": "code",
   "execution_count": 22,
   "id": "43873d98",
   "metadata": {},
   "outputs": [
    {
     "name": "stdout",
     "output_type": "stream",
     "text": [
      "1\n"
     ]
    }
   ],
   "source": [
    "print(next(generator))"
   ]
  },
  {
   "cell_type": "code",
   "execution_count": 23,
   "id": "e9f2012d",
   "metadata": {},
   "outputs": [
    {
     "name": "stdout",
     "output_type": "stream",
     "text": [
      "4\n"
     ]
    }
   ],
   "source": [
    "print(next(generator))"
   ]
  },
  {
   "cell_type": "code",
   "execution_count": 24,
   "id": "5e6cbe03",
   "metadata": {},
   "outputs": [
    {
     "name": "stdout",
     "output_type": "stream",
     "text": [
      "9\n"
     ]
    }
   ],
   "source": [
    "print(next(generator))"
   ]
  },
  {
   "cell_type": "code",
   "execution_count": 25,
   "id": "edb49ea2",
   "metadata": {},
   "outputs": [
    {
     "name": "stdout",
     "output_type": "stream",
     "text": [
      "16\n"
     ]
    }
   ],
   "source": [
    "print(next(generator))"
   ]
  },
  {
   "cell_type": "code",
   "execution_count": 26,
   "id": "87e50de7",
   "metadata": {},
   "outputs": [
    {
     "name": "stdout",
     "output_type": "stream",
     "text": [
      "25\n"
     ]
    }
   ],
   "source": [
    "print(next(generator))"
   ]
  },
  {
   "cell_type": "code",
   "execution_count": 27,
   "id": "71657f84",
   "metadata": {},
   "outputs": [
    {
     "ename": "StopIteration",
     "evalue": "",
     "output_type": "error",
     "traceback": [
      "\u001b[1;31m---------------------------------------------------------------------------\u001b[0m",
      "\u001b[1;31mStopIteration\u001b[0m                             Traceback (most recent call last)",
      "Input \u001b[1;32mIn [27]\u001b[0m, in \u001b[0;36m<cell line: 1>\u001b[1;34m()\u001b[0m\n\u001b[1;32m----> 1\u001b[0m \u001b[38;5;28mprint\u001b[39m(\u001b[38;5;28;43mnext\u001b[39;49m\u001b[43m(\u001b[49m\u001b[43mgenerator\u001b[49m\u001b[43m)\u001b[49m)\n",
      "\u001b[1;31mStopIteration\u001b[0m: "
     ]
    }
   ],
   "source": [
    "print(next(generator))"
   ]
  },
  {
   "cell_type": "code",
   "execution_count": 28,
   "id": "d2723570",
   "metadata": {},
   "outputs": [
    {
     "data": {
      "text/plain": [
       "[]"
      ]
     },
     "execution_count": 28,
     "metadata": {},
     "output_type": "execute_result"
    }
   ],
   "source": [
    "list(generator)"
   ]
  },
  {
   "cell_type": "code",
   "execution_count": 29,
   "id": "81c53b9c",
   "metadata": {},
   "outputs": [
    {
     "data": {
      "text/plain": [
       "<generator object <genexpr> at 0x000001359AF83B30>"
      ]
     },
     "execution_count": 29,
     "metadata": {},
     "output_type": "execute_result"
    }
   ],
   "source": [
    "generate = (i/2 for i in [0, 9, 21, 32])\n",
    "generate"
   ]
  },
  {
   "cell_type": "code",
   "execution_count": 30,
   "id": "43904e1f",
   "metadata": {},
   "outputs": [
    {
     "name": "stdout",
     "output_type": "stream",
     "text": [
      "0.0\n",
      "4.5\n",
      "10.5\n",
      "16.0\n"
     ]
    }
   ],
   "source": [
    "for item in generate:\n",
    "    print(item)\n"
   ]
  },
  {
   "cell_type": "code",
   "execution_count": 31,
   "id": "d1786c0b",
   "metadata": {},
   "outputs": [
    {
     "name": "stdout",
     "output_type": "stream",
     "text": [
      "(0, 0, 0)\n",
      "(1, 1, 1)\n",
      "(2, 4, 8)\n",
      "(3, 9, 27)\n",
      "(4, 16, 64)\n",
      "(5, 25, 125)\n",
      "(6, 36, 216)\n",
      "(7, 49, 343)\n",
      "(8, 64, 512)\n",
      "(9, 81, 729)\n"
     ]
    }
   ],
   "source": [
    "generate = ((i, i**2, i**3) for i in range(10))\n",
    "\n",
    "for item in generate:\n",
    "    print(item)"
   ]
  },
  {
   "cell_type": "code",
   "execution_count": 32,
   "id": "7872fc46",
   "metadata": {},
   "outputs": [
    {
     "name": "stdout",
     "output_type": "stream",
     "text": [
      "apple apple apple pie pie pie\n"
     ]
    }
   ],
   "source": [
    "generate = ((\"apple\" if i < 3 else \"pie\") for i in range(6))\n",
    "\n",
    "print(* generate)"
   ]
  },
  {
   "cell_type": "markdown",
   "id": "7ef22f13",
   "metadata": {},
   "source": [
    "<a id=\"toc\"></a>\n",
    "\n",
    "## <p style=\"background-color:#0D8D99; font-family:newtimeroman; color:#FFF9ED; font-size:175%; text-align:center; border-radius:10px 10px;\">FUNCTIONS - continue</p>"
   ]
  },
  {
   "cell_type": "markdown",
   "id": "bb821073",
   "metadata": {},
   "source": [
    "<a id=\"toc\"></a>\n",
    "\n",
    "### <p style=\"background-color:#9d4f8c; font-family:newtimeroman; color:#FFF9ED; font-size:175%; text-align:center; border-radius:10px 10px;\">Build in Functions</p>"
   ]
  },
  {
   "cell_type": "code",
   "execution_count": 34,
   "id": "8e6e41f3",
   "metadata": {},
   "outputs": [
    {
     "name": "stdout",
     "output_type": "stream",
     "text": [
      "[(0, 'ali'), (1, 'deli'), (2, 'veli')]\n"
     ]
    }
   ],
   "source": [
    "isimler = [\"ali\", \"deli\", \"veli\"]\n",
    "\n",
    "sayaç = 0\n",
    "\n",
    "liste = []\n",
    "\n",
    "for i in isimler :\n",
    "    liste.append((sayaç, i))\n",
    "    sayaç += 1\n",
    "print(liste)"
   ]
  },
  {
   "cell_type": "code",
   "execution_count": 35,
   "id": "270f64c1",
   "metadata": {},
   "outputs": [
    {
     "name": "stdout",
     "output_type": "stream",
     "text": [
      "[(0, 'ali'), (1, 'deli'), (2, 'veli')]\n"
     ]
    }
   ],
   "source": [
    "print(list(enumerate(isimler)))"
   ]
  },
  {
   "cell_type": "code",
   "execution_count": 36,
   "id": "d4a04929",
   "metadata": {},
   "outputs": [
    {
     "data": {
      "text/plain": [
       "<enumerate at 0x1359b012b00>"
      ]
     },
     "execution_count": 36,
     "metadata": {},
     "output_type": "execute_result"
    }
   ],
   "source": [
    "grocery = [\"bread\", \"water\", \"olive\"]\n",
    "enum_groc = enumerate(grocery)\n",
    "enum_groc"
   ]
  },
  {
   "cell_type": "code",
   "execution_count": 37,
   "id": "e365682e",
   "metadata": {},
   "outputs": [
    {
     "data": {
      "text/plain": [
       "enumerate"
      ]
     },
     "execution_count": 37,
     "metadata": {},
     "output_type": "execute_result"
    }
   ],
   "source": [
    "type(enum_groc)"
   ]
  },
  {
   "cell_type": "code",
   "execution_count": 38,
   "id": "19824aef",
   "metadata": {},
   "outputs": [
    {
     "name": "stdout",
     "output_type": "stream",
     "text": [
      "<class 'enumerate'>\n"
     ]
    }
   ],
   "source": [
    "print(type(enum_groc))"
   ]
  },
  {
   "cell_type": "code",
   "execution_count": 39,
   "id": "2a505a25",
   "metadata": {},
   "outputs": [
    {
     "name": "stdout",
     "output_type": "stream",
     "text": [
      "[(5, 'bread'), (6, 'water'), (7, 'olive')]\n"
     ]
    }
   ],
   "source": [
    "enum_grocery = enumerate(grocery, 5)\n",
    "\n",
    "print(list(enum_grocery))"
   ]
  },
  {
   "cell_type": "code",
   "execution_count": 41,
   "id": "b678daca",
   "metadata": {},
   "outputs": [
    {
     "data": {
      "text/plain": [
       "{5: 'bread', 6: 'water', 7: 'olive'}"
      ]
     },
     "execution_count": 41,
     "metadata": {},
     "output_type": "execute_result"
    }
   ],
   "source": [
    "enum_grocery = enumerate(grocery, 5)\n",
    "\n",
    "dict(enum_grocery)"
   ]
  },
  {
   "cell_type": "code",
   "execution_count": 44,
   "id": "15f3582b",
   "metadata": {},
   "outputs": [
    {
     "data": {
      "text/plain": [
       "'a'"
      ]
     },
     "execution_count": 44,
     "metadata": {},
     "output_type": "execute_result"
    }
   ],
   "source": [
    "min(\"karagozoglu\")"
   ]
  },
  {
   "cell_type": "code",
   "execution_count": 45,
   "id": "ca38d0b1",
   "metadata": {},
   "outputs": [
    {
     "data": {
      "text/plain": [
       "'z'"
      ]
     },
     "execution_count": 45,
     "metadata": {},
     "output_type": "execute_result"
    }
   ],
   "source": [
    "max(\"karagozoglu\")"
   ]
  },
  {
   "cell_type": "code",
   "execution_count": 46,
   "id": "389a4b38",
   "metadata": {},
   "outputs": [
    {
     "data": {
      "text/plain": [
       "97"
      ]
     },
     "execution_count": 46,
     "metadata": {},
     "output_type": "execute_result"
    }
   ],
   "source": [
    "ord(\"a\")"
   ]
  },
  {
   "cell_type": "code",
   "execution_count": 47,
   "id": "084bc2f0",
   "metadata": {},
   "outputs": [
    {
     "data": {
      "text/plain": [
       "122"
      ]
     },
     "execution_count": 47,
     "metadata": {},
     "output_type": "execute_result"
    }
   ],
   "source": [
    "ord(\"z\")"
   ]
  },
  {
   "cell_type": "code",
   "execution_count": 48,
   "id": "a87a11b2",
   "metadata": {},
   "outputs": [
    {
     "data": {
      "text/plain": [
       "5"
      ]
     },
     "execution_count": 48,
     "metadata": {},
     "output_type": "execute_result"
    }
   ],
   "source": [
    "max(1,2,3,4,5)"
   ]
  },
  {
   "cell_type": "code",
   "execution_count": 49,
   "id": "c232c248",
   "metadata": {},
   "outputs": [
    {
     "data": {
      "text/plain": [
       "1"
      ]
     },
     "execution_count": 49,
     "metadata": {},
     "output_type": "execute_result"
    }
   ],
   "source": [
    "min(1, 2, 3, 4, 5)"
   ]
  },
  {
   "cell_type": "code",
   "execution_count": 50,
   "id": "c0e448fb",
   "metadata": {},
   "outputs": [
    {
     "data": {
      "text/plain": [
       "1"
      ]
     },
     "execution_count": 50,
     "metadata": {},
     "output_type": "execute_result"
    }
   ],
   "source": [
    "min([1,2,3,4,5])"
   ]
  },
  {
   "cell_type": "code",
   "execution_count": 51,
   "id": "b88ac812",
   "metadata": {},
   "outputs": [
    {
     "ename": "TypeError",
     "evalue": "sum() takes at most 2 arguments (5 given)",
     "output_type": "error",
     "traceback": [
      "\u001b[1;31m---------------------------------------------------------------------------\u001b[0m",
      "\u001b[1;31mTypeError\u001b[0m                                 Traceback (most recent call last)",
      "Input \u001b[1;32mIn [51]\u001b[0m, in \u001b[0;36m<cell line: 1>\u001b[1;34m()\u001b[0m\n\u001b[1;32m----> 1\u001b[0m \u001b[38;5;28;43msum\u001b[39;49m\u001b[43m(\u001b[49m\u001b[38;5;241;43m1\u001b[39;49m\u001b[43m,\u001b[49m\u001b[43m \u001b[49m\u001b[38;5;241;43m2\u001b[39;49m\u001b[43m,\u001b[49m\u001b[43m \u001b[49m\u001b[38;5;241;43m3\u001b[39;49m\u001b[43m,\u001b[49m\u001b[43m \u001b[49m\u001b[38;5;241;43m4\u001b[39;49m\u001b[43m,\u001b[49m\u001b[43m \u001b[49m\u001b[38;5;241;43m5\u001b[39;49m\u001b[43m)\u001b[49m\n",
      "\u001b[1;31mTypeError\u001b[0m: sum() takes at most 2 arguments (5 given)"
     ]
    }
   ],
   "source": [
    "sum(1, 2, 3, 4, 5)"
   ]
  },
  {
   "cell_type": "code",
   "execution_count": 52,
   "id": "4ae68113",
   "metadata": {},
   "outputs": [
    {
     "data": {
      "text/plain": [
       "15"
      ]
     },
     "execution_count": 52,
     "metadata": {},
     "output_type": "execute_result"
    }
   ],
   "source": [
    "sum([1, 2, 3, 4, 5])"
   ]
  },
  {
   "cell_type": "code",
   "execution_count": null,
   "id": "cd1a4ae5",
   "metadata": {},
   "outputs": [],
   "source": []
  },
  {
   "cell_type": "code",
   "execution_count": null,
   "id": "a431cad1",
   "metadata": {},
   "outputs": [],
   "source": []
  },
  {
   "cell_type": "markdown",
   "id": "495fcf8d",
   "metadata": {},
   "source": [
    "<a id=\"toc\"></a>\n",
    "\n",
    "### <p style=\"background-color:#9d4f8c; font-family:newtimeroman; color:#FFF9ED; font-size:175%; text-align:center; border-radius:10px 10px;\">Defining a Function</p>"
   ]
  },
  {
   "cell_type": "code",
   "execution_count": 53,
   "id": "81b3b78a",
   "metadata": {},
   "outputs": [],
   "source": [
    "def ilk_fonksiyonum(x, y) :\n",
    "    print(x ** 2 + y ** 2)"
   ]
  },
  {
   "cell_type": "code",
   "execution_count": 54,
   "id": "fe6ee5da",
   "metadata": {},
   "outputs": [
    {
     "name": "stdout",
     "output_type": "stream",
     "text": [
      "25\n"
     ]
    }
   ],
   "source": [
    "ilk_fonksiyonum(3, 4)"
   ]
  },
  {
   "cell_type": "code",
   "execution_count": 55,
   "id": "7579269e",
   "metadata": {},
   "outputs": [],
   "source": [
    "def hipotenus(a, b) :\n",
    "    print((a ** 2 + b ** 2) ** 0.5)"
   ]
  },
  {
   "cell_type": "code",
   "execution_count": 56,
   "id": "06fe2bfc",
   "metadata": {},
   "outputs": [
    {
     "name": "stdout",
     "output_type": "stream",
     "text": [
      "5.0\n"
     ]
    }
   ],
   "source": [
    "hipotenus(3, 4)"
   ]
  },
  {
   "cell_type": "code",
   "execution_count": 62,
   "id": "985e461e",
   "metadata": {},
   "outputs": [],
   "source": [
    "def calculator(x, y, opr) :\n",
    "    if opr == \"+\" :\n",
    "        print(x + y)\n",
    "        \n",
    "    elif opr == \"-\" :\n",
    "        print(x - y)\n",
    "        \n",
    "    elif opr == \"*\":\n",
    "        print(x * y)\n",
    "    \n",
    "    elif opr == \"/\" :\n",
    "        print(x / y)\n",
    "        \n",
    "    else :\n",
    "        print(\"Enter a valid operator\")"
   ]
  },
  {
   "cell_type": "code",
   "execution_count": 58,
   "id": "68362c58",
   "metadata": {},
   "outputs": [
    {
     "name": "stdout",
     "output_type": "stream",
     "text": [
      "2.0\n"
     ]
    }
   ],
   "source": [
    "calculator(22, 11, \"/\")"
   ]
  },
  {
   "cell_type": "code",
   "execution_count": 63,
   "id": "c36adf66",
   "metadata": {},
   "outputs": [
    {
     "name": "stdout",
     "output_type": "stream",
     "text": [
      "Enter a valid operator\n"
     ]
    }
   ],
   "source": [
    "calculator(10, 5, \":\")"
   ]
  },
  {
   "cell_type": "code",
   "execution_count": 66,
   "id": "293698d2",
   "metadata": {},
   "outputs": [
    {
     "data": {
      "text/plain": [
       "29"
      ]
     },
     "execution_count": 66,
     "metadata": {},
     "output_type": "execute_result"
    }
   ],
   "source": [
    "21 + 8"
   ]
  },
  {
   "cell_type": "code",
   "execution_count": 67,
   "id": "e4c85e8d",
   "metadata": {},
   "outputs": [
    {
     "name": "stdout",
     "output_type": "stream",
     "text": [
      "29\n"
     ]
    }
   ],
   "source": [
    "print(21 + 8)"
   ]
  },
  {
   "cell_type": "code",
   "execution_count": 68,
   "id": "59beeabc",
   "metadata": {},
   "outputs": [
    {
     "data": {
      "text/plain": [
       "'clarusway'"
      ]
     },
     "execution_count": 68,
     "metadata": {},
     "output_type": "execute_result"
    }
   ],
   "source": [
    "\"clarusway\""
   ]
  },
  {
   "cell_type": "code",
   "execution_count": 69,
   "id": "9bef8cf0",
   "metadata": {},
   "outputs": [
    {
     "name": "stdout",
     "output_type": "stream",
     "text": [
      "clarusway\n"
     ]
    }
   ],
   "source": [
    "print(\"clarusway\")"
   ]
  },
  {
   "cell_type": "code",
   "execution_count": 70,
   "id": "2fc98faf",
   "metadata": {},
   "outputs": [
    {
     "data": {
      "text/plain": [
       "'çok iyi bir kurstur'"
      ]
     },
     "execution_count": 70,
     "metadata": {},
     "output_type": "execute_result"
    }
   ],
   "source": [
    "\"clarusway\"\n",
    "\"çok iyi bir kurstur\""
   ]
  },
  {
   "cell_type": "code",
   "execution_count": 71,
   "id": "5dd302ef",
   "metadata": {},
   "outputs": [],
   "source": [
    "def add(sayı1, sayı2):\n",
    "    return sayı1 + sayı2"
   ]
  },
  {
   "cell_type": "code",
   "execution_count": 73,
   "id": "22ecba5a",
   "metadata": {},
   "outputs": [
    {
     "name": "stdout",
     "output_type": "stream",
     "text": [
      "29\n"
     ]
    }
   ],
   "source": [
    "print(add(21, 8))"
   ]
  },
  {
   "cell_type": "code",
   "execution_count": 74,
   "id": "da6a38ae",
   "metadata": {},
   "outputs": [
    {
     "data": {
      "text/plain": [
       "58"
      ]
     },
     "execution_count": 74,
     "metadata": {},
     "output_type": "execute_result"
    }
   ],
   "source": [
    "add(21, 8) * 2"
   ]
  },
  {
   "cell_type": "code",
   "execution_count": 75,
   "id": "a917be80",
   "metadata": {},
   "outputs": [],
   "source": [
    "listem = []\n",
    "\n",
    "for i in range(5) :\n",
    "    listem.append(i + add(21, 8))"
   ]
  },
  {
   "cell_type": "code",
   "execution_count": 76,
   "id": "a42b11f2",
   "metadata": {},
   "outputs": [
    {
     "data": {
      "text/plain": [
       "[29, 30, 31, 32, 33]"
      ]
     },
     "execution_count": 76,
     "metadata": {},
     "output_type": "execute_result"
    }
   ],
   "source": [
    "listem"
   ]
  },
  {
   "cell_type": "code",
   "execution_count": 77,
   "id": "c068f189",
   "metadata": {},
   "outputs": [
    {
     "name": "stdout",
     "output_type": "stream",
     "text": [
      "9\n"
     ]
    }
   ],
   "source": [
    "a = print(4 + 5)"
   ]
  },
  {
   "cell_type": "code",
   "execution_count": 78,
   "id": "7ce21ad1",
   "metadata": {},
   "outputs": [
    {
     "data": {
      "text/plain": [
       "NoneType"
      ]
     },
     "execution_count": 78,
     "metadata": {},
     "output_type": "execute_result"
    }
   ],
   "source": [
    "type(a)"
   ]
  },
  {
   "cell_type": "code",
   "execution_count": 79,
   "id": "34697a41",
   "metadata": {},
   "outputs": [
    {
     "ename": "TypeError",
     "evalue": "unsupported operand type(s) for *: 'NoneType' and 'int'",
     "output_type": "error",
     "traceback": [
      "\u001b[1;31m---------------------------------------------------------------------------\u001b[0m",
      "\u001b[1;31mTypeError\u001b[0m                                 Traceback (most recent call last)",
      "Input \u001b[1;32mIn [79]\u001b[0m, in \u001b[0;36m<cell line: 1>\u001b[1;34m()\u001b[0m\n\u001b[1;32m----> 1\u001b[0m \u001b[43ma\u001b[49m\u001b[43m \u001b[49m\u001b[38;5;241;43m*\u001b[39;49m\u001b[43m \u001b[49m\u001b[38;5;241;43m3\u001b[39;49m\n",
      "\u001b[1;31mTypeError\u001b[0m: unsupported operand type(s) for *: 'NoneType' and 'int'"
     ]
    }
   ],
   "source": [
    "a * 3"
   ]
  },
  {
   "cell_type": "code",
   "execution_count": 80,
   "id": "968476ac",
   "metadata": {},
   "outputs": [],
   "source": [
    "def add2(s1, s2):\n",
    "    print(s1 + s2)"
   ]
  },
  {
   "cell_type": "code",
   "execution_count": 83,
   "id": "8e0c0860",
   "metadata": {},
   "outputs": [
    {
     "name": "stdout",
     "output_type": "stream",
     "text": [
      "29\n"
     ]
    },
    {
     "ename": "TypeError",
     "evalue": "unsupported operand type(s) for +: 'int' and 'NoneType'",
     "output_type": "error",
     "traceback": [
      "\u001b[1;31m---------------------------------------------------------------------------\u001b[0m",
      "\u001b[1;31mTypeError\u001b[0m                                 Traceback (most recent call last)",
      "Input \u001b[1;32mIn [83]\u001b[0m, in \u001b[0;36m<cell line: 2>\u001b[1;34m()\u001b[0m\n\u001b[0;32m      1\u001b[0m listem2 \u001b[38;5;241m=\u001b[39m []\n\u001b[0;32m      2\u001b[0m \u001b[38;5;28;01mfor\u001b[39;00m i \u001b[38;5;129;01min\u001b[39;00m \u001b[38;5;28mrange\u001b[39m(\u001b[38;5;241m5\u001b[39m):\n\u001b[1;32m----> 3\u001b[0m     listem2\u001b[38;5;241m.\u001b[39mappend(\u001b[43mi\u001b[49m\u001b[43m \u001b[49m\u001b[38;5;241;43m+\u001b[39;49m\u001b[43m \u001b[49m\u001b[43madd2\u001b[49m\u001b[43m(\u001b[49m\u001b[38;5;241;43m21\u001b[39;49m\u001b[43m,\u001b[49m\u001b[43m \u001b[49m\u001b[38;5;241;43m8\u001b[39;49m\u001b[43m)\u001b[49m)\n",
      "\u001b[1;31mTypeError\u001b[0m: unsupported operand type(s) for +: 'int' and 'NoneType'"
     ]
    }
   ],
   "source": [
    "listem2 = []\n",
    "for i in range(5):\n",
    "    listem2.append(i + add2(21, 8))"
   ]
  },
  {
   "cell_type": "code",
   "execution_count": 84,
   "id": "fcc2129f",
   "metadata": {},
   "outputs": [],
   "source": [
    "def topla(x, y) :\n",
    "    return x + y\n"
   ]
  },
  {
   "cell_type": "code",
   "execution_count": 85,
   "id": "130c7681",
   "metadata": {},
   "outputs": [
    {
     "data": {
      "text/plain": [
       "int"
      ]
     },
     "execution_count": 85,
     "metadata": {},
     "output_type": "execute_result"
    }
   ],
   "source": [
    "type(topla(4, 5))"
   ]
  },
  {
   "cell_type": "code",
   "execution_count": 86,
   "id": "2b978f4c",
   "metadata": {},
   "outputs": [
    {
     "data": {
      "text/plain": [
       "9"
      ]
     },
     "execution_count": 86,
     "metadata": {},
     "output_type": "execute_result"
    }
   ],
   "source": [
    "topla(4,5)"
   ]
  },
  {
   "cell_type": "code",
   "execution_count": 87,
   "id": "59853222",
   "metadata": {},
   "outputs": [],
   "source": [
    "def string() :\n",
    "    return \"alideliveli\""
   ]
  },
  {
   "cell_type": "code",
   "execution_count": 88,
   "id": "0def24e2",
   "metadata": {},
   "outputs": [
    {
     "data": {
      "text/plain": [
       "'alideliveli'"
      ]
     },
     "execution_count": 88,
     "metadata": {},
     "output_type": "execute_result"
    }
   ],
   "source": [
    "string()"
   ]
  },
  {
   "cell_type": "code",
   "execution_count": null,
   "id": "3f8c86c1",
   "metadata": {},
   "outputs": [],
   "source": [
    "\"alideliveli\""
   ]
  },
  {
   "cell_type": "code",
   "execution_count": 89,
   "id": "8784f673",
   "metadata": {},
   "outputs": [
    {
     "data": {
      "text/plain": [
       "str"
      ]
     },
     "execution_count": 89,
     "metadata": {},
     "output_type": "execute_result"
    }
   ],
   "source": [
    "type(string())"
   ]
  },
  {
   "cell_type": "markdown",
   "id": "b9d6bf74",
   "metadata": {},
   "source": [
    "<a id=\"toc\"></a>\n",
    "\n",
    "### <p style=\"background-color:#9d4f8c; font-family:newtimeroman; color:#FFF9ED; font-size:175%; text-align:center; border-radius:10px 10px;\">Duration comparison between for loop and list comprehension</p>"
   ]
  },
  {
   "cell_type": "code",
   "execution_count": 90,
   "id": "4a409d59",
   "metadata": {},
   "outputs": [],
   "source": [
    "from timeit import timeit"
   ]
  },
  {
   "cell_type": "code",
   "execution_count": 91,
   "id": "e46fdc99",
   "metadata": {},
   "outputs": [
    {
     "name": "stdout",
     "output_type": "stream",
     "text": [
      "list comprehension is 1.68 times faster than for loop\n"
     ]
    }
   ],
   "source": [
    "def for_loop() :\n",
    "    result = []\n",
    "    for i in range(1000000) :\n",
    "        result.append(i)\n",
    "    return result\n",
    "\n",
    "\n",
    "\n",
    "def list_comprehension() :\n",
    "    return [i for i in range(1000000)]\n",
    "\n",
    "\n",
    "expSize = 100\n",
    "\n",
    "time1 = timeit(for_loop, number = expSize)\n",
    "time2 = timeit(list_comprehension, number = expSize)\n",
    "\n",
    "print(f\"list comprehension is {round(time1/time2, 2)} times faster than for loop\")\n"
   ]
  },
  {
   "attachments": {
    "image.png": {
     "image/png": "[encoded data removed]"
    }
   },
   "cell_type": "markdown",
   "id": "eb309972",
   "metadata": {},
   "source": [
    "![image.png](attachment:image.png)"
   ]
  },
  {
   "attachments": {
    "image.png": {
     "image/png": "[encoded data removed]"
    }
   },
   "cell_type": "markdown",
   "id": "adb07e4a",
   "metadata": {},
   "source": [
    "![image.png](attachment:image.png)"
   ]
  },
  {
   "attachments": {
    "image.png": {
     "image/png": "[encoded data removed]"
    }
   },
   "cell_type": "markdown",
   "id": "976626ef",
   "metadata": {},
   "source": [
    "![image.png](attachment:image.png)"
   ]
  },
  {
   "attachments": {
    "image.png": {
     "image/png": "[encoded data removed]"
    }
   },
   "cell_type": "markdown",
   "id": "5412d892",
   "metadata": {},
   "source": [
    "![image.png](attachment:image.png)"
   ]
  },
  {
   "attachments": {
    "image.png": {
     "image/png": "[encoded data removed]"
    }
   },
   "cell_type": "markdown",
   "id": "b2acb65d",
   "metadata": {},
   "source": [
    "![image.png](attachment:image.png)"
   ]
  }
 ],
 "metadata": {
  "kernelspec": {
   "display_name": "Python 3 (ipykernel)",
   "language": "python",
   "name": "python3"
  },
  "language_info": {
   "codemirror_mode": {
    "name": "ipython",
    "version": 3
   },
   "file_extension": ".py",
   "mimetype": "text/x-python",
   "name": "python",
   "nbconvert_exporter": "python",
   "pygments_lexer": "ipython3",
   "version": "3.9.12"
  }
 },
 "nbformat": 4,
 "nbformat_minor": 5
}
