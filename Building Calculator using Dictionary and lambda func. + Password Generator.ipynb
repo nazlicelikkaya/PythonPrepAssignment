{
 "cells": [
  {
   "cell_type": "markdown",
   "id": "0f9b473a",
   "metadata": {},
   "source": [
    "<a id=\"toc\"></a>\n",
    "\n",
    "## <p style=\"background-color:#0D8D99; font-family:newtimeroman; color:#FFF9ED; font-size:175%; text-align:center; border-radius:10px 10px;\">Some Algorithm Exercises</p>"
   ]
  },
  {
   "cell_type": "markdown",
   "id": "57ce0b80",
   "metadata": {},
   "source": [
    "<div class=\"alert alert-block alert-info\"><h1><p style=\"text-align: center; color:purple\">Building a Calculator by using \"Dictionary\"<br><br>Password Generator</p>"
   ]
  },
  {
   "cell_type": "markdown",
   "id": "1382b8e1",
   "metadata": {},
   "source": [
    "<a id=\"toc\"></a>\n",
    "\n",
    "### <p style=\"background-color:#9d4f8c; font-family:newtimeroman; color:#FFF9ED; font-size:175%; text-align:center; border-radius:10px 10px;\">Building a Calculator by using \"Dictionary\"</p>"
   ]
  },
  {
   "cell_type": "code",
   "execution_count": null,
   "id": "96d8c80e",
   "metadata": {},
   "outputs": [],
   "source": [
    "calculator[\"+\"] = value "
   ]
  },
  {
   "cell_type": "code",
   "execution_count": null,
   "id": "d79e04b0",
   "metadata": {},
   "outputs": [],
   "source": [
    "calculator = {\"+\" : value1,\n",
    "             \"-\" : value2,\n",
    "             \"*\" : value3,\n",
    "             \"/\" : value4\n",
    "             }"
   ]
  },
  {
   "cell_type": "code",
   "execution_count": null,
   "id": "879676d9",
   "metadata": {},
   "outputs": [],
   "source": [
    "calculator[\"+\"](4, 5) --> 9"
   ]
  },
  {
   "cell_type": "code",
   "execution_count": 7,
   "id": "232aa763",
   "metadata": {},
   "outputs": [
    {
     "data": {
      "text/plain": [
       "9"
      ]
     },
     "execution_count": 7,
     "metadata": {},
     "output_type": "execute_result"
    }
   ],
   "source": [
    "(lambda x, y : x + y)(4, 5)"
   ]
  },
  {
   "cell_type": "code",
   "execution_count": 8,
   "id": "a99555cf",
   "metadata": {},
   "outputs": [
    {
     "data": {
      "text/plain": [
       "9"
      ]
     },
     "execution_count": 8,
     "metadata": {},
     "output_type": "execute_result"
    }
   ],
   "source": [
    "toplam = lambda x, y : x + y\n",
    "\n",
    "toplam(4, 5)"
   ]
  },
  {
   "cell_type": "code",
   "execution_count": 2,
   "id": "c35a00e4",
   "metadata": {},
   "outputs": [],
   "source": [
    "sözlük = {\"bir\" : 44,\n",
    "         \"iki\" : [\"ali\", \"deli\", \"veli\"]}"
   ]
  },
  {
   "cell_type": "code",
   "execution_count": 3,
   "id": "b319ffae",
   "metadata": {},
   "outputs": [
    {
     "data": {
      "text/plain": [
       "44"
      ]
     },
     "execution_count": 3,
     "metadata": {},
     "output_type": "execute_result"
    }
   ],
   "source": [
    "sözlük[\"bir\"]"
   ]
  },
  {
   "cell_type": "code",
   "execution_count": 4,
   "id": "233916b9",
   "metadata": {},
   "outputs": [
    {
     "data": {
      "text/plain": [
       "int"
      ]
     },
     "execution_count": 4,
     "metadata": {},
     "output_type": "execute_result"
    }
   ],
   "source": [
    "type(sözlük[\"bir\"])"
   ]
  },
  {
   "cell_type": "code",
   "execution_count": 5,
   "id": "96de81df",
   "metadata": {},
   "outputs": [],
   "source": [
    "sözlük[\"sum\"] = lambda x, y : x + y"
   ]
  },
  {
   "cell_type": "code",
   "execution_count": 6,
   "id": "33340507",
   "metadata": {},
   "outputs": [
    {
     "data": {
      "text/plain": [
       "{'bir': 44,\n",
       " 'iki': ['ali', 'deli', 'veli'],\n",
       " 'sum': <function __main__.<lambda>(x, y)>}"
      ]
     },
     "execution_count": 6,
     "metadata": {},
     "output_type": "execute_result"
    }
   ],
   "source": [
    "sözlük"
   ]
  },
  {
   "cell_type": "code",
   "execution_count": 9,
   "id": "50077dc1",
   "metadata": {},
   "outputs": [
    {
     "data": {
      "text/plain": [
       "9"
      ]
     },
     "execution_count": 9,
     "metadata": {},
     "output_type": "execute_result"
    }
   ],
   "source": [
    "sözlük[\"sum\"](4, 5)"
   ]
  },
  {
   "cell_type": "code",
   "execution_count": null,
   "id": "a5b3e396",
   "metadata": {},
   "outputs": [],
   "source": [
    "sözlük = {\"bir\" : 44,\n",
    "         \"iki\" : [\"ali\", \"deli\", \"veli\"],\n",
    "         \"sum\" : lambda x, y : x + y}"
   ]
  },
  {
   "cell_type": "code",
   "execution_count": 13,
   "id": "ca00b627",
   "metadata": {},
   "outputs": [],
   "source": [
    "calculator = {\"+\" : lambda x, y : x + y,\n",
    "              \"-\" : lambda x, y : x - y,\n",
    "              \"*\" : lambda x, y : x * y,\n",
    "              \"/\" : lambda x, y : x / y\n",
    "}"
   ]
  },
  {
   "cell_type": "code",
   "execution_count": 11,
   "id": "fa25ff3b",
   "metadata": {},
   "outputs": [
    {
     "data": {
      "text/plain": [
       "<function __main__.<lambda>(x, y)>"
      ]
     },
     "execution_count": 11,
     "metadata": {},
     "output_type": "execute_result"
    }
   ],
   "source": [
    "calculator[\"/\"] "
   ]
  },
  {
   "cell_type": "code",
   "execution_count": 14,
   "id": "d8546cf9",
   "metadata": {},
   "outputs": [
    {
     "data": {
      "text/plain": [
       "3.0"
      ]
     },
     "execution_count": 14,
     "metadata": {},
     "output_type": "execute_result"
    }
   ],
   "source": [
    "calculator[\"/\"](9, 3)"
   ]
  },
  {
   "cell_type": "markdown",
   "id": "cbaeb265",
   "metadata": {},
   "source": [
    "<a id=\"toc\"></a>\n",
    "\n",
    "### <p style=\"background-color:#9d4f8c; font-family:newtimeroman; color:#FFF9ED; font-size:175%; text-align:center; border-radius:10px 10px;\">Password Generator</p>"
   ]
  },
  {
   "cell_type": "code",
   "execution_count": null,
   "id": "55754c6a",
   "metadata": {},
   "outputs": [],
   "source": [
    "import modul_name"
   ]
  },
  {
   "cell_type": "code",
   "execution_count": 15,
   "id": "adc409de",
   "metadata": {},
   "outputs": [],
   "source": [
    "import random"
   ]
  },
  {
   "cell_type": "code",
   "execution_count": 18,
   "id": "6363a900",
   "metadata": {},
   "outputs": [
    {
     "data": {
      "text/plain": [
       "22"
      ]
     },
     "execution_count": 18,
     "metadata": {},
     "output_type": "execute_result"
    }
   ],
   "source": [
    "random.randint(10, 30)"
   ]
  },
  {
   "cell_type": "code",
   "execution_count": 21,
   "id": "833cd1df",
   "metadata": {},
   "outputs": [
    {
     "data": {
      "text/plain": [
       "'o'"
      ]
     },
     "execution_count": 21,
     "metadata": {},
     "output_type": "execute_result"
    }
   ],
   "source": [
    "chr(111)"
   ]
  },
  {
   "cell_type": "code",
   "execution_count": 27,
   "id": "4e51e880",
   "metadata": {},
   "outputs": [
    {
     "data": {
      "text/plain": [
       "'u'"
      ]
     },
     "execution_count": 27,
     "metadata": {},
     "output_type": "execute_result"
    }
   ],
   "source": [
    "chr(random.randint(97, 122))"
   ]
  },
  {
   "cell_type": "code",
   "execution_count": 28,
   "id": "b0f4a129",
   "metadata": {},
   "outputs": [
    {
     "data": {
      "text/plain": [
       "'H'"
      ]
     },
     "execution_count": 28,
     "metadata": {},
     "output_type": "execute_result"
    }
   ],
   "source": [
    "chr(random.randint(65, 90))"
   ]
  },
  {
   "cell_type": "code",
   "execution_count": 31,
   "id": "b378a32f",
   "metadata": {},
   "outputs": [
    {
     "data": {
      "text/plain": [
       "'1'"
      ]
     },
     "execution_count": 31,
     "metadata": {},
     "output_type": "execute_result"
    }
   ],
   "source": [
    "chr(random.randint(48, 57))"
   ]
  },
  {
   "cell_type": "code",
   "execution_count": 32,
   "id": "8377bb48",
   "metadata": {},
   "outputs": [
    {
     "data": {
      "text/plain": [
       "','"
      ]
     },
     "execution_count": 32,
     "metadata": {},
     "output_type": "execute_result"
    }
   ],
   "source": [
    "chr(random.randint(33, 47))"
   ]
  },
  {
   "cell_type": "code",
   "execution_count": 33,
   "id": "d51e233b",
   "metadata": {},
   "outputs": [
    {
     "data": {
      "text/plain": [
       "'?'"
      ]
     },
     "execution_count": 33,
     "metadata": {},
     "output_type": "execute_result"
    }
   ],
   "source": [
    "chr(random.randint(58, 64))"
   ]
  },
  {
   "cell_type": "code",
   "execution_count": null,
   "id": "43285bcc",
   "metadata": {},
   "outputs": [],
   "source": [
    "uppers = [code_body for i in range(3)]"
   ]
  },
  {
   "cell_type": "code",
   "execution_count": 34,
   "id": "87bfaae5",
   "metadata": {},
   "outputs": [
    {
     "data": {
      "text/plain": [
       "['W', 'T', 'H']"
      ]
     },
     "execution_count": 34,
     "metadata": {},
     "output_type": "execute_result"
    }
   ],
   "source": [
    "uppers = [chr(random.randint(65, 90)) for i in range(3)]\n",
    "uppers"
   ]
  },
  {
   "cell_type": "code",
   "execution_count": 36,
   "id": "50d47128",
   "metadata": {},
   "outputs": [
    {
     "data": {
      "text/plain": [
       "['t', 'y', 'a']"
      ]
     },
     "execution_count": 36,
     "metadata": {},
     "output_type": "execute_result"
    }
   ],
   "source": [
    "lowers = [chr(random.randint(97, 122)) for i in range(3)]\n",
    "lowers"
   ]
  },
  {
   "cell_type": "code",
   "execution_count": 37,
   "id": "24caa871",
   "metadata": {},
   "outputs": [
    {
     "data": {
      "text/plain": [
       "['1', '3', '4']"
      ]
     },
     "execution_count": 37,
     "metadata": {},
     "output_type": "execute_result"
    }
   ],
   "source": [
    "numbers = [chr(random.randint(48, 57)) for i in range(3)]\n",
    "numbers"
   ]
  },
  {
   "cell_type": "code",
   "execution_count": 38,
   "id": "c67d64ba",
   "metadata": {},
   "outputs": [
    {
     "data": {
      "text/plain": [
       "'!:'"
      ]
     },
     "execution_count": 38,
     "metadata": {},
     "output_type": "execute_result"
    }
   ],
   "source": [
    "chars = chr(random.randint(33, 47)) + chr(random.randint(58, 64))\n",
    "chars"
   ]
  },
  {
   "cell_type": "code",
   "execution_count": 39,
   "id": "a2a9899c",
   "metadata": {},
   "outputs": [
    {
     "data": {
      "text/plain": [
       "'1-3-4'"
      ]
     },
     "execution_count": 39,
     "metadata": {},
     "output_type": "execute_result"
    }
   ],
   "source": [
    "\"-\".join(numbers)"
   ]
  },
  {
   "cell_type": "code",
   "execution_count": 40,
   "id": "78d02167",
   "metadata": {},
   "outputs": [
    {
     "data": {
      "text/plain": [
       "'134'"
      ]
     },
     "execution_count": 40,
     "metadata": {},
     "output_type": "execute_result"
    }
   ],
   "source": [
    "\"\".join(numbers)"
   ]
  },
  {
   "cell_type": "code",
   "execution_count": 41,
   "id": "7bdb7e1f",
   "metadata": {},
   "outputs": [
    {
     "data": {
      "text/plain": [
       "str"
      ]
     },
     "execution_count": 41,
     "metadata": {},
     "output_type": "execute_result"
    }
   ],
   "source": [
    "type(\"\".join(numbers))"
   ]
  },
  {
   "cell_type": "code",
   "execution_count": 42,
   "id": "60bfa820",
   "metadata": {},
   "outputs": [
    {
     "data": {
      "text/plain": [
       "'WTHtya134!:'"
      ]
     },
     "execution_count": 42,
     "metadata": {},
     "output_type": "execute_result"
    }
   ],
   "source": [
    "passw = \"\".join(uppers) + \"\".join(lowers) + \"\".join(numbers) + chars\n",
    "\n",
    "passw"
   ]
  },
  {
   "cell_type": "code",
   "execution_count": null,
   "id": "1977f9e2",
   "metadata": {},
   "outputs": [],
   "source": [
    "random.shuffle()"
   ]
  },
  {
   "cell_type": "code",
   "execution_count": 43,
   "id": "b39e2147",
   "metadata": {},
   "outputs": [
    {
     "data": {
      "text/plain": [
       "['W', 'T', 'H', 't', 'y', 'a', '1', '3', '4', '!', ':']"
      ]
     },
     "execution_count": 43,
     "metadata": {},
     "output_type": "execute_result"
    }
   ],
   "source": [
    "pass_list = list(passw)\n",
    "\n",
    "pass_list"
   ]
  },
  {
   "cell_type": "code",
   "execution_count": 44,
   "id": "fd845c92",
   "metadata": {},
   "outputs": [],
   "source": [
    "random.shuffle(pass_list)"
   ]
  },
  {
   "cell_type": "code",
   "execution_count": 45,
   "id": "7aabf7f2",
   "metadata": {},
   "outputs": [
    {
     "data": {
      "text/plain": [
       "['3', '!', '4', 'T', 'W', 't', ':', 'y', 'H', 'a', '1']"
      ]
     },
     "execution_count": 45,
     "metadata": {},
     "output_type": "execute_result"
    }
   ],
   "source": [
    "pass_list"
   ]
  },
  {
   "cell_type": "code",
   "execution_count": 46,
   "id": "268420a8",
   "metadata": {},
   "outputs": [
    {
     "data": {
      "text/plain": [
       "'3!4TWt:yHa1'"
      ]
     },
     "execution_count": 46,
     "metadata": {},
     "output_type": "execute_result"
    }
   ],
   "source": [
    "\"\".join(pass_list)"
   ]
  },
  {
   "cell_type": "code",
   "execution_count": 47,
   "id": "1707ee67",
   "metadata": {},
   "outputs": [],
   "source": [
    "def karıştır(password) :\n",
    "    templist = list(password)\n",
    "    random.shuffle(templist)\n",
    "    return \"\".join(templist)"
   ]
  },
  {
   "cell_type": "code",
   "execution_count": 48,
   "id": "ed670b8f",
   "metadata": {},
   "outputs": [
    {
     "data": {
      "text/plain": [
       "'WTHtya134!:'"
      ]
     },
     "execution_count": 48,
     "metadata": {},
     "output_type": "execute_result"
    }
   ],
   "source": [
    "passw"
   ]
  },
  {
   "cell_type": "code",
   "execution_count": 49,
   "id": "850e02dc",
   "metadata": {},
   "outputs": [
    {
     "name": "stdout",
     "output_type": "stream",
     "text": [
      "H1y4T:t!aW3\n"
     ]
    }
   ],
   "source": [
    "print(karıştır(passw))"
   ]
  },
  {
   "cell_type": "code",
   "execution_count": null,
   "id": "b7613ab3",
   "metadata": {},
   "outputs": [],
   "source": []
  },
  {
   "attachments": {
    "image-2.png": {
     "image/png": "[encoded data removed]"
    }
   },
   "cell_type": "markdown",
   "id": "32d58a30",
   "metadata": {},
   "source": [
    "![image-2.png](attachment:image-2.png)"
   ]
  },
  {
   "cell_type": "code",
   "execution_count": null,
   "id": "794faeb9",
   "metadata": {},
   "outputs": [],
   "source": []
  }
 ],
 "metadata": {
  "kernelspec": {
   "display_name": "Python 3 (ipykernel)",
   "language": "python",
   "name": "python3"
  },
  "language_info": {
   "codemirror_mode": {
    "name": "ipython",
    "version": 3
   },
   "file_extension": ".py",
   "mimetype": "text/x-python",
   "name": "python",
   "nbconvert_exporter": "python",
   "pygments_lexer": "ipython3",
   "version": "3.9.12"
  }
 },
 "nbformat": 4,
 "nbformat_minor": 5
}
