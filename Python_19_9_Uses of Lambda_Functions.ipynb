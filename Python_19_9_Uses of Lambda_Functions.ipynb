{
 "cells": [
  {
   "cell_type": "markdown",
   "id": "29d60b78",
   "metadata": {},
   "source": [
    "<img src=\"https://docs.google.com/uc?id=14xeXxFrVRjvOoUYWn_GuyE-v84wVzrqr\" class=\"img-fluid\" alt=\"CLRWY\" width=\"400\" height=\"200\">"
   ]
  },
  {
   "cell_type": "markdown",
   "id": "97d2a08c",
   "metadata": {},
   "source": [
    "<a id=\"toc\"></a>\n",
    "\n",
    "### <p style=\"background-color:#0D8D99; font-family:newtimeroman; color:#FFF9ED; font-size:175%; text-align:center; border-radius:10px 10px;\">Python Session-19 (9 Nov 2022)</p>"
   ]
  },
  {
   "attachments": {},
   "cell_type": "markdown",
   "id": "2a056995",
   "metadata": {},
   "source": [
    "#### <div class=\"alert alert-block alert-info\"><h1><p style=\"text-align: center; color:purple\"> Lambda Functions<br><br>Lambda within Built-in Functions<br><br>Lambda within User-Defined Functions</p> "
   ]
  },
  {
   "cell_type": "markdown",
   "id": "71e9c513",
   "metadata": {},
   "source": [
    "**Python official documentation 1 - Lambda Functions:https://docs.python.org/3/tutorial/controlflow.html#lambda-expressions**\n",
    "\n",
    "**Link2 - Python Lambda: https://www.w3schools.com/python/python_lambda.asp**\n",
    "\n",
    "**Link3 - Python Lambda Functions: https://www.geeksforgeeks.org/python-lambda-anonymous-functions-filter-map-reduce/**\n",
    "\n",
    "**Link4 - Lambda functions with practical examples in python :https://towardsdatascience.com/lambda-functions-with-practical-examples-in-python-45934f3653a8**"
   ]
  },
  {
   "cell_type": "markdown",
   "id": "4fb2806b",
   "metadata": {},
   "source": [
    "<a id=\"toc\"></a>\n",
    "\n",
    "### <p style=\"background-color:#9d4f8c; font-family:newtimeroman; color:#FFF9ED; font-size:175%; text-align:center; border-radius:10px 10px;\">Lambda within Built-in Functions</p>"
   ]
  },
  {
   "cell_type": "markdown",
   "id": "a86b74d4",
   "metadata": {},
   "source": [
    "### lambda with ternary operator:"
   ]
  },
  {
   "cell_type": "code",
   "execution_count": 1,
   "id": "07973b4e",
   "metadata": {},
   "outputs": [],
   "source": [
    "finder = lambda x : \"odd\" if x % 2 != 0 else \"even\""
   ]
  },
  {
   "cell_type": "code",
   "execution_count": 2,
   "id": "e8b714b4",
   "metadata": {},
   "outputs": [
    {
     "data": {
      "text/plain": [
       "<function __main__.<lambda>(x)>"
      ]
     },
     "execution_count": 2,
     "metadata": {},
     "output_type": "execute_result"
    }
   ],
   "source": [
    "finder"
   ]
  },
  {
   "cell_type": "code",
   "execution_count": 3,
   "id": "f74eef9a",
   "metadata": {},
   "outputs": [
    {
     "data": {
      "text/plain": [
       "'even'"
      ]
     },
     "execution_count": 3,
     "metadata": {},
     "output_type": "execute_result"
    }
   ],
   "source": [
    "finder(2)"
   ]
  },
  {
   "cell_type": "code",
   "execution_count": 4,
   "id": "3e1c0635",
   "metadata": {},
   "outputs": [
    {
     "data": {
      "text/plain": [
       "'odd'"
      ]
     },
     "execution_count": 4,
     "metadata": {},
     "output_type": "execute_result"
    }
   ],
   "source": [
    "finder(77)"
   ]
  },
  {
   "cell_type": "markdown",
   "id": "2c8d6c23",
   "metadata": {},
   "source": [
    "**Task :**\n",
    "\n",
    "**Write a Python program that types ‘even’ or ‘odd’ in accordance with the numbers in a list.**\n",
    "\n",
    "**Use lambda function and loop.**\n",
    "\n",
    "**Your code must contain no more than 2 lines.** \n",
    "\n",
    "**The sample list and desired output are as follows :**\n",
    "\n",
    "```\n",
    "1 : odd\n",
    "2 : even\n",
    "3 : odd\n",
    "4 : even\n",
    "```"
   ]
  },
  {
   "cell_type": "markdown",
   "id": "3da2fbe5",
   "metadata": {},
   "source": [
    "## Let's write the code that returns the length of the elements of the given list with the function map()"
   ]
  },
  {
   "cell_type": "code",
   "execution_count": 6,
   "id": "d8b63c87",
   "metadata": {},
   "outputs": [],
   "source": [
    "kelimeler = [\"alideliveli\", \"ahmet\", \"sel\"]"
   ]
  },
  {
   "cell_type": "code",
   "execution_count": 7,
   "id": "42dbbd44",
   "metadata": {},
   "outputs": [
    {
     "data": {
      "text/plain": [
       "<map at 0x2ae8dcf02b0>"
      ]
     },
     "execution_count": 7,
     "metadata": {},
     "output_type": "execute_result"
    }
   ],
   "source": [
    "map(len, kelimeler)"
   ]
  },
  {
   "cell_type": "code",
   "execution_count": 8,
   "id": "e0764dd6",
   "metadata": {},
   "outputs": [
    {
     "data": {
      "text/plain": [
       "[11, 5, 3]"
      ]
     },
     "execution_count": 8,
     "metadata": {},
     "output_type": "execute_result"
    }
   ],
   "source": [
    "list(map(len, kelimeler))"
   ]
  },
  {
   "cell_type": "code",
   "execution_count": 11,
   "id": "daad1f44",
   "metadata": {},
   "outputs": [
    {
     "data": {
      "text/plain": [
       "<map at 0x2ae8f030a60>"
      ]
     },
     "execution_count": 11,
     "metadata": {},
     "output_type": "execute_result"
    }
   ],
   "source": [
    "uzunluk = map(len, kelimeler)\n",
    "\n",
    "uzunluk"
   ]
  },
  {
   "cell_type": "code",
   "execution_count": 12,
   "id": "e23a250d",
   "metadata": {},
   "outputs": [
    {
     "name": "stdout",
     "output_type": "stream",
     "text": [
      "11 5 3\n"
     ]
    }
   ],
   "source": [
    "print(* uzunluk)"
   ]
  },
  {
   "cell_type": "code",
   "execution_count": 15,
   "id": "6b645092",
   "metadata": {},
   "outputs": [
    {
     "name": "stdout",
     "output_type": "stream",
     "text": [
      "[11, 5, 3]\n"
     ]
    }
   ],
   "source": [
    "length = []\n",
    "\n",
    "for i in kelimeler :\n",
    "    length.append(len(i))\n",
    "print(length)"
   ]
  },
  {
   "cell_type": "markdown",
   "id": "5a8c4a20",
   "metadata": {},
   "source": [
    "## Let's square all the numbers in the list using map() and lambda:"
   ]
  },
  {
   "cell_type": "code",
   "execution_count": 16,
   "id": "6ea9083f",
   "metadata": {},
   "outputs": [],
   "source": [
    "fonksiyonum = lambda x : x ** 2"
   ]
  },
  {
   "cell_type": "code",
   "execution_count": 17,
   "id": "31975626",
   "metadata": {},
   "outputs": [],
   "source": [
    "iterable = [1, 2, 3, 4, 5]"
   ]
  },
  {
   "cell_type": "code",
   "execution_count": 18,
   "id": "67a52a74",
   "metadata": {},
   "outputs": [
    {
     "name": "stdout",
     "output_type": "stream",
     "text": [
      "1 4 9 16 25\n"
     ]
    }
   ],
   "source": [
    "sonuç = map(fonksiyonum, iterable)\n",
    "\n",
    "print(* sonuç)"
   ]
  },
  {
   "cell_type": "code",
   "execution_count": 20,
   "id": "1fcdf75a",
   "metadata": {},
   "outputs": [
    {
     "name": "stdout",
     "output_type": "stream",
     "text": [
      "1 4 9 16 25\n"
     ]
    }
   ],
   "source": [
    "print(* (map(lambda x : x ** 2, [1, 2, 3, 4, 5])))"
   ]
  },
  {
   "cell_type": "code",
   "execution_count": 21,
   "id": "13ee423c",
   "metadata": {},
   "outputs": [
    {
     "name": "stdout",
     "output_type": "stream",
     "text": [
      "1 4 9 16 25 "
     ]
    }
   ],
   "source": [
    "sonuç = map(fonksiyonum, iterable)\n",
    "\n",
    "for i in sonuç :\n",
    "    print(i, end = \" \")"
   ]
  },
  {
   "cell_type": "code",
   "execution_count": 22,
   "id": "ccd60d6b",
   "metadata": {},
   "outputs": [
    {
     "data": {
      "text/plain": [
       "[1, 4, 9, 16, 25]"
      ]
     },
     "execution_count": 22,
     "metadata": {},
     "output_type": "execute_result"
    }
   ],
   "source": [
    "sonuç = map(fonksiyonum, iterable)\n",
    "\n",
    "list(sonuç)"
   ]
  },
  {
   "cell_type": "code",
   "execution_count": 23,
   "id": "f92884a5",
   "metadata": {},
   "outputs": [],
   "source": [
    "def kare(x) :\n",
    "    return x ** 2"
   ]
  },
  {
   "cell_type": "code",
   "execution_count": 24,
   "id": "d9f806a9",
   "metadata": {},
   "outputs": [
    {
     "data": {
      "text/plain": [
       "[1, 4, 9, 16, 25]"
      ]
     },
     "execution_count": 24,
     "metadata": {},
     "output_type": "execute_result"
    }
   ],
   "source": [
    "iterable = [1, 2, 3, 4, 5]\n",
    "\n",
    "list(map(kare, iterable))"
   ]
  },
  {
   "cell_type": "code",
   "execution_count": null,
   "id": "ca6fb726",
   "metadata": {},
   "outputs": [],
   "source": []
  },
  {
   "cell_type": "code",
   "execution_count": 25,
   "id": "21a6acd5",
   "metadata": {},
   "outputs": [],
   "source": [
    "topla = lambda x, y, z : x + y + z"
   ]
  },
  {
   "cell_type": "code",
   "execution_count": 26,
   "id": "6452e327",
   "metadata": {},
   "outputs": [
    {
     "data": {
      "text/plain": [
       "'ali'"
      ]
     },
     "execution_count": 26,
     "metadata": {},
     "output_type": "execute_result"
    }
   ],
   "source": [
    "topla(\"a\", \"l\", \"i\")"
   ]
  },
  {
   "cell_type": "markdown",
   "id": "479a088b",
   "metadata": {},
   "source": [
    "**Task :**\n",
    "**Using lambda in map() function, Write a program that calculates the arithmetic means of two element pairs in the following two lists in accordance with their order and collects them into a list.**\n",
    "\n",
    "num1 = [9, 6, 7, 4]<br>\n",
    "num2 = [3, 6, 5, 8]"
   ]
  },
  {
   "cell_type": "code",
   "execution_count": null,
   "id": "fc70dd99",
   "metadata": {},
   "outputs": [],
   "source": [
    "map()"
   ]
  },
  {
   "cell_type": "code",
   "execution_count": 27,
   "id": "d00fa2fa",
   "metadata": {},
   "outputs": [],
   "source": [
    "num1 = [9, 6, 7, 4]\n",
    "num2 = [3, 6, 5, 8]\n",
    "\n",
    "func = lambda x, y : (x + y) / 2 \n",
    "\n",
    "numbers = map(func, num1, num2)"
   ]
  },
  {
   "cell_type": "code",
   "execution_count": 28,
   "id": "eba92be7",
   "metadata": {},
   "outputs": [
    {
     "name": "stdout",
     "output_type": "stream",
     "text": [
      "[6.0, 6.0, 6.0, 6.0]\n"
     ]
    }
   ],
   "source": [
    "print(list(numbers))"
   ]
  },
  {
   "cell_type": "markdown",
   "id": "134b7321",
   "metadata": {},
   "source": [
    "**Task :**\n",
    "\n",
    "**Using lambda in map() function, write a program that sets three meaningful sentences derived from the elements in the following three lists in accordance with their order.** \n",
    "\n",
    "**Print these sentences on separate lines.**\n",
    "\n",
    "words1 = [\"you\", \"much\", \"hard\"]<br>\n",
    "words2 = [\"i\", \"you\", \"he\"]<br>\n",
    "words3 = [\"love\", \"ate\", \"works\"]"
   ]
  },
  {
   "cell_type": "code",
   "execution_count": 31,
   "id": "05de4053",
   "metadata": {},
   "outputs": [
    {
     "name": "stdout",
     "output_type": "stream",
     "text": [
      "i love you\n",
      "you ate much\n",
      "he works hard\n"
     ]
    }
   ],
   "source": [
    "words1 = [\"you\", \"much\", \"hard\"]\n",
    "words2 = [\"i\", \"you\", \"he\"]\n",
    "words3 = [\"love\", \"ate\", \"works\"]\n",
    "\n",
    "concat = lambda x, y, z : x + \" \" + y + \" \" + z\n",
    "\n",
    "sentences = map(lambda x, y, z : x + \" \" + y + \" \" + z, words2, words3, words1)\n",
    "\n",
    "for i in sentences :\n",
    "    print(i)"
   ]
  },
  {
   "cell_type": "markdown",
   "id": "fc32f263",
   "metadata": {},
   "source": [
    "## filter() fonksiyonu içinde lambda fonk. kullanarak bir listedeki tek sayıları döndürelim:"
   ]
  },
  {
   "cell_type": "code",
   "execution_count": null,
   "id": "c050c1b9",
   "metadata": {},
   "outputs": [],
   "source": [
    "filter()"
   ]
  },
  {
   "cell_type": "code",
   "execution_count": 32,
   "id": "953cdb8e",
   "metadata": {},
   "outputs": [
    {
     "data": {
      "text/plain": [
       "True"
      ]
     },
     "execution_count": 32,
     "metadata": {},
     "output_type": "execute_result"
    }
   ],
   "source": [
    "4 % 2 == 0"
   ]
  },
  {
   "cell_type": "code",
   "execution_count": 33,
   "id": "44688b1c",
   "metadata": {},
   "outputs": [
    {
     "data": {
      "text/plain": [
       "False"
      ]
     },
     "execution_count": 33,
     "metadata": {},
     "output_type": "execute_result"
    }
   ],
   "source": [
    "5 % 2 == 0"
   ]
  },
  {
   "cell_type": "code",
   "execution_count": 34,
   "id": "9fad869f",
   "metadata": {},
   "outputs": [],
   "source": [
    "first_ten = [1, 2, 3, 4, 5, 6, 7, 8, 9]"
   ]
  },
  {
   "cell_type": "code",
   "execution_count": 35,
   "id": "dd2280a5",
   "metadata": {},
   "outputs": [],
   "source": [
    "# aynı condition'ın 4 farklı kullanım şekli:\n",
    "\n",
    "odd1 = filter(lambda x : x % 2 != 0, first_ten)\n",
    "\n",
    "odd2 = filter(lambda x : x % 2 == 1, first_ten)\n",
    "\n",
    "odd3 = filter(lambda x: not x % 2 == 0, first_ten)\n",
    "\n",
    "odd4 = filter(lambda x: x % 2, first_ten)"
   ]
  },
  {
   "cell_type": "code",
   "execution_count": 36,
   "id": "50d2e596",
   "metadata": {},
   "outputs": [
    {
     "name": "stdout",
     "output_type": "stream",
     "text": [
      "1 3 5 7 9\n"
     ]
    }
   ],
   "source": [
    "print(*odd3)"
   ]
  },
  {
   "cell_type": "code",
   "execution_count": 37,
   "id": "51688de0",
   "metadata": {},
   "outputs": [
    {
     "name": "stdout",
     "output_type": "stream",
     "text": [
      "1 3 5 7 9\n"
     ]
    }
   ],
   "source": [
    "print(*odd4)"
   ]
  },
  {
   "cell_type": "markdown",
   "id": "3b539ae7",
   "metadata": {},
   "source": [
    "**Task :** \n",
    "\n",
    "**Using lambda in filter() function, write a program that filters out words (elements of the given list) with less than 5 chars.**\n",
    "\n",
    "**Print these words which has less than 5 chars on separate lines.**\n",
    "\n",
    "words = [\"apple\", \"swim\", \"clock\", \"me\", \"kiwi\", \"banana\"]"
   ]
  },
  {
   "cell_type": "code",
   "execution_count": 38,
   "id": "48b10194",
   "metadata": {},
   "outputs": [
    {
     "data": {
      "text/plain": [
       "5"
      ]
     },
     "execution_count": 38,
     "metadata": {},
     "output_type": "execute_result"
    }
   ],
   "source": [
    "len(\"apple\")"
   ]
  },
  {
   "cell_type": "code",
   "execution_count": 39,
   "id": "6dcbaa30",
   "metadata": {},
   "outputs": [
    {
     "data": {
      "text/plain": [
       "False"
      ]
     },
     "execution_count": 39,
     "metadata": {},
     "output_type": "execute_result"
    }
   ],
   "source": [
    "len(\"apple\") < 5"
   ]
  },
  {
   "cell_type": "code",
   "execution_count": 40,
   "id": "ccc78999",
   "metadata": {},
   "outputs": [
    {
     "data": {
      "text/plain": [
       "True"
      ]
     },
     "execution_count": 40,
     "metadata": {},
     "output_type": "execute_result"
    }
   ],
   "source": [
    "len(\"me\") < 5"
   ]
  },
  {
   "cell_type": "code",
   "execution_count": 42,
   "id": "0bae53aa",
   "metadata": {},
   "outputs": [
    {
     "name": "stdout",
     "output_type": "stream",
     "text": [
      "swim\n",
      "me\n",
      "kiwi\n"
     ]
    }
   ],
   "source": [
    "words = [\"apple\", \"swim\", \"clock\", \"me\", \"kiwi\", \"banana\"]\n",
    "\n",
    "# filter fonksiyonunun içine True/False döndüren bir lambda fonksiyon girelim:\n",
    "\n",
    "for i in filter(lambda x : len(x) < 5, words) :  \n",
    "    print(i)\n",
    "\n",
    "# filter, lambda'nın True döndürdüğü elemanları filtreleyip geçirdi. \n",
    "# False döndürdüklerini bıraktı."
   ]
  },
  {
   "cell_type": "markdown",
   "id": "590b2306",
   "metadata": {},
   "source": [
    "## map() ve zip() fonksiyonları iç içe kullanılırsa:\n",
    "\n",
    "**on the air object içinde on the air object niteliğinde elemanlar..**"
   ]
  },
  {
   "cell_type": "code",
   "execution_count": 43,
   "id": "e8a2b99e",
   "metadata": {},
   "outputs": [],
   "source": [
    "letter1 = \"a b c\".split()\n",
    "letter2 = \"x, y, z\".split()"
   ]
  },
  {
   "cell_type": "code",
   "execution_count": 44,
   "id": "8d70eb78",
   "metadata": {},
   "outputs": [
    {
     "data": {
      "text/plain": [
       "['a', 'b', 'c']"
      ]
     },
     "execution_count": 44,
     "metadata": {},
     "output_type": "execute_result"
    }
   ],
   "source": [
    "letter1"
   ]
  },
  {
   "cell_type": "code",
   "execution_count": 45,
   "id": "493cd2c2",
   "metadata": {},
   "outputs": [
    {
     "data": {
      "text/plain": [
       "['x,', 'y,', 'z']"
      ]
     },
     "execution_count": 45,
     "metadata": {},
     "output_type": "execute_result"
    }
   ],
   "source": [
    "letter2"
   ]
  },
  {
   "cell_type": "code",
   "execution_count": 46,
   "id": "7e310170",
   "metadata": {},
   "outputs": [
    {
     "data": {
      "text/plain": [
       "[('a', 'x,'), ('b', 'y,'), ('c', 'z')]"
      ]
     },
     "execution_count": 46,
     "metadata": {},
     "output_type": "execute_result"
    }
   ],
   "source": [
    "list(map((lambda x, y : (x, y)), letter1, letter2))"
   ]
  },
  {
   "cell_type": "code",
   "execution_count": 47,
   "id": "4b2507aa",
   "metadata": {},
   "outputs": [
    {
     "data": {
      "text/plain": [
       "[('a', 'x,'), ('b', 'y,'), ('c', 'z')]"
      ]
     },
     "execution_count": 47,
     "metadata": {},
     "output_type": "execute_result"
    }
   ],
   "source": [
    "list(zip(letter1, letter2))"
   ]
  },
  {
   "cell_type": "code",
   "execution_count": 48,
   "id": "3f45f704",
   "metadata": {},
   "outputs": [
    {
     "data": {
      "text/plain": [
       "<map at 0x2ae8fb11310>"
      ]
     },
     "execution_count": 48,
     "metadata": {},
     "output_type": "execute_result"
    }
   ],
   "source": [
    "map(zip, letter1, letter2)  # bir map object generate etti."
   ]
  },
  {
   "cell_type": "code",
   "execution_count": 50,
   "id": "6da6d020",
   "metadata": {},
   "outputs": [],
   "source": [
    "birleştir = map(zip, letter1, letter2)"
   ]
  },
  {
   "cell_type": "code",
   "execution_count": 51,
   "id": "73bc23a9",
   "metadata": {},
   "outputs": [
    {
     "data": {
      "text/plain": [
       "[<zip at 0x2ae8fb0c300>, <zip at 0x2ae8fb109c0>, <zip at 0x2ae8fd42880>]"
      ]
     },
     "execution_count": 51,
     "metadata": {},
     "output_type": "execute_result"
    }
   ],
   "source": [
    "list(birleştir)  # map object'in içini list() fonksiyonu ile görüntülediğimizde;\n",
    "                    # içinde 3 adet zip object görüyoruz."
   ]
  },
  {
   "cell_type": "code",
   "execution_count": 52,
   "id": "76cbdcc0",
   "metadata": {},
   "outputs": [
    {
     "name": "stdout",
     "output_type": "stream",
     "text": [
      "('a', 'x')\n",
      "('b', 'y')\n",
      "('c', 'z')\n"
     ]
    }
   ],
   "source": [
    "# map object içindeki zip objectleri görüntülemek için ; \n",
    "    # nested for döngüsü kullanalım:\n",
    "\n",
    "birleştir = map(zip, letter1, letter2)\n",
    "\n",
    "for i in birleştir:\n",
    "    for j in i :\n",
    "        print(j)"
   ]
  },
  {
   "cell_type": "code",
   "execution_count": 54,
   "id": "bfebe8e3",
   "metadata": {},
   "outputs": [
    {
     "data": {
      "text/plain": [
       "[('b', 'y')]"
      ]
     },
     "execution_count": 54,
     "metadata": {},
     "output_type": "execute_result"
    }
   ],
   "source": [
    "list(zip(letter1[1], letter2[1]))"
   ]
  },
  {
   "cell_type": "markdown",
   "id": "eaf4c799",
   "metadata": {},
   "source": [
    "**Task :**\n",
    "\n",
    "**This time, let’s filter the vowels from the given letters in a list.**\n",
    "\n",
    "**Print these letters in a list.**\n",
    "\n",
    "first_ten = ['a', 'b', 'c', 'd', 'e', 'f', 'g', 'h', 'i', 'j']"
   ]
  },
  {
   "cell_type": "code",
   "execution_count": 55,
   "id": "a25c9db2",
   "metadata": {},
   "outputs": [],
   "source": [
    "first_ten = ['a', 'b', 'c', 'd', 'e', 'f', 'g', 'h', 'i', 'j']"
   ]
  },
  {
   "cell_type": "code",
   "execution_count": 58,
   "id": "4c544bdd",
   "metadata": {},
   "outputs": [
    {
     "data": {
      "text/plain": [
       "['a', 'e', 'i']"
      ]
     },
     "execution_count": 58,
     "metadata": {},
     "output_type": "execute_result"
    }
   ],
   "source": [
    "vowel_list = [\"a\", \"e\", \"i\", \"o\", \"u\"]\n",
    "\n",
    "fonks = lambda x : True if x in vowel_list else False\n",
    "\n",
    "vowels = filter(fonks, first_ten)\n",
    "\n",
    "list(vowels)"
   ]
  },
  {
   "cell_type": "code",
   "execution_count": 59,
   "id": "6059603f",
   "metadata": {},
   "outputs": [
    {
     "data": {
      "text/plain": [
       "['a', 'e', 'i']"
      ]
     },
     "execution_count": 59,
     "metadata": {},
     "output_type": "execute_result"
    }
   ],
   "source": [
    "vowels2 = filter(lambda x : x in vowel_list, first_ten)\n",
    "list(vowels2)"
   ]
  },
  {
   "cell_type": "markdown",
   "id": "db6c10c8",
   "metadata": {},
   "source": [
    "<a id=\"toc\"></a>\n",
    "\n",
    "### <p style=\"background-color:#9d4f8c; font-family:newtimeroman; color:#FFF9ED; font-size:175%; text-align:center; border-radius:10px 10px;\">Lambda within User-Defined Functions</p>"
   ]
  },
  {
   "cell_type": "code",
   "execution_count": 130,
   "id": "3f2ea61c",
   "metadata": {},
   "outputs": [],
   "source": [
    "def modular_function(n):\n",
    "    return lambda x : x ** n\n",
    "\n",
    "\n",
    "power_of_2 = modular_function(2)\n",
    "power_of_3 = modular_function(3)\n",
    "power_of_4 = modular_function(4)"
   ]
  },
  {
   "cell_type": "code",
   "execution_count": 131,
   "id": "aa36f640",
   "metadata": {},
   "outputs": [
    {
     "name": "stdout",
     "output_type": "stream",
     "text": [
      "16\n",
      "64\n",
      "256\n"
     ]
    }
   ],
   "source": [
    "print(power_of_2(4))\n",
    "print(power_of_3(4))\n",
    "print(power_of_4(4))"
   ]
  },
  {
   "cell_type": "markdown",
   "id": "83a28000",
   "metadata": {},
   "source": [
    "**Task : (pre-class content)**\n",
    "\n",
    "**We can define a function with the same logic as the previous example that repeats the string passed into it.**\n",
    "\n",
    "**Define a function (def) named repeater using lambda to print the string n times.**"
   ]
  },
  {
   "cell_type": "code",
   "execution_count": 124,
   "id": "0a799bb6",
   "metadata": {},
   "outputs": [],
   "source": [
    "def repeater(n) :\n",
    "    return lambda x : x * n\n",
    "\n",
    "repeat_2_times = repeater(2)  # repeats 2 times\n",
    "repeat_3_times = repeater(3)  # repeats 3 times\n",
    "repeat_4_times = repeater(4)  # repeats 4 times"
   ]
  },
  {
   "cell_type": "code",
   "execution_count": 127,
   "id": "0cbe01b0",
   "metadata": {},
   "outputs": [
    {
     "data": {
      "text/plain": [
       "'edwin edwin '"
      ]
     },
     "execution_count": 127,
     "metadata": {},
     "output_type": "execute_result"
    }
   ],
   "source": [
    "repeat_2_times(\"edwin \")"
   ]
  },
  {
   "cell_type": "code",
   "execution_count": 128,
   "id": "55fc5c43",
   "metadata": {},
   "outputs": [
    {
     "data": {
      "text/plain": [
       "'edwin edwin edwin '"
      ]
     },
     "execution_count": 128,
     "metadata": {},
     "output_type": "execute_result"
    }
   ],
   "source": [
    "repeat_3_times(\"edwin \")"
   ]
  },
  {
   "cell_type": "code",
   "execution_count": 129,
   "id": "0c863743",
   "metadata": {},
   "outputs": [
    {
     "data": {
      "text/plain": [
       "'edwin edwin edwin edwin '"
      ]
     },
     "execution_count": 129,
     "metadata": {},
     "output_type": "execute_result"
    }
   ],
   "source": [
    "repeat_4_times(\"edwin \")"
   ]
  },
  {
   "cell_type": "markdown",
   "id": "4cc623d4",
   "metadata": {},
   "source": [
    "**Task :** \n",
    "\n",
    "**Define a simple function (def) named functioner using lambda to create your own print function with emoji faces. Such as :**"
   ]
  },
  {
   "attachments": {
    "image.png": {
     "image/png": "[encoded data removed]"
    }
   },
   "cell_type": "markdown",
   "id": "3292aa92",
   "metadata": {},
   "source": [
    "![image.png](attachment:image.png)"
   ]
  },
  {
   "attachments": {
    "image.png": {
     "image/png": "[encoded data removed]"
    }
   },
   "cell_type": "markdown",
   "id": "de86c64b",
   "metadata": {},
   "source": [
    "![image.png](attachment:image.png)"
   ]
  },
  {
   "cell_type": "code",
   "execution_count": 61,
   "id": "916ced19",
   "metadata": {},
   "outputs": [],
   "source": [
    "def functioner(emoji = \"\") :\n",
    "    return lambda message : print(message, emoji)"
   ]
  },
  {
   "cell_type": "code",
   "execution_count": 60,
   "id": "f978f516",
   "metadata": {},
   "outputs": [
    {
     "name": "stdout",
     "output_type": "stream",
     "text": [
      "ali :)\n"
     ]
    }
   ],
   "source": [
    "print(\"ali\", \":)\")"
   ]
  },
  {
   "cell_type": "code",
   "execution_count": 65,
   "id": "1f9f8854",
   "metadata": {},
   "outputs": [],
   "source": [
    "gülen_yüz = functioner(\":)\")\n",
    "üzgün_yüz = functioner(\":(\")\n",
    "donuk_yüz = functioner(\":|\")"
   ]
  },
  {
   "cell_type": "code",
   "execution_count": 63,
   "id": "16b54a74",
   "metadata": {},
   "outputs": [
    {
     "name": "stdout",
     "output_type": "stream",
     "text": [
      "merhaba :)\n"
     ]
    }
   ],
   "source": [
    "gülen_yüz(\"merhaba\")\n"
   ]
  },
  {
   "cell_type": "code",
   "execution_count": 64,
   "id": "94c20c69",
   "metadata": {},
   "outputs": [
    {
     "name": "stdout",
     "output_type": "stream",
     "text": [
      "[1, 2, 3] :)\n"
     ]
    }
   ],
   "source": [
    "gülen_yüz([1,2,3])"
   ]
  },
  {
   "cell_type": "code",
   "execution_count": 66,
   "id": "dc16f33e",
   "metadata": {},
   "outputs": [
    {
     "name": "stdout",
     "output_type": "stream",
     "text": [
      "selam :|\n"
     ]
    }
   ],
   "source": [
    "donuk_yüz(\"selam\")"
   ]
  },
  {
   "cell_type": "code",
   "execution_count": 67,
   "id": "777c84dd",
   "metadata": {},
   "outputs": [
    {
     "name": "stdout",
     "output_type": "stream",
     "text": [
      "111 :(\n"
     ]
    }
   ],
   "source": [
    "(lambda x: print(x, \":(\"))(111)"
   ]
  },
  {
   "attachments": {
    "image.png": {
     "image/png": "[encoded data removed]"
    }
   },
   "cell_type": "markdown",
   "id": "6bde4e4b",
   "metadata": {},
   "source": [
    "![image.png](attachment:image.png)"
   ]
  },
  {
   "cell_type": "code",
   "execution_count": null,
   "id": "cce03fea",
   "metadata": {},
   "outputs": [],
   "source": [
    "ertan_print()\n",
    "ertan_max()\n",
    "ertan_bool()"
   ]
  },
  {
   "cell_type": "code",
   "execution_count": 69,
   "id": "938c0e8a",
   "metadata": {},
   "outputs": [
    {
     "name": "stdout",
     "output_type": "stream",
     "text": [
      "ali deli veli\n"
     ]
    }
   ],
   "source": [
    "(lambda x : print(x))(\"ali deli veli\")"
   ]
  },
  {
   "cell_type": "code",
   "execution_count": 70,
   "id": "2190cbf9",
   "metadata": {},
   "outputs": [
    {
     "data": {
      "text/plain": [
       "3"
      ]
     },
     "execution_count": 70,
     "metadata": {},
     "output_type": "execute_result"
    }
   ],
   "source": [
    "(lambda x : max(x))([1,2,3])"
   ]
  },
  {
   "cell_type": "code",
   "execution_count": 71,
   "id": "4c76f173",
   "metadata": {},
   "outputs": [
    {
     "data": {
      "text/plain": [
       "[1, 2, 4, 5, 7, 9]"
      ]
     },
     "execution_count": 71,
     "metadata": {},
     "output_type": "execute_result"
    }
   ],
   "source": [
    "(lambda x : sorted(x))([9, 5, 4, 7, 2, 1])"
   ]
  },
  {
   "cell_type": "code",
   "execution_count": 72,
   "id": "27c8d872",
   "metadata": {},
   "outputs": [],
   "source": [
    "def function_generator(func_name) :\n",
    "    return lambda x: func_name(x)"
   ]
  },
  {
   "cell_type": "code",
   "execution_count": 73,
   "id": "65223ac6",
   "metadata": {},
   "outputs": [],
   "source": [
    "edwin_max = function_generator(max)"
   ]
  },
  {
   "cell_type": "code",
   "execution_count": 74,
   "id": "8eb3f93b",
   "metadata": {},
   "outputs": [
    {
     "data": {
      "text/plain": [
       "9"
      ]
     },
     "execution_count": 74,
     "metadata": {},
     "output_type": "execute_result"
    }
   ],
   "source": [
    "edwin_max([1,3,5,7,9])"
   ]
  },
  {
   "cell_type": "code",
   "execution_count": 75,
   "id": "f2778af2",
   "metadata": {},
   "outputs": [],
   "source": [
    "edwin_print = function_generator(print)"
   ]
  },
  {
   "cell_type": "code",
   "execution_count": 76,
   "id": "9d280e94",
   "metadata": {},
   "outputs": [
    {
     "name": "stdout",
     "output_type": "stream",
     "text": [
      "sabredin, çalışın, bırakmayın!\n"
     ]
    }
   ],
   "source": [
    "edwin_print(\"sabredin, çalışın, bırakmayın!\")"
   ]
  },
  {
   "cell_type": "code",
   "execution_count": 77,
   "id": "d93927e7",
   "metadata": {},
   "outputs": [],
   "source": [
    "edwin_bool = function_generator(bool)"
   ]
  },
  {
   "cell_type": "code",
   "execution_count": 78,
   "id": "33e219b6",
   "metadata": {},
   "outputs": [
    {
     "data": {
      "text/plain": [
       "True"
      ]
     },
     "execution_count": 78,
     "metadata": {},
     "output_type": "execute_result"
    }
   ],
   "source": [
    "edwin_bool(1)"
   ]
  },
  {
   "cell_type": "markdown",
   "id": "43aac2a3",
   "metadata": {},
   "source": [
    "## Bir fonksiyon kod body'sinde neyi return ediyorsa fonksiyonu çağırdığınız her yerde o value'yu döndürür!"
   ]
  },
  {
   "cell_type": "code",
   "execution_count": 79,
   "id": "c5301ad8",
   "metadata": {},
   "outputs": [],
   "source": [
    "def x():\n",
    "    return 1, 2, 3, 4  # 1,2,3,4 sayılarını döndürecek."
   ]
  },
  {
   "cell_type": "code",
   "execution_count": 81,
   "id": "e9338acd",
   "metadata": {},
   "outputs": [
    {
     "data": {
      "text/plain": [
       "(1, 2, 3, 4)"
      ]
     },
     "execution_count": 81,
     "metadata": {},
     "output_type": "execute_result"
    }
   ],
   "source": [
    "1, 2, 3, 4  # döndürdüğü değer bu. Ve bu bir tuple!"
   ]
  },
  {
   "cell_type": "code",
   "execution_count": 80,
   "id": "4446c61e",
   "metadata": {},
   "outputs": [
    {
     "data": {
      "text/plain": [
       "tuple"
      ]
     },
     "execution_count": 80,
     "metadata": {},
     "output_type": "execute_result"
    }
   ],
   "source": [
    "type(x())"
   ]
  },
  {
   "cell_type": "code",
   "execution_count": 82,
   "id": "631ccec4",
   "metadata": {},
   "outputs": [],
   "source": [
    "a, b, c, d = x()  # a, b, c, d = (1, 2, 3, 4)  ile aynı durum!"
   ]
  },
  {
   "cell_type": "code",
   "execution_count": 83,
   "id": "e48c2582",
   "metadata": {},
   "outputs": [
    {
     "data": {
      "text/plain": [
       "1"
      ]
     },
     "execution_count": 83,
     "metadata": {},
     "output_type": "execute_result"
    }
   ],
   "source": [
    "a"
   ]
  },
  {
   "cell_type": "code",
   "execution_count": 84,
   "id": "bf20b0fd",
   "metadata": {},
   "outputs": [
    {
     "data": {
      "text/plain": [
       "3"
      ]
     },
     "execution_count": 84,
     "metadata": {},
     "output_type": "execute_result"
    }
   ],
   "source": [
    "c"
   ]
  },
  {
   "cell_type": "code",
   "execution_count": 86,
   "id": "17f2feff",
   "metadata": {},
   "outputs": [],
   "source": [
    "a, b, c, d = 1, 2, 3, 4"
   ]
  },
  {
   "cell_type": "markdown",
   "id": "ed094e1e",
   "metadata": {},
   "source": [
    "# The Most Frequent Element taskının fonksiyon ile çözümü:"
   ]
  },
  {
   "cell_type": "code",
   "execution_count": 87,
   "id": "cd8d0d2f",
   "metadata": {},
   "outputs": [],
   "source": [
    "num= [1, 1, 1, 4, 5, 5]"
   ]
  },
  {
   "cell_type": "code",
   "execution_count": 88,
   "id": "2213deb1",
   "metadata": {},
   "outputs": [
    {
     "data": {
      "text/plain": [
       "1"
      ]
     },
     "execution_count": 88,
     "metadata": {},
     "output_type": "execute_result"
    }
   ],
   "source": [
    "max(num, key=num.count)"
   ]
  },
  {
   "cell_type": "code",
   "execution_count": 90,
   "id": "84aaf764",
   "metadata": {},
   "outputs": [
    {
     "data": {
      "text/plain": [
       "3"
      ]
     },
     "execution_count": 90,
     "metadata": {},
     "output_type": "execute_result"
    }
   ],
   "source": [
    "tekrar_sayısı = num.count(max(num, key=num.count))\n",
    "tekrar_sayısı"
   ]
  },
  {
   "cell_type": "code",
   "execution_count": 92,
   "id": "50ca9adb",
   "metadata": {},
   "outputs": [
    {
     "data": {
      "text/plain": [
       "1"
      ]
     },
     "execution_count": 92,
     "metadata": {},
     "output_type": "execute_result"
    }
   ],
   "source": [
    "num = [1, 2, 3]\n",
    "tekrar_sayısı = num.count(max(num, key=num.count))\n",
    "tekrar_sayısı\n",
    "\n",
    "# DİKKAT! en sık tekrar eden eleman yok. \n",
    "# liste içine tüm elemanlar 1'er defa geçmiş etmiş.\n",
    "# bu durumda tekrar eden eleman yok! \n",
    "# tekrar sayısını 1 değil, 0 olarak döndürmesini istiyoruz."
   ]
  },
  {
   "cell_type": "code",
   "execution_count": 93,
   "id": "950b2988",
   "metadata": {},
   "outputs": [
    {
     "data": {
      "text/plain": [
       "1"
      ]
     },
     "execution_count": 93,
     "metadata": {},
     "output_type": "execute_result"
    }
   ],
   "source": [
    "max(1,1,1)"
   ]
  },
  {
   "cell_type": "code",
   "execution_count": 98,
   "id": "b2a5f3dc",
   "metadata": {},
   "outputs": [],
   "source": [
    "def equal(a, b, c):\n",
    "    num = [a, b, c]\n",
    "    sonuç = num.count(max(num, key=num.count))\n",
    "    \n",
    "    if sonuç > 1 :\n",
    "        return sonuç\n",
    "    else:\n",
    "        return 0"
   ]
  },
  {
   "cell_type": "code",
   "execution_count": 99,
   "id": "e9e25d11",
   "metadata": {},
   "outputs": [
    {
     "data": {
      "text/plain": [
       "0"
      ]
     },
     "execution_count": 99,
     "metadata": {},
     "output_type": "execute_result"
    }
   ],
   "source": [
    "equal(1, 2, 3)\n",
    "\n",
    "# Tekrar eden eleman yok! (\"else\" çalıştı.)"
   ]
  },
  {
   "cell_type": "code",
   "execution_count": 100,
   "id": "c7433cd6",
   "metadata": {},
   "outputs": [
    {
     "data": {
      "text/plain": [
       "2"
      ]
     },
     "execution_count": 100,
     "metadata": {},
     "output_type": "execute_result"
    }
   ],
   "source": [
    "equal(1, 5, 5)"
   ]
  },
  {
   "cell_type": "markdown",
   "id": "5458f1a0",
   "metadata": {},
   "source": [
    "# User-defined fonksiyon ve arbitrary number of arguments kullanırsak:"
   ]
  },
  {
   "cell_type": "code",
   "execution_count": 104,
   "id": "1cc20ada",
   "metadata": {},
   "outputs": [],
   "source": [
    "def equal_(*arg) :\n",
    "    num = list(arg)\n",
    "    sonuç = num.count(max(num, key=num.count))\n",
    "    \n",
    "    if sonuç > 1 :\n",
    "        return sonuç\n",
    "    else:\n",
    "        return 0"
   ]
  },
  {
   "cell_type": "code",
   "execution_count": 105,
   "id": "09041156",
   "metadata": {},
   "outputs": [
    {
     "data": {
      "text/plain": [
       "3"
      ]
     },
     "execution_count": 105,
     "metadata": {},
     "output_type": "execute_result"
    }
   ],
   "source": [
    "equal_(1,1,1,2,3,7,7,8,9,9,9)"
   ]
  },
  {
   "cell_type": "markdown",
   "id": "58fef2f3",
   "metadata": {},
   "source": [
    "# lambda fonksiyon ile çözümü:\n"
   ]
  },
  {
   "cell_type": "code",
   "execution_count": null,
   "id": "bf78b958",
   "metadata": {},
   "outputs": [],
   "source": [
    "equalambda = lambda x, y, z : num.count(max(num, key = num.count))\n",
    "\n",
    "# DIKKAT! lambdada num yerine x, y ve z parametreleri gelmeli!!!"
   ]
  },
  {
   "cell_type": "code",
   "execution_count": 106,
   "id": "19ec4f68",
   "metadata": {},
   "outputs": [],
   "source": [
    "# num yazan yerleri silip yerine [x, y, z] listesini koyacağım:\n",
    "\n",
    "equalambda = lambda x, y, z : [x, y, z].count(max([x, y, z], key = [x, y, z].count))"
   ]
  },
  {
   "cell_type": "code",
   "execution_count": 107,
   "id": "b9f77e24",
   "metadata": {},
   "outputs": [
    {
     "data": {
      "text/plain": [
       "2"
      ]
     },
     "execution_count": 107,
     "metadata": {},
     "output_type": "execute_result"
    }
   ],
   "source": [
    "equalambda(1, 5, 5)"
   ]
  },
  {
   "cell_type": "code",
   "execution_count": 108,
   "id": "64aae2e9",
   "metadata": {},
   "outputs": [
    {
     "data": {
      "text/plain": [
       "1"
      ]
     },
     "execution_count": 108,
     "metadata": {},
     "output_type": "execute_result"
    }
   ],
   "source": [
    "equalambda(1,2,3)\n",
    "\n",
    "# bu durumda 0 vermesini istiyordum! \n",
    "# bunu lambdada sağlayabilmek için ternary yapısını kullanmalıyım:"
   ]
  },
  {
   "cell_type": "code",
   "execution_count": 109,
   "id": "c543eb83",
   "metadata": {},
   "outputs": [],
   "source": [
    "equalambda = lambda x, y, z : [x, y, z].count(max([x, y, z], key = [x, y, z].count))\\\n",
    "if [x, y, z].count(max([x, y, z], key = [x, y, z].count)) > 1  else 0\n",
    "\n",
    "# DİKKAT! Ternary operator yapısı gereği; if'den önce return edecek sonuç yazıldı. \n",
    "# return edecek değer : [x, y, z].count(max([x, y, z], key = [x, y, z].count))\n",
    "# sonra else'e kadar \"condition\" bölümü : [x, y, z].count(max([x, y, z], key = [x, y, z].count)) > 1\n",
    "# else'den sonrası ise tekrar eden elemanın sayısı 2'den küçük olması halinde return edecek olan değer: 0\n",
    "\n",
    "# GENEL ANLAMDA BUNU YAPMIŞ OLDUK: sonuç if sonuç > 1 else 0"
   ]
  },
  {
   "cell_type": "code",
   "execution_count": 110,
   "id": "9cecdca4",
   "metadata": {},
   "outputs": [
    {
     "data": {
      "text/plain": [
       "0"
      ]
     },
     "execution_count": 110,
     "metadata": {},
     "output_type": "execute_result"
    }
   ],
   "source": [
    "equalambda(1,2,3)"
   ]
  },
  {
   "cell_type": "code",
   "execution_count": 111,
   "id": "71369476",
   "metadata": {},
   "outputs": [
    {
     "data": {
      "text/plain": [
       "2"
      ]
     },
     "execution_count": 111,
     "metadata": {},
     "output_type": "execute_result"
    }
   ],
   "source": [
    "equalambda(1,5,5)"
   ]
  },
  {
   "cell_type": "markdown",
   "id": "96ce7c7d",
   "metadata": {},
   "source": [
    "# lambda ve arbitrary number of arguments kullanırsak:"
   ]
  },
  {
   "cell_type": "code",
   "execution_count": 121,
   "id": "c928cfe5",
   "metadata": {},
   "outputs": [],
   "source": [
    "# arbitrary number of arguments kullandığım user defined fonksiyonundaki gibi gelen argümanları;\n",
    "# list(* arg) ile listeye çevirerek kodumu düzenledim:\n",
    "\n",
    "equalambda2 = lambda *arg : list(arg).count(max(list(arg), key = list(arg).count))\\\n",
    "if list(arg).count(max(list(arg), key = list(arg).count)) > 1 else 0"
   ]
  },
  {
   "cell_type": "code",
   "execution_count": 122,
   "id": "d680c642",
   "metadata": {},
   "outputs": [
    {
     "data": {
      "text/plain": [
       "3"
      ]
     },
     "execution_count": 122,
     "metadata": {},
     "output_type": "execute_result"
    }
   ],
   "source": [
    "equalambda2(1,1,1,2,2,3)\n",
    "\n",
    "# en fazla tekrar eden 1 sayısı 3 kere tekrar etmiş."
   ]
  },
  {
   "attachments": {
    "image.png": {
     "image/png": "[encoded data removed]"
    }
   },
   "cell_type": "markdown",
   "id": "b2acb65d",
   "metadata": {},
   "source": [
    "![image.png](attachment:image.png)"
   ]
  },
  {
   "cell_type": "markdown",
   "id": "937c7c82",
   "metadata": {},
   "source": [
    "<img src=\"https://docs.google.com/uc?id=14xeXxFrVRjvOoUYWn_GuyE-v84wVzrqr\" class=\"img-fluid\" alt=\"CLRWY\" width=\"400\" height=\"200\">"
   ]
  }
 ],
 "metadata": {
  "kernelspec": {
   "display_name": "Python 3 (ipykernel)",
   "language": "python",
   "name": "python3"
  },
  "language_info": {
   "codemirror_mode": {
    "name": "ipython",
    "version": 3
   },
   "file_extension": ".py",
   "mimetype": "text/x-python",
   "name": "python",
   "nbconvert_exporter": "python",
   "pygments_lexer": "ipython3",
   "version": "3.9.12"
  }
 },
 "nbformat": 4,
 "nbformat_minor": 5
}
