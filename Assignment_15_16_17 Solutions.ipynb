{
 "cells": [
  {
   "cell_type": "markdown",
   "id": "0ecddc8c",
   "metadata": {},
   "source": [
    "<a id=\"toc\"></a>\n",
    "\n",
    "## <p style=\"background-color:#0D8D99; font-family:newtimeroman; color:#FFF9ED; font-size:175%; text-align:center; border-radius:10px 10px;\">Python Lab 9 - 11 Nov 2022</p>"
   ]
  },
  {
   "cell_type": "markdown",
   "id": "c74365f6",
   "metadata": {},
   "source": [
    "<div class=\"alert alert-block alert-info\"><h1><p style=\"text-align: center; color:purple\"><font color=blue><b>Assignment 15 & 16 & 17 Solutions</b></font><br><br>Prime Numbers<br><br>Fizz Buzz Numbers<br><br>Letters Count</p>"
   ]
  },
  {
   "cell_type": "markdown",
   "id": "d3d8ad55",
   "metadata": {},
   "source": [
    "<a id=\"toc\"></a>\n",
    "\n",
    "### <p style=\"background-color:#9d4f8c; font-family:newtimeroman; color:#FFF9ED; font-size:175%; text-align:center; border-radius:10px 10px;\">Assignment 15 - \"Prime Numbers\"</p>"
   ]
  },
  {
   "cell_type": "markdown",
   "id": "0ba54866",
   "metadata": {},
   "source": [
    "<div class=\"alert alert-block alert-info\">\n",
    "<font color=blue><b>Task :</b></font>\n",
    "<font color=red><b>Print the prime numbers which are between 1 to entered limit number (n).</b></font><br><br>\n",
    "<font color=darkblue>   \n",
    "<ol>\n",
    " <li>You can use a nested for loop.</li>\n",
    " <li>Collect all these numbers into a list</li>\n",
    " <li>The desired output for n=100 :</li>\n",
    "</ol></font>   "
   ]
  },
  {
   "attachments": {
    "image.png": {
     "image/png": "[encoded data removed]"
    }
   },
   "cell_type": "markdown",
   "id": "94bc257b",
   "metadata": {},
   "source": [
    "![image.png](attachment:image.png)"
   ]
  },
  {
   "cell_type": "markdown",
   "id": "b86c6138",
   "metadata": {},
   "source": [
    "## for döngüsünde \"else\" kullanımı! :"
   ]
  },
  {
   "cell_type": "code",
   "execution_count": 1,
   "id": "0ca9d463",
   "metadata": {},
   "outputs": [
    {
     "name": "stdout",
     "output_type": "stream",
     "text": [
      "0\n",
      "1\n",
      "2\n",
      "3\n",
      "4\n",
      "else çalıştı.\n"
     ]
    }
   ],
   "source": [
    "for i in range(5):\n",
    "    print(i)\n",
    "else :\n",
    "    print(\"else çalıştı.\")"
   ]
  },
  {
   "cell_type": "code",
   "execution_count": 2,
   "id": "1e84f10f",
   "metadata": {},
   "outputs": [
    {
     "name": "stdout",
     "output_type": "stream",
     "text": [
      "a harfi bulundu.\n",
      "a harfi bulundu.\n",
      "a harfi bulundu.\n",
      "a harfi bulundu.\n",
      "a harfi bulundu.\n",
      "a harfi bulundu.\n",
      "a harfi bulundu.\n"
     ]
    }
   ],
   "source": [
    "text = \"Bu akşam son labaratuvar dersimi yapıyoruz.\"\n",
    "\n",
    "for harf in text :\n",
    "    if harf == \"a\" :\n",
    "        print(\"a harfi bulundu.\")"
   ]
  },
  {
   "cell_type": "markdown",
   "id": "72c3012b",
   "metadata": {},
   "source": [
    "### break çalıştığı anda döngüden çıkar!"
   ]
  },
  {
   "cell_type": "code",
   "execution_count": 3,
   "id": "ebb7af74",
   "metadata": {},
   "outputs": [
    {
     "name": "stdout",
     "output_type": "stream",
     "text": [
      "a harfi bulundu.\n"
     ]
    }
   ],
   "source": [
    "text = \"Bu akşam son labaratuvar dersimi yapıyoruz.\"\n",
    "\n",
    "for harf in text :\n",
    "    if harf == \"a\" :\n",
    "        print(\"a harfi bulundu.\")\n",
    "        break  "
   ]
  },
  {
   "cell_type": "markdown",
   "id": "85ac3655",
   "metadata": {},
   "source": [
    "### eğer break ile döngüden çıkar ise else çalışmaz.\n",
    "### döngü tamamlanır da break çalışmaz ise else çalışır.\n",
    "### dolayısıyla \"else\" deyimi ancak bir şart içerisinde kullanılan \"break\" deyimi ile anlam kazanıyor!! "
   ]
  },
  {
   "cell_type": "code",
   "execution_count": 5,
   "id": "fd893faf",
   "metadata": {},
   "outputs": [
    {
     "name": "stdout",
     "output_type": "stream",
     "text": [
      "a harfi bulunamadı.\n"
     ]
    }
   ],
   "source": [
    "text = \"edwin instructor likes this cohort.\"\n",
    "\n",
    "for harf in text :\n",
    "    if harf == \"a\" :\n",
    "        print(\"a harfi bulundu.\")\n",
    "        break\n",
    "else : \n",
    "    print(\"a harfi bulunamadı.\")"
   ]
  },
  {
   "cell_type": "code",
   "execution_count": 6,
   "id": "b028ff64",
   "metadata": {},
   "outputs": [
    {
     "name": "stdout",
     "output_type": "stream",
     "text": [
      "a harfi bulundu.\n"
     ]
    }
   ],
   "source": [
    "text = \"edwin hoca bu cohortu seviyor.\"\n",
    "\n",
    "for harf in text :\n",
    "    if harf == \"a\" :\n",
    "        print(\"a harfi bulundu.\")\n",
    "        break\n",
    "else : \n",
    "    print(\"a harfi bulunamadı.\")"
   ]
  },
  {
   "cell_type": "markdown",
   "id": "a795c30b",
   "metadata": {},
   "source": [
    "## pass deyimi:\n",
    "\n",
    "### döngünün hiç bir şey yapmamamasını ancak hata da vermemesini istiyorsak kullanıyoruz."
   ]
  },
  {
   "cell_type": "code",
   "execution_count": 7,
   "id": "62a27310",
   "metadata": {},
   "outputs": [
    {
     "name": "stdout",
     "output_type": "stream",
     "text": [
      "9\n"
     ]
    }
   ],
   "source": [
    "for i in range(10) :\n",
    "    pass   \n",
    "else :\n",
    "    print(i)"
   ]
  },
  {
   "cell_type": "markdown",
   "id": "c70a7923",
   "metadata": {},
   "source": [
    "## while döngüsünde \"else\" kullanımı:"
   ]
  },
  {
   "cell_type": "code",
   "execution_count": 8,
   "id": "8d06005d",
   "metadata": {},
   "outputs": [
    {
     "name": "stdout",
     "output_type": "stream",
     "text": [
      "10\n"
     ]
    }
   ],
   "source": [
    "a = 1\n",
    "\n",
    "while a < 10 :\n",
    "    a += 1 \n",
    "else :\n",
    "    print(a)"
   ]
  },
  {
   "cell_type": "markdown",
   "id": "694e1ef5",
   "metadata": {},
   "source": [
    "## Prime Numbers sorusunun çözümüne geçelim: "
   ]
  },
  {
   "cell_type": "code",
   "execution_count": 9,
   "id": "148319aa",
   "metadata": {},
   "outputs": [
    {
     "name": "stdout",
     "output_type": "stream",
     "text": [
      "2\n",
      "3\n",
      "5\n",
      "7\n"
     ]
    }
   ],
   "source": [
    "for i in range(2, 10) :\n",
    "    for j in range(2, i) :\n",
    "        if i % j == 0 :\n",
    "                break\n",
    "    else:\n",
    "        print(i)"
   ]
  },
  {
   "cell_type": "code",
   "execution_count": 10,
   "id": "f797f332",
   "metadata": {},
   "outputs": [
    {
     "name": "stdout",
     "output_type": "stream",
     "text": [
      "enter a number to find the prime numbers in it :30\n",
      "2 3 5 7 11 13 17 19 23 29 "
     ]
    }
   ],
   "source": [
    "number = int(input(\"enter a number to find the prime numbers in it :\"))\n",
    "\n",
    "for i in range(2, number) :\n",
    "    for j in range(2, i) :\n",
    "        if i % j == 0 :\n",
    "                break\n",
    "    else:\n",
    "        print(i, end = \" \")"
   ]
  },
  {
   "cell_type": "markdown",
   "id": "c737f5cb",
   "metadata": {},
   "source": [
    "### eğer sonucu bir listede görmek istiyorsak:"
   ]
  },
  {
   "cell_type": "code",
   "execution_count": 12,
   "id": "4738ae90",
   "metadata": {},
   "outputs": [
    {
     "name": "stdout",
     "output_type": "stream",
     "text": [
      "enter a number to find the prime numbers in it :30\n",
      "[2, 3, 5, 7, 11, 13, 17, 19, 23, 29]\n"
     ]
    }
   ],
   "source": [
    "number = int(input(\"enter a number to find the prime numbers in it :\"))\n",
    "prime_list = []\n",
    "\n",
    "for i in range(2, number) :\n",
    "    for j in range(2, i) :\n",
    "        if i % j == 0 :\n",
    "            break\n",
    "    else:\n",
    "        prime_list.append(i)\n",
    "\n",
    "print(prime_list)"
   ]
  },
  {
   "cell_type": "markdown",
   "id": "901921b8",
   "metadata": {},
   "source": [
    "### daha öğrendiğimiz yöntemle (bir sayaç kullanarak) çözelim:"
   ]
  },
  {
   "cell_type": "code",
   "execution_count": 13,
   "id": "ce66788a",
   "metadata": {},
   "outputs": [
    {
     "name": "stdout",
     "output_type": "stream",
     "text": [
      "enter a number to find the prime numbers in it :30\n",
      "list of prime numbers from 1 to 30 : [2, 3, 5, 7, 11, 13, 17, 19, 23, 29]\n"
     ]
    }
   ],
   "source": [
    "number = int(input(\"enter a number to find the prime numbers in it :\"))\n",
    "prime_list = []\n",
    "\n",
    "for i in range(2, number) :\n",
    "    count = 0\n",
    "    \n",
    "    for j in range(2, i) :\n",
    "        if i % j == 0 :\n",
    "            count += 1 \n",
    "    if count == 0 :\n",
    "        prime_list.append(i)\n",
    "\n",
    "print(f\"list of prime numbers from 1 to {number} : {prime_list}\")"
   ]
  },
  {
   "cell_type": "markdown",
   "id": "0fa818e2",
   "metadata": {},
   "source": [
    "### else kullanmadan farkı bir çözüm daha:"
   ]
  },
  {
   "cell_type": "code",
   "execution_count": null,
   "id": "f350cfd2",
   "metadata": {},
   "outputs": [],
   "source": [
    "n = int(input('Enter a number to find the prime numbers in it :'))\n",
    "prime_number = []\n",
    "\n",
    "for i  in range(2, n):\n",
    "    a = []\n",
    "    for j in range (2, i):\n",
    "        a.append(i % j)\n",
    "    if all(a) == True:   # a listesinin elemanlarının tümü 0'dan farklı bir sayı ise.\n",
    "# yani i'ye tam bölünebilen bir eleman yok ise.\n",
    "        prime_number.append(i)  # i'yi prime_number listesine ekle.\n",
    "print(prime_number)"
   ]
  },
  {
   "cell_type": "markdown",
   "id": "4d3656ab",
   "metadata": {},
   "source": [
    "<a id=\"toc\"></a>\n",
    "\n",
    "### <p style=\"background-color:#9d4f8c; font-family:newtimeroman; color:#FFF9ED; font-size:175%; text-align:center; border-radius:10px 10px;\">Assignment 16 - \"Fizz Buzz Numbers</p>"
   ]
  },
  {
   "cell_type": "markdown",
   "id": "055fceb9",
   "metadata": {},
   "source": [
    "<div class=\"alert alert-block alert-info\">\n",
    "<font color=blue><b>Task :</b></font>\n",
    "<font color=red><b>Print the Fizz Buzz numbers.</b></font><br><br>\n",
    "<font color=darkblue>\n",
    "<ul>\n",
    " <li>TFizz Buzz is a famous code challenge used in interviews to test basic programming skills. It's time to write your own implementation.</li>\n",
    " <li>Print numbers from 1 to 100 inclusively following these instructions:<br><br></li>\n",
    "<font color=darkred>    \n",
    "<ol>\n",
    " <li>if a number is multiple of 3, print \"Fizz\" instead of this number,</li>\n",
    " <li>if a number is multiple of 5, print \"Buzz\" instead of this number,</li>\n",
    " <li>for numbers that are multiples of both 3 and 5, print \"FizzBuzz\",</li>\n",
    " <li>print the rest of the numbers unchanged.</li>\n",
    "</ol></font></ul>   \n",
    "<font color=blue>Output each value on a separate line.</font>"
   ]
  },
  {
   "cell_type": "code",
   "execution_count": 14,
   "id": "5c30d736",
   "metadata": {},
   "outputs": [
    {
     "name": "stdout",
     "output_type": "stream",
     "text": [
      "1 2 Fizz 4 Buzz Fizz 7 8 Fizz Buzz 11 Fizz 13 14 FizzBuzz 16 17 Fizz 19 Buzz Fizz 22 23 Fizz Buzz 26 Fizz 28 29 FizzBuzz 31 32 Fizz 34 Buzz Fizz 37 38 Fizz Buzz 41 Fizz 43 44 FizzBuzz 46 47 Fizz 49 Buzz Fizz 52 53 Fizz Buzz 56 Fizz 58 59 FizzBuzz 61 62 Fizz 64 Buzz Fizz 67 68 Fizz Buzz 71 Fizz 73 74 FizzBuzz 76 77 Fizz 79 Buzz Fizz 82 83 Fizz Buzz 86 Fizz 88 89 FizzBuzz 91 92 Fizz 94 Buzz Fizz 97 98 Fizz Buzz "
     ]
    }
   ],
   "source": [
    "for i in range(1, 101) :\n",
    "    if i % 15 == 0 :\n",
    "        print(\"FizzBuzz\", end = \" \")\n",
    "    elif i % 3 == 0 :\n",
    "        print(\"Fizz\", end = \" \")\n",
    "    elif i % 5 == 0 :\n",
    "        print(\"Buzz\", end = \" \")\n",
    "    else :\n",
    "        print(i, end = \" \")"
   ]
  },
  {
   "cell_type": "markdown",
   "id": "11a3ba33",
   "metadata": {},
   "source": [
    "## Ternary operator yapısını hatırlayalım:"
   ]
  },
  {
   "cell_type": "code",
   "execution_count": 15,
   "id": "97f17c73",
   "metadata": {},
   "outputs": [],
   "source": [
    "import numpy as np"
   ]
  },
  {
   "cell_type": "code",
   "execution_count": 28,
   "id": "232520d7",
   "metadata": {},
   "outputs": [
    {
     "data": {
      "text/plain": [
       "1.169548185038747"
      ]
     },
     "execution_count": 28,
     "metadata": {},
     "output_type": "execute_result"
    }
   ],
   "source": [
    "np.random.randn()  # Return a sample (or samples) from the \"standard normal\" distribution"
   ]
  },
  {
   "cell_type": "code",
   "execution_count": 31,
   "id": "1b49c7cd",
   "metadata": {},
   "outputs": [
    {
     "data": {
      "text/plain": [
       "'Between 0 and 1'"
      ]
     },
     "execution_count": 31,
     "metadata": {},
     "output_type": "execute_result"
    }
   ],
   "source": [
    "a = np.random.randn()\n",
    "\n",
    "\"Less than zero\" if a < 0 else \"Between 0 and 1\" if a >= 0 and a <= 1 else \"Greater than 1\""
   ]
  },
  {
   "cell_type": "markdown",
   "id": "575cd693",
   "metadata": {},
   "source": [
    "## Nested ternary expression ile Fizz Buzz Numbers sorusunu çözebiliriz artık: "
   ]
  },
  {
   "cell_type": "code",
   "execution_count": null,
   "id": "12214486",
   "metadata": {},
   "outputs": [],
   "source": [
    "for number in range(1, 101) :\n",
    "    print(\"FizzBuzz\" if not number % 3 and not number % 5 \\\n",
    "          else \"Buzz\" if not number % 5 else \"Fizz\" if not number % 3\\\n",
    "         else number, end = \" \")"
   ]
  },
  {
   "cell_type": "markdown",
   "id": "73d2fad9",
   "metadata": {},
   "source": [
    "### Fizz Buzz Numberları bulan bir fonksiyon tanımlayalım:"
   ]
  },
  {
   "cell_type": "code",
   "execution_count": null,
   "id": "1cf17fca",
   "metadata": {},
   "outputs": [],
   "source": [
    "number = int(input(\"Bir sayı giriniz: \"))\n",
    "\n",
    "def FizzBuzz(number):\n",
    "    fizz = []\n",
    "    buzz = []\n",
    "    fizzbuzz = []\n",
    "    unchanged = []\n",
    "    for i in range(1,number):\n",
    "        if i % 5 == 0 and i % 3 == 0:\n",
    "            fizzbuzz.append(i)\n",
    "        elif i % 5 == 0:\n",
    "            buzz.append(i)\n",
    "        elif i%3 == 0:\n",
    "            fizz.append(i)\n",
    "        else:\n",
    "            unchanged.append(i)\n",
    "    print(\"numbers which multiple of 3:{} \".format(fizz))\n",
    "    print(\"numbers which multiple of 5:{} \".format(buzz))\n",
    "    print(\"numbers which multiple of both 3 and 5:{} \".format(fizzbuzz))\n",
    "    print(\"numbers which is not multiple neither 3 or 5{} \".format(unchanged))\n",
    "        \n",
    "FizzBuzz(number)"
   ]
  },
  {
   "cell_type": "code",
   "execution_count": null,
   "id": "222186df",
   "metadata": {},
   "outputs": [],
   "source": [
    "number = int(input(\"Bir sayı giriniz: \"))\n",
    "\n",
    "def FizzBuzz(number):\n",
    "    fizz = []\n",
    "    buzz = []\n",
    "    fizzbuzz = []\n",
    "\n",
    "    for number in range(1, 101):\n",
    "        print('FizzBuzz' if not number % 3 and not number % 5\\\n",
    "              else 'Buzz' if not number % 5 else 'Fizz' if not number % 3 else number, end = \" \""
   ]
  },
  {
   "cell_type": "markdown",
   "id": "f67cdd13",
   "metadata": {},
   "source": [
    "<a id=\"toc\"></a>\n",
    "\n",
    "### <p style=\"background-color:#9d4f8c; font-family:newtimeroman; color:#FFF9ED; font-size:175%; text-align:center; border-radius:10px 10px;\">Assignment 17 - \"Letters Count</p>"
   ]
  },
  {
   "cell_type": "markdown",
   "id": "42878804",
   "metadata": {},
   "source": [
    "<div class=\"alert alert-block alert-info\">\n",
    "<font color=blue><b>Task :</b></font>\n",
    "<font color=red><b>Count the number of each letter in a sentence.</b></font><br><br>\n",
    "<font color=darkblue>\n",
    "<ul>\n",
    " <li>The department you work for undertook a project construction that makes word / text analysis. You are asked to calculate the number of letters or any chars in the sentences entered under this project.</li>\n",
    " <li>Write a Python program that;<br><br></li>\n",
    "<font color=darkred>    \n",
    "<ol>\n",
    " <li>takes a sentence from the user,</li>\n",
    " <li>counts the number of each letter/chars of the sentence,</li>\n",
    " <li>collects the letters/chars as a key and the counted numbers as a value in a dictionary.</li>\n",
    "</ol></font></ul>   \n",
    "</font> "
   ]
  },
  {
   "attachments": {
    "image.png": {
     "image/png": "[encoded data removed]"
    }
   },
   "cell_type": "markdown",
   "id": "41ba89eb",
   "metadata": {},
   "source": [
    "![image.png](attachment:image.png)"
   ]
  },
  {
   "cell_type": "code",
   "execution_count": 33,
   "id": "9ca35eae",
   "metadata": {},
   "outputs": [],
   "source": [
    "word = {}"
   ]
  },
  {
   "cell_type": "code",
   "execution_count": 34,
   "id": "c5b24d86",
   "metadata": {},
   "outputs": [],
   "source": [
    "word[\"e\"] = 1"
   ]
  },
  {
   "cell_type": "code",
   "execution_count": 35,
   "id": "4558cc34",
   "metadata": {},
   "outputs": [
    {
     "data": {
      "text/plain": [
       "{'e': 1}"
      ]
     },
     "execution_count": 35,
     "metadata": {},
     "output_type": "execute_result"
    }
   ],
   "source": [
    "word"
   ]
  },
  {
   "cell_type": "code",
   "execution_count": 36,
   "id": "4504739c",
   "metadata": {},
   "outputs": [],
   "source": [
    "word[\"d\"] = 1"
   ]
  },
  {
   "cell_type": "code",
   "execution_count": 37,
   "id": "d81daac0",
   "metadata": {},
   "outputs": [
    {
     "data": {
      "text/plain": [
       "{'e': 1, 'd': 1}"
      ]
     },
     "execution_count": 37,
     "metadata": {},
     "output_type": "execute_result"
    }
   ],
   "source": [
    "word"
   ]
  },
  {
   "cell_type": "code",
   "execution_count": 38,
   "id": "9d6675ac",
   "metadata": {},
   "outputs": [],
   "source": [
    "word[\"c\"] = 1"
   ]
  },
  {
   "cell_type": "code",
   "execution_count": 39,
   "id": "76f56619",
   "metadata": {},
   "outputs": [
    {
     "data": {
      "text/plain": [
       "{'e': 1, 'd': 1, 'c': 1}"
      ]
     },
     "execution_count": 39,
     "metadata": {},
     "output_type": "execute_result"
    }
   ],
   "source": [
    "word"
   ]
  },
  {
   "cell_type": "code",
   "execution_count": 40,
   "id": "ba4b1b76",
   "metadata": {},
   "outputs": [
    {
     "data": {
      "text/plain": [
       "1"
      ]
     },
     "execution_count": 40,
     "metadata": {},
     "output_type": "execute_result"
    }
   ],
   "source": [
    "word[\"c\"]"
   ]
  },
  {
   "cell_type": "code",
   "execution_count": 43,
   "id": "233bb9a8",
   "metadata": {},
   "outputs": [
    {
     "data": {
      "text/plain": [
       "{'e': 1, 'd': 1, 'c': 4}"
      ]
     },
     "execution_count": 43,
     "metadata": {},
     "output_type": "execute_result"
    }
   ],
   "source": [
    "word[\"c\"] = word[\"c\"] + 1\n",
    "\n",
    "word"
   ]
  },
  {
   "cell_type": "code",
   "execution_count": 44,
   "id": "06b795e7",
   "metadata": {},
   "outputs": [
    {
     "data": {
      "text/plain": [
       "True"
      ]
     },
     "execution_count": 44,
     "metadata": {},
     "output_type": "execute_result"
    }
   ],
   "source": [
    "\"c\" in word"
   ]
  },
  {
   "cell_type": "code",
   "execution_count": 45,
   "id": "10dfc3f3",
   "metadata": {},
   "outputs": [
    {
     "data": {
      "text/plain": [
       "False"
      ]
     },
     "execution_count": 45,
     "metadata": {},
     "output_type": "execute_result"
    }
   ],
   "source": [
    "\"f\" in word"
   ]
  },
  {
   "cell_type": "code",
   "execution_count": 46,
   "id": "1466062a",
   "metadata": {},
   "outputs": [
    {
     "name": "stdout",
     "output_type": "stream",
     "text": [
      "{'I': 1, ' ': 16, 'a': 5, 'm': 3, 'v': 1, 'e': 8, 'r': 4, 'y': 2, 's': 3, 'd': 2, 't': 10, 'o': 4, '.': 3, 'i': 4, \"'\": 1, 'p': 1, 'w': 2, 'l': 3, 'b': 1, 'g': 1, 'h': 2, 'f': 1}\n"
     ]
    }
   ],
   "source": [
    "string = \"I am very sad today. it's time to part. we will be together for the last time.\"\n",
    "\n",
    "word_dict = {}\n",
    "\n",
    "for n in string :\n",
    "    \n",
    "    if n in word_dict :\n",
    "        word_dict[n] += 1\n",
    "        \n",
    "    else :\n",
    "        word_dict[n] = 1\n",
    "        \n",
    "print(word_dict)"
   ]
  },
  {
   "cell_type": "markdown",
   "id": "ba141f41",
   "metadata": {},
   "source": [
    "## Aynı yöntemle bir listedeki elemanların veri tiplerinin sayısını tespit edelim"
   ]
  },
  {
   "cell_type": "code",
   "execution_count": 47,
   "id": "812aa3ad",
   "metadata": {},
   "outputs": [],
   "source": [
    "veri = [\"a\", \"b\", True, (False, 1), {\"1\":2}, [1,2], {\"2\":\"two\"},{2, \"3\"}, \"c\", 23, 0]"
   ]
  },
  {
   "cell_type": "code",
   "execution_count": 50,
   "id": "72d2ef78",
   "metadata": {},
   "outputs": [],
   "source": [
    "tipler = [\"int\", \"str\", \"bool\", \"list\", \"tuple\", \"dict\", \"set\"]"
   ]
  },
  {
   "cell_type": "markdown",
   "id": "37f52f31",
   "metadata": {},
   "source": [
    "**şuna benzer bir çıktımız olacak:**\n",
    "\n",
    "**{\"bool\" : 1, \"int\" : 2, \"list\" : 1, \"tuple\" : 1, \"str\" : 3, \"dict\" : 2}**"
   ]
  },
  {
   "cell_type": "code",
   "execution_count": 49,
   "id": "8353d539",
   "metadata": {},
   "outputs": [],
   "source": [
    "a = {}"
   ]
  },
  {
   "cell_type": "code",
   "execution_count": null,
   "id": "ca3e857e",
   "metadata": {},
   "outputs": [],
   "source": [
    "a.fromkeys()  # shif tab tab!!"
   ]
  },
  {
   "cell_type": "code",
   "execution_count": 51,
   "id": "cfc5ce24",
   "metadata": {},
   "outputs": [
    {
     "data": {
      "text/plain": [
       "{'int': True,\n",
       " 'str': True,\n",
       " 'bool': True,\n",
       " 'list': True,\n",
       " 'tuple': True,\n",
       " 'dict': True,\n",
       " 'set': True}"
      ]
     },
     "execution_count": 51,
     "metadata": {},
     "output_type": "execute_result"
    }
   ],
   "source": [
    "a.fromkeys(tipler, True)"
   ]
  },
  {
   "cell_type": "code",
   "execution_count": 52,
   "id": "2e745311",
   "metadata": {},
   "outputs": [
    {
     "data": {
      "text/plain": [
       "{'int': 0, 'str': 0, 'bool': 0, 'list': 0, 'tuple': 0, 'dict': 0, 'set': 0}"
      ]
     },
     "execution_count": 52,
     "metadata": {},
     "output_type": "execute_result"
    }
   ],
   "source": [
    "a.fromkeys(tipler, 0)"
   ]
  },
  {
   "cell_type": "code",
   "execution_count": 53,
   "id": "2b8139b2",
   "metadata": {},
   "outputs": [
    {
     "data": {
      "text/plain": [
       "{'int': 0, 'str': 0, 'bool': 0, 'list': 0, 'tuple': 0, 'dict': 0, 'set': 0}"
      ]
     },
     "execution_count": 53,
     "metadata": {},
     "output_type": "execute_result"
    }
   ],
   "source": [
    "toplam_tipler  = {}.fromkeys(tipler, 0)\n",
    "toplam_tipler"
   ]
  },
  {
   "cell_type": "code",
   "execution_count": 54,
   "id": "a91303ca",
   "metadata": {},
   "outputs": [
    {
     "name": "stdout",
     "output_type": "stream",
     "text": [
      "['a', 'b', True, (False, 1), {'1': 2}, [1, 2], {'2': 'two'}, {2, '3'}, 'c', 23, 0]\n"
     ]
    }
   ],
   "source": [
    "print(veri)"
   ]
  },
  {
   "cell_type": "code",
   "execution_count": 55,
   "id": "c2330a13",
   "metadata": {},
   "outputs": [
    {
     "data": {
      "text/plain": [
       "list"
      ]
     },
     "execution_count": 55,
     "metadata": {},
     "output_type": "execute_result"
    }
   ],
   "source": [
    "type(veri[5])"
   ]
  },
  {
   "cell_type": "code",
   "execution_count": 56,
   "id": "207098b9",
   "metadata": {},
   "outputs": [
    {
     "data": {
      "text/plain": [
       "tuple"
      ]
     },
     "execution_count": 56,
     "metadata": {},
     "output_type": "execute_result"
    }
   ],
   "source": [
    "type(veri[3])"
   ]
  },
  {
   "cell_type": "code",
   "execution_count": 57,
   "id": "ca9ea98c",
   "metadata": {},
   "outputs": [
    {
     "data": {
      "text/plain": [
       "{'int': 2, 'str': 3, 'bool': 1, 'list': 1, 'tuple': 1, 'dict': 2, 'set': 1}"
      ]
     },
     "execution_count": 57,
     "metadata": {},
     "output_type": "execute_result"
    }
   ],
   "source": [
    "for i in range(len(veri)):\n",
    "    \n",
    "    if type(veri[i]) == int : toplam_tipler[\"int\"] += 1 \n",
    "    elif type(veri[i]) == str : toplam_tipler[\"str\"] += 1\n",
    "    elif type(veri[i]) == bool : toplam_tipler[\"bool\"] += 1\n",
    "    elif type(veri[i]) == list : toplam_tipler[\"list\"] += 1\n",
    "    elif type(veri[i]) == tuple : toplam_tipler[\"tuple\"] += 1    \n",
    "    elif type(veri[i]) == dict  : toplam_tipler[\"dict\"] += 1\n",
    "    elif type(veri[i]) == set : toplam_tipler[\"set\"] += 1\n",
    "        \n",
    "toplam_tipler"
   ]
  },
  {
   "attachments": {
    "image-2.png": {
     "image/png": "[encoded data removed]"
    }
   },
   "cell_type": "markdown",
   "id": "37c6a1fa",
   "metadata": {},
   "source": [
    "![image-2.png](attachment:image-2.png)"
   ]
  }
 ],
 "metadata": {
  "kernelspec": {
   "display_name": "Python 3 (ipykernel)",
   "language": "python",
   "name": "python3"
  },
  "language_info": {
   "codemirror_mode": {
    "name": "ipython",
    "version": 3
   },
   "file_extension": ".py",
   "mimetype": "text/x-python",
   "name": "python",
   "nbconvert_exporter": "python",
   "pygments_lexer": "ipython3",
   "version": "3.9.12"
  }
 },
 "nbformat": 4,
 "nbformat_minor": 5
}
