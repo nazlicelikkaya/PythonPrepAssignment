{
 "cells": [
  {
   "cell_type": "markdown",
   "id": "29d60b78",
   "metadata": {},
   "source": [
    "<img src=\"https://docs.google.com/uc?id=14xeXxFrVRjvOoUYWn_GuyE-v84wVzrqr\" class=\"img-fluid\" alt=\"CLRWY\" width=\"400\" height=\"200\">"
   ]
  },
  {
   "cell_type": "markdown",
   "id": "97d2a08c",
   "metadata": {},
   "source": [
    "<a id=\"toc\"></a>\n",
    "\n",
    "## <p style=\"background-color:#0D8D99; font-family:newtimeroman; color:#FFF9ED; font-size:175%; text-align:center; border-radius:10px 10px;\">Python Session-9 (22 Oct 2022)</p>"
   ]
  },
  {
   "cell_type": "markdown",
   "id": "93bf8f83",
   "metadata": {},
   "source": [
    "#### <div class=\"alert alert-block alert-info\"><h1><p style=\"text-align: center; color:purple\"><br>Collection Types<br><br>Tuples<br><br>Dictionaries</p>"
   ]
  },
  {
   "cell_type": "markdown",
   "id": "a59a6b4b",
   "metadata": {},
   "source": [
    "<a id=\"toc\"></a>\n",
    "\n",
    "## <p style=\"background-color:#9d4f8c; font-family:newtimeroman; color:#FFF9ED; font-size:175%; text-align:center; border-radius:10px 10px;\">Tuples</p>"
   ]
  },
  {
   "cell_type": "markdown",
   "id": "32e07119",
   "metadata": {},
   "source": [
    "**python documentation link - Tuples and Sequences: https://docs.python.org/3/tutorial/datastructures.html#tuples-and-sequences**\n",
    "\n",
    "**Link 2: https://www.w3schools.com/python/python_tuples.asp**"
   ]
  },
  {
   "cell_type": "code",
   "execution_count": 1,
   "id": "ebfdc414",
   "metadata": {},
   "outputs": [
    {
     "data": {
      "text/plain": [
       "[1, 2, 3]"
      ]
     },
     "execution_count": 1,
     "metadata": {},
     "output_type": "execute_result"
    }
   ],
   "source": [
    "[1, 2, 3]"
   ]
  },
  {
   "cell_type": "code",
   "execution_count": 2,
   "id": "4bed10db",
   "metadata": {},
   "outputs": [
    {
     "data": {
      "text/plain": [
       "(1, 2, 3)"
      ]
     },
     "execution_count": 2,
     "metadata": {},
     "output_type": "execute_result"
    }
   ],
   "source": [
    "1, 2, 3"
   ]
  },
  {
   "cell_type": "code",
   "execution_count": 3,
   "id": "be1cf1ca",
   "metadata": {},
   "outputs": [],
   "source": [
    "tuple1 = 1, 2, 3"
   ]
  },
  {
   "cell_type": "code",
   "execution_count": 4,
   "id": "aa0cc34a",
   "metadata": {},
   "outputs": [
    {
     "data": {
      "text/plain": [
       "(1, 2, 3)"
      ]
     },
     "execution_count": 4,
     "metadata": {},
     "output_type": "execute_result"
    }
   ],
   "source": [
    "tuple1"
   ]
  },
  {
   "cell_type": "code",
   "execution_count": 6,
   "id": "107641e8",
   "metadata": {},
   "outputs": [
    {
     "name": "stdout",
     "output_type": "stream",
     "text": [
      "<class 'tuple'>\n"
     ]
    }
   ],
   "source": [
    "print(type(tuple1))"
   ]
  },
  {
   "cell_type": "code",
   "execution_count": 7,
   "id": "b73c90e0",
   "metadata": {},
   "outputs": [
    {
     "data": {
      "text/plain": [
       "('ali', 'deli', 'veli')"
      ]
     },
     "execution_count": 7,
     "metadata": {},
     "output_type": "execute_result"
    }
   ],
   "source": [
    "tuple2 = \"ali\", \"deli\", \"veli\"\n",
    "\n",
    "tuple2"
   ]
  },
  {
   "cell_type": "code",
   "execution_count": 8,
   "id": "06126ae8",
   "metadata": {},
   "outputs": [
    {
     "data": {
      "text/plain": [
       "'ali'"
      ]
     },
     "execution_count": 8,
     "metadata": {},
     "output_type": "execute_result"
    }
   ],
   "source": [
    "tuple_mı = \"ali\"\n",
    "\n",
    "tuple_mı"
   ]
  },
  {
   "cell_type": "code",
   "execution_count": 9,
   "id": "628bafed",
   "metadata": {},
   "outputs": [
    {
     "data": {
      "text/plain": [
       "('ali',)"
      ]
     },
     "execution_count": 9,
     "metadata": {},
     "output_type": "execute_result"
    }
   ],
   "source": [
    "tuple3 = \"ali\",\n",
    "\n",
    "tuple3"
   ]
  },
  {
   "cell_type": "code",
   "execution_count": 10,
   "id": "74358f77",
   "metadata": {},
   "outputs": [
    {
     "data": {
      "text/plain": [
       "int"
      ]
     },
     "execution_count": 10,
     "metadata": {},
     "output_type": "execute_result"
    }
   ],
   "source": [
    "t = 1\n",
    "\n",
    "type(t)"
   ]
  },
  {
   "cell_type": "code",
   "execution_count": 11,
   "id": "4deeaed5",
   "metadata": {},
   "outputs": [
    {
     "data": {
      "text/plain": [
       "tuple"
      ]
     },
     "execution_count": 11,
     "metadata": {},
     "output_type": "execute_result"
    }
   ],
   "source": [
    "y = 1,\n",
    "\n",
    "type(y)"
   ]
  },
  {
   "cell_type": "code",
   "execution_count": 12,
   "id": "1c572fa0",
   "metadata": {},
   "outputs": [
    {
     "data": {
      "text/plain": [
       "(1, 2, 3, 4)"
      ]
     },
     "execution_count": 12,
     "metadata": {},
     "output_type": "execute_result"
    }
   ],
   "source": [
    "z = 1, 2, 3, 4\n",
    "\n",
    "z"
   ]
  },
  {
   "cell_type": "code",
   "execution_count": 14,
   "id": "1bc385e2",
   "metadata": {},
   "outputs": [
    {
     "data": {
      "text/plain": [
       "[1, 2, 3, 4, 5, 6, 7, 8, 9, 10]"
      ]
     },
     "execution_count": 14,
     "metadata": {},
     "output_type": "execute_result"
    }
   ],
   "source": [
    "liste = [1, 2, 3, 4, 5, 6, 7, 8, 9, 10]\n",
    "liste"
   ]
  },
  {
   "cell_type": "markdown",
   "id": "ce9633e3",
   "metadata": {},
   "source": [
    "## range() fonksiyonu"
   ]
  },
  {
   "cell_type": "code",
   "execution_count": 13,
   "id": "1a8ddaba",
   "metadata": {},
   "outputs": [
    {
     "data": {
      "text/plain": [
       "range(1, 11)"
      ]
     },
     "execution_count": 13,
     "metadata": {},
     "output_type": "execute_result"
    }
   ],
   "source": [
    "range(1, 11)  # on the air, havada, range tipinde bir object üretti."
   ]
  },
  {
   "cell_type": "code",
   "execution_count": 15,
   "id": "417ffb74",
   "metadata": {},
   "outputs": [],
   "source": [
    "a = range(1, 11)"
   ]
  },
  {
   "cell_type": "code",
   "execution_count": 16,
   "id": "5112f84b",
   "metadata": {},
   "outputs": [
    {
     "name": "stdout",
     "output_type": "stream",
     "text": [
      "range(1, 11)\n"
     ]
    }
   ],
   "source": [
    "print(a)"
   ]
  },
  {
   "cell_type": "code",
   "execution_count": 18,
   "id": "ed0c6721",
   "metadata": {},
   "outputs": [
    {
     "name": "stdout",
     "output_type": "stream",
     "text": [
      "<class 'range'>\n"
     ]
    }
   ],
   "source": [
    "print(type(a))  # range() fonksiyonu, range tipinde bir object üretir."
   ]
  },
  {
   "cell_type": "code",
   "execution_count": 19,
   "id": "5576f093",
   "metadata": {},
   "outputs": [
    {
     "data": {
      "text/plain": [
       "[1, 2, 3, 4, 5, 6, 7, 8, 9, 10]"
      ]
     },
     "execution_count": 19,
     "metadata": {},
     "output_type": "execute_result"
    }
   ],
   "source": [
    "list(a)"
   ]
  },
  {
   "cell_type": "code",
   "execution_count": 20,
   "id": "5b155db8",
   "metadata": {},
   "outputs": [
    {
     "name": "stdout",
     "output_type": "stream",
     "text": [
      "1 2 3 4 5 6 7 8 9 10\n"
     ]
    }
   ],
   "source": [
    "print(* a)  # on the air objectleri bu şekilde görünür hale getiririz."
   ]
  },
  {
   "cell_type": "code",
   "execution_count": 21,
   "id": "6176ecb2",
   "metadata": {},
   "outputs": [
    {
     "name": "stdout",
     "output_type": "stream",
     "text": [
      "0 1 2 3 4 5 6 7 8 9\n"
     ]
    }
   ],
   "source": [
    "print(* range(10))"
   ]
  },
  {
   "cell_type": "code",
   "execution_count": 22,
   "id": "c86a6b69",
   "metadata": {},
   "outputs": [],
   "source": [
    "# veya onu bir collection'ın içine atarak görünür yapabiliriz.\n",
    "\n",
    "sayılar = tuple(range(1, 11))  "
   ]
  },
  {
   "cell_type": "code",
   "execution_count": 23,
   "id": "e8f0c711",
   "metadata": {},
   "outputs": [
    {
     "data": {
      "text/plain": [
       "(1, 2, 3, 4, 5, 6, 7, 8, 9, 10)"
      ]
     },
     "execution_count": 23,
     "metadata": {},
     "output_type": "execute_result"
    }
   ],
   "source": [
    "sayılar"
   ]
  },
  {
   "cell_type": "code",
   "execution_count": 24,
   "id": "e8b8e618",
   "metadata": {},
   "outputs": [],
   "source": [
    "liste_sayılar = list(sayılar)"
   ]
  },
  {
   "cell_type": "code",
   "execution_count": 25,
   "id": "488ea773",
   "metadata": {},
   "outputs": [
    {
     "data": {
      "text/plain": [
       "[1, 2, 3, 4, 5, 6, 7, 8, 9, 10]"
      ]
     },
     "execution_count": 25,
     "metadata": {},
     "output_type": "execute_result"
    }
   ],
   "source": [
    "liste_sayılar"
   ]
  },
  {
   "cell_type": "code",
   "execution_count": 26,
   "id": "a05c5f42",
   "metadata": {},
   "outputs": [
    {
     "data": {
      "text/plain": [
       "3"
      ]
     },
     "execution_count": 26,
     "metadata": {},
     "output_type": "execute_result"
    }
   ],
   "source": [
    "liste_sayılar[2]"
   ]
  },
  {
   "cell_type": "code",
   "execution_count": 27,
   "id": "d501c869",
   "metadata": {},
   "outputs": [
    {
     "data": {
      "text/plain": [
       "int"
      ]
     },
     "execution_count": 27,
     "metadata": {},
     "output_type": "execute_result"
    }
   ],
   "source": [
    "type(liste_sayılar[2])"
   ]
  },
  {
   "cell_type": "code",
   "execution_count": 28,
   "id": "4d0b424a",
   "metadata": {},
   "outputs": [],
   "source": [
    "liste_sayılar[2] = 33  # listemin bir elemanını, ona atama yaparak değiştirebiliyorum"
   ]
  },
  {
   "cell_type": "code",
   "execution_count": 29,
   "id": "a00a1c07",
   "metadata": {},
   "outputs": [
    {
     "data": {
      "text/plain": [
       "[1, 2, 33, 4, 5, 6, 7, 8, 9, 10]"
      ]
     },
     "execution_count": 29,
     "metadata": {},
     "output_type": "execute_result"
    }
   ],
   "source": [
    "liste_sayılar"
   ]
  },
  {
   "cell_type": "code",
   "execution_count": 30,
   "id": "57f57df9",
   "metadata": {},
   "outputs": [
    {
     "data": {
      "text/plain": [
       "[1, 2, 33, 4, 5, 6, 7, 8, 9, 'ten']"
      ]
     },
     "execution_count": 30,
     "metadata": {},
     "output_type": "execute_result"
    }
   ],
   "source": [
    "liste_sayılar[-1] = \"ten\"\n",
    "\n",
    "liste_sayılar"
   ]
  },
  {
   "cell_type": "code",
   "execution_count": 31,
   "id": "202061b8",
   "metadata": {},
   "outputs": [
    {
     "data": {
      "text/plain": [
       "(1, 2, 3, 4, 5, 6, 7, 8, 9, 10)"
      ]
     },
     "execution_count": 31,
     "metadata": {},
     "output_type": "execute_result"
    }
   ],
   "source": [
    "sayılar"
   ]
  },
  {
   "cell_type": "code",
   "execution_count": 33,
   "id": "8a6b63b5",
   "metadata": {},
   "outputs": [
    {
     "data": {
      "text/plain": [
       "4"
      ]
     },
     "execution_count": 33,
     "metadata": {},
     "output_type": "execute_result"
    }
   ],
   "source": [
    "sayılar[3]"
   ]
  },
  {
   "cell_type": "code",
   "execution_count": 34,
   "id": "8543eaba",
   "metadata": {},
   "outputs": [
    {
     "ename": "TypeError",
     "evalue": "'tuple' object does not support item assignment",
     "output_type": "error",
     "traceback": [
      "\u001b[1;31m---------------------------------------------------------------------------\u001b[0m",
      "\u001b[1;31mTypeError\u001b[0m                                 Traceback (most recent call last)",
      "Input \u001b[1;32mIn [34]\u001b[0m, in \u001b[0;36m<cell line: 1>\u001b[1;34m()\u001b[0m\n\u001b[1;32m----> 1\u001b[0m sayılar[\u001b[38;5;241m3\u001b[39m] \u001b[38;5;241m=\u001b[39m \u001b[38;5;241m44\u001b[39m\n",
      "\u001b[1;31mTypeError\u001b[0m: 'tuple' object does not support item assignment"
     ]
    }
   ],
   "source": [
    "sayılar[3] = 44  # tuple'lar immutabel olduğundan elemanlarını değişiremiyoruz"
   ]
  },
  {
   "cell_type": "code",
   "execution_count": 35,
   "id": "23fe2158",
   "metadata": {},
   "outputs": [],
   "source": [
    "mix_tuple = (\"11\", 11, [2, \"two\", (\"six\", 6)], (5, \"fair\" ))"
   ]
  },
  {
   "cell_type": "code",
   "execution_count": 36,
   "id": "dc0764a2",
   "metadata": {},
   "outputs": [
    {
     "data": {
      "text/plain": [
       "[2, 'two', ('six', 6)]"
      ]
     },
     "execution_count": 36,
     "metadata": {},
     "output_type": "execute_result"
    }
   ],
   "source": [
    "mix_tuple[2]"
   ]
  },
  {
   "cell_type": "code",
   "execution_count": 37,
   "id": "c6c02f07",
   "metadata": {},
   "outputs": [
    {
     "data": {
      "text/plain": [
       "list"
      ]
     },
     "execution_count": 37,
     "metadata": {},
     "output_type": "execute_result"
    }
   ],
   "source": [
    "type(mix_tuple[2])"
   ]
  },
  {
   "cell_type": "code",
   "execution_count": 38,
   "id": "f8386d50",
   "metadata": {},
   "outputs": [
    {
     "data": {
      "text/plain": [
       "tuple"
      ]
     },
     "execution_count": 38,
     "metadata": {},
     "output_type": "execute_result"
    }
   ],
   "source": [
    "type(mix_tuple[3])"
   ]
  },
  {
   "cell_type": "code",
   "execution_count": 39,
   "id": "7e4cb25f",
   "metadata": {},
   "outputs": [],
   "source": [
    "mix_tuple[2].append(False)  # mix_tuple tuple'ının 2. indeksteki elemanı bir liste olduğundan\n",
    "                        # tuple'ın bir elemanı olsa da bu listeyi değiştirebiliyorum"
   ]
  },
  {
   "cell_type": "code",
   "execution_count": 40,
   "id": "7b04fccf",
   "metadata": {},
   "outputs": [
    {
     "data": {
      "text/plain": [
       "[2, 'two', ('six', 6), False]"
      ]
     },
     "execution_count": 40,
     "metadata": {},
     "output_type": "execute_result"
    }
   ],
   "source": [
    "mix_tuple[2]"
   ]
  },
  {
   "cell_type": "code",
   "execution_count": 41,
   "id": "249b3845",
   "metadata": {},
   "outputs": [
    {
     "name": "stdout",
     "output_type": "stream",
     "text": [
      "('11', 11, [2, 'two', ('six', 6), False], (5, 'fair'))\n"
     ]
    }
   ],
   "source": [
    "print(mix_tuple)  # tuple'ımın 2. indeksindeki elamanını bu yolla değiştirebildim."
   ]
  },
  {
   "cell_type": "markdown",
   "id": "78e6e825",
   "metadata": {},
   "source": [
    "## tuple'larda indeksleme"
   ]
  },
  {
   "cell_type": "code",
   "execution_count": 42,
   "id": "88ba8282",
   "metadata": {},
   "outputs": [
    {
     "data": {
      "text/plain": [
       "'six'"
      ]
     },
     "execution_count": 42,
     "metadata": {},
     "output_type": "execute_result"
    }
   ],
   "source": [
    "mix_tuple[2][2][0]"
   ]
  },
  {
   "cell_type": "code",
   "execution_count": 43,
   "id": "11335144",
   "metadata": {},
   "outputs": [
    {
     "data": {
      "text/plain": [
       "('11', 11, [2, 'two', ('six', 6), False], (5, 'fair'))"
      ]
     },
     "execution_count": 43,
     "metadata": {},
     "output_type": "execute_result"
    }
   ],
   "source": [
    "mix_tuple"
   ]
  },
  {
   "cell_type": "code",
   "execution_count": 46,
   "id": "3d66e825",
   "metadata": {},
   "outputs": [
    {
     "data": {
      "text/plain": [
       "'fair'"
      ]
     },
     "execution_count": 46,
     "metadata": {},
     "output_type": "execute_result"
    }
   ],
   "source": [
    "option1 = mix_tuple[3][1]\n",
    "option1"
   ]
  },
  {
   "cell_type": "code",
   "execution_count": 48,
   "id": "764352e1",
   "metadata": {},
   "outputs": [
    {
     "data": {
      "text/plain": [
       "'fair'"
      ]
     },
     "execution_count": 48,
     "metadata": {},
     "output_type": "execute_result"
    }
   ],
   "source": [
    "option2 = mix_tuple[-1][1]\n",
    "option2"
   ]
  },
  {
   "cell_type": "markdown",
   "id": "72e41304",
   "metadata": {},
   "source": [
    "<a id=\"toc\"></a>\n",
    "\n",
    "## <p style=\"background-color:#9d4f8c; font-family:newtimeroman; color:#FFF9ED; font-size:175%; text-align:center; border-radius:10px 10px;\">Dictionaries</p>"
   ]
  },
  {
   "cell_type": "markdown",
   "id": "17e64c07",
   "metadata": {},
   "source": [
    "**python documentation link - Dictionaries :  https://docs.python.org/3/tutorial/datastructures.html#dictionaries**\n",
    "\n",
    "**Link 2 : https://www.w3schools.com/python/python_dictionaries.asp**"
   ]
  },
  {
   "cell_type": "code",
   "execution_count": 49,
   "id": "60b84b70",
   "metadata": {},
   "outputs": [],
   "source": [
    "first_dict = {1 : \"one\", \"two\" : 2, False : [1, 2, 3], 1.5 : (\"one\", \"two\"), (1, 2) : \"clarusway\"}"
   ]
  },
  {
   "cell_type": "code",
   "execution_count": 50,
   "id": "08074ac1",
   "metadata": {},
   "outputs": [
    {
     "data": {
      "text/plain": [
       "{1: 'one',\n",
       " 'two': 2,\n",
       " False: [1, 2, 3],\n",
       " 1.5: ('one', 'two'),\n",
       " (1, 2): 'clarusway'}"
      ]
     },
     "execution_count": 50,
     "metadata": {},
     "output_type": "execute_result"
    }
   ],
   "source": [
    "first_dict"
   ]
  },
  {
   "cell_type": "markdown",
   "id": "653c6f1a",
   "metadata": {},
   "source": [
    "### bir liste, mutable (değiştirilebilir) olduğundan key olarak tanımlanamaz!"
   ]
  },
  {
   "cell_type": "code",
   "execution_count": 51,
   "id": "f7b9c1ab",
   "metadata": {},
   "outputs": [
    {
     "ename": "TypeError",
     "evalue": "unhashable type: 'list'",
     "output_type": "error",
     "traceback": [
      "\u001b[1;31m---------------------------------------------------------------------------\u001b[0m",
      "\u001b[1;31mTypeError\u001b[0m                                 Traceback (most recent call last)",
      "Input \u001b[1;32mIn [51]\u001b[0m, in \u001b[0;36m<cell line: 1>\u001b[1;34m()\u001b[0m\n\u001b[1;32m----> 1\u001b[0m second_dict \u001b[38;5;241m=\u001b[39m {[\u001b[38;5;241m1\u001b[39m, \u001b[38;5;241m2\u001b[39m] : \u001b[38;5;124m\"\u001b[39m\u001b[38;5;124mone\u001b[39m\u001b[38;5;124m\"\u001b[39m, \u001b[38;5;124m\"\u001b[39m\u001b[38;5;124mtwo\u001b[39m\u001b[38;5;124m\"\u001b[39m : \u001b[38;5;241m2\u001b[39m, \u001b[38;5;28;01mFalse\u001b[39;00m : [\u001b[38;5;241m1\u001b[39m, \u001b[38;5;241m2\u001b[39m, \u001b[38;5;241m3\u001b[39m], \u001b[38;5;241m1.5\u001b[39m : (\u001b[38;5;124m\"\u001b[39m\u001b[38;5;124mone\u001b[39m\u001b[38;5;124m\"\u001b[39m, \u001b[38;5;124m\"\u001b[39m\u001b[38;5;124mtwo\u001b[39m\u001b[38;5;124m\"\u001b[39m), (\u001b[38;5;241m1\u001b[39m, \u001b[38;5;241m2\u001b[39m) : \u001b[38;5;124m\"\u001b[39m\u001b[38;5;124mclarusway\u001b[39m\u001b[38;5;124m\"\u001b[39m}\n",
      "\u001b[1;31mTypeError\u001b[0m: unhashable type: 'list'"
     ]
    }
   ],
   "source": [
    "second_dict = {[1, 2] : \"one\", \n",
    "               \"two\" : 2, \n",
    "               False : [1, 2, 3], \n",
    "               1.5 : (\"one\", \"two\"), \n",
    "               (1, 2) : \"clarusway\"\n",
    "              }\n",
    "\n"
   ]
  },
  {
   "cell_type": "markdown",
   "id": "85973495",
   "metadata": {},
   "source": [
    "### bir dictionary, mutable (değiştirilebilir) olduğundan key olarak tanımlanamaz!"
   ]
  },
  {
   "cell_type": "code",
   "execution_count": 52,
   "id": "96a2d126",
   "metadata": {},
   "outputs": [
    {
     "ename": "TypeError",
     "evalue": "unhashable type: 'dict'",
     "output_type": "error",
     "traceback": [
      "\u001b[1;31m---------------------------------------------------------------------------\u001b[0m",
      "\u001b[1;31mTypeError\u001b[0m                                 Traceback (most recent call last)",
      "Input \u001b[1;32mIn [52]\u001b[0m, in \u001b[0;36m<cell line: 1>\u001b[1;34m()\u001b[0m\n\u001b[1;32m----> 1\u001b[0m second_dict \u001b[38;5;241m=\u001b[39m {{\u001b[38;5;241m1\u001b[39m : \u001b[38;5;241m2\u001b[39m} : \u001b[38;5;124m\"\u001b[39m\u001b[38;5;124mone\u001b[39m\u001b[38;5;124m\"\u001b[39m, \u001b[38;5;124m\"\u001b[39m\u001b[38;5;124mtwo\u001b[39m\u001b[38;5;124m\"\u001b[39m : \u001b[38;5;241m2\u001b[39m, \u001b[38;5;28;01mFalse\u001b[39;00m : [\u001b[38;5;241m1\u001b[39m, \u001b[38;5;241m2\u001b[39m, \u001b[38;5;241m3\u001b[39m], \u001b[38;5;241m1.5\u001b[39m : (\u001b[38;5;124m\"\u001b[39m\u001b[38;5;124mone\u001b[39m\u001b[38;5;124m\"\u001b[39m, \u001b[38;5;124m\"\u001b[39m\u001b[38;5;124mtwo\u001b[39m\u001b[38;5;124m\"\u001b[39m), (\u001b[38;5;241m1\u001b[39m, \u001b[38;5;241m2\u001b[39m) : \u001b[38;5;124m\"\u001b[39m\u001b[38;5;124mclarusway\u001b[39m\u001b[38;5;124m\"\u001b[39m}\n",
      "\u001b[1;31mTypeError\u001b[0m: unhashable type: 'dict'"
     ]
    }
   ],
   "source": [
    "second_dict = {{1 : 2} : \"one\", \n",
    "               \"two\" : 2, \n",
    "               False : [1, 2, 3],\n",
    "               1.5 : (\"one\", \"two\"), \n",
    "               (1, 2) : \"clarusway\"\n",
    "              }"
   ]
  },
  {
   "cell_type": "code",
   "execution_count": 53,
   "id": "84f0629b",
   "metadata": {},
   "outputs": [
    {
     "ename": "SyntaxError",
     "evalue": "cannot assign to literal (4156778520.py, line 1)",
     "output_type": "error",
     "traceback": [
      "\u001b[1;36m  Input \u001b[1;32mIn [53]\u001b[1;36m\u001b[0m\n\u001b[1;33m    10 = \"on\"\u001b[0m\n\u001b[1;37m    ^\u001b[0m\n\u001b[1;31mSyntaxError\u001b[0m\u001b[1;31m:\u001b[0m cannot assign to literal\n"
     ]
    }
   ],
   "source": [
    "10 = \"on\""
   ]
  },
  {
   "cell_type": "code",
   "execution_count": 54,
   "id": "84e2fd37",
   "metadata": {},
   "outputs": [
    {
     "ename": "SyntaxError",
     "evalue": "expression cannot contain assignment, perhaps you meant \"==\"? (2006507315.py, line 1)",
     "output_type": "error",
     "traceback": [
      "\u001b[1;36m  Input \u001b[1;32mIn [54]\u001b[1;36m\u001b[0m\n\u001b[1;33m    dict(1 = \"bir\")\u001b[0m\n\u001b[1;37m         ^\u001b[0m\n\u001b[1;31mSyntaxError\u001b[0m\u001b[1;31m:\u001b[0m expression cannot contain assignment, perhaps you meant \"==\"?\n"
     ]
    }
   ],
   "source": [
    "dict(1 = \"bir\")"
   ]
  },
  {
   "cell_type": "markdown",
   "id": "a490a940",
   "metadata": {},
   "source": [
    "### süslü parantez ile (manuel olarak) dict. oluştururken \"key\" ler unique olmasa da hata vermez! iki aynı key'den sonuncu esas alır."
   ]
  },
  {
   "cell_type": "code",
   "execution_count": 55,
   "id": "119daefc",
   "metadata": {},
   "outputs": [
    {
     "data": {
      "text/plain": [
       "{'ali': 3, 'deli': 4}"
      ]
     },
     "execution_count": 55,
     "metadata": {},
     "output_type": "execute_result"
    }
   ],
   "source": [
    "sözlük = {\"ali\" : 2, \"ali\" : 3, \"deli\" : 4}\n",
    "\n",
    "sözlük"
   ]
  },
  {
   "cell_type": "code",
   "execution_count": 56,
   "id": "b07a44c6",
   "metadata": {},
   "outputs": [
    {
     "data": {
      "text/plain": [
       "{'isim': 'ali deli veli'}"
      ]
     },
     "execution_count": 56,
     "metadata": {},
     "output_type": "execute_result"
    }
   ],
   "source": [
    "dict(isim = \"ali deli veli\") "
   ]
  },
  {
   "cell_type": "markdown",
   "id": "77875093",
   "metadata": {},
   "source": [
    "### dict fonksiyonu ile (değişken-value ataması yaparak) dict. oluştururken \"key\" ler unique olmalı!"
   ]
  },
  {
   "cell_type": "code",
   "execution_count": 57,
   "id": "5e6d0daf",
   "metadata": {},
   "outputs": [
    {
     "ename": "SyntaxError",
     "evalue": "keyword argument repeated: isim (2946282986.py, line 1)",
     "output_type": "error",
     "traceback": [
      "\u001b[1;36m  Input \u001b[1;32mIn [57]\u001b[1;36m\u001b[0m\n\u001b[1;33m    dict(isim = \"ali\", isim = \"deli\")\u001b[0m\n\u001b[1;37m                       ^\u001b[0m\n\u001b[1;31mSyntaxError\u001b[0m\u001b[1;31m:\u001b[0m keyword argument repeated: isim\n"
     ]
    }
   ],
   "source": [
    "dict(isim = \"ali\", isim = \"deli\")"
   ]
  },
  {
   "cell_type": "markdown",
   "id": "33e9b531",
   "metadata": {},
   "source": [
    "### bir dictionary, başka bir dictionary'nin value'su olabilir."
   ]
  },
  {
   "cell_type": "code",
   "execution_count": 58,
   "id": "7901c349",
   "metadata": {},
   "outputs": [
    {
     "data": {
      "text/plain": [
       "{'sayılar': [1, 2, 3], 'harfler': {1: 'bir'}}"
      ]
     },
     "execution_count": 58,
     "metadata": {},
     "output_type": "execute_result"
    }
   ],
   "source": [
    "dict(sayılar = [1, 2, 3], harfler = {1 : \"bir\"})"
   ]
  },
  {
   "cell_type": "code",
   "execution_count": 59,
   "id": "e286457a",
   "metadata": {},
   "outputs": [
    {
     "data": {
      "text/plain": [
       "{1: 'one',\n",
       " 'two': 2,\n",
       " False: [1, 2, 3],\n",
       " 1.5: ('one', 'two'),\n",
       " (1, 2): 'clarusway'}"
      ]
     },
     "execution_count": 59,
     "metadata": {},
     "output_type": "execute_result"
    }
   ],
   "source": [
    "first_dict"
   ]
  },
  {
   "cell_type": "code",
   "execution_count": 60,
   "id": "da2244c3",
   "metadata": {},
   "outputs": [
    {
     "data": {
      "text/plain": [
       "[1, 2, 3]"
      ]
     },
     "execution_count": 60,
     "metadata": {},
     "output_type": "execute_result"
    }
   ],
   "source": [
    "first_dict[False]"
   ]
  },
  {
   "cell_type": "code",
   "execution_count": 61,
   "id": "85303017",
   "metadata": {},
   "outputs": [
    {
     "data": {
      "text/plain": [
       "('one', 'two')"
      ]
     },
     "execution_count": 61,
     "metadata": {},
     "output_type": "execute_result"
    }
   ],
   "source": [
    "first_dict[1.5]"
   ]
  },
  {
   "cell_type": "code",
   "execution_count": 62,
   "id": "a8a4424a",
   "metadata": {},
   "outputs": [
    {
     "data": {
      "text/plain": [
       "2"
      ]
     },
     "execution_count": 62,
     "metadata": {},
     "output_type": "execute_result"
    }
   ],
   "source": [
    "first_dict[\"two\"]"
   ]
  },
  {
   "cell_type": "code",
   "execution_count": 63,
   "id": "61bdb798",
   "metadata": {},
   "outputs": [
    {
     "data": {
      "text/plain": [
       "int"
      ]
     },
     "execution_count": 63,
     "metadata": {},
     "output_type": "execute_result"
    }
   ],
   "source": [
    "type(first_dict[\"two\"])"
   ]
  },
  {
   "cell_type": "code",
   "execution_count": 64,
   "id": "4f749a89",
   "metadata": {},
   "outputs": [
    {
     "data": {
      "text/plain": [
       "10"
      ]
     },
     "execution_count": 64,
     "metadata": {},
     "output_type": "execute_result"
    }
   ],
   "source": [
    "first_dict[\"two\"] * 5"
   ]
  },
  {
   "cell_type": "markdown",
   "id": "cf7f9de2",
   "metadata": {},
   "source": [
    "### bir dictionay'nin \"key\"ini çağırdığınızda ona ait value'yu döndürür (return eder)"
   ]
  },
  {
   "cell_type": "code",
   "execution_count": 2,
   "id": "ad926adb",
   "metadata": {},
   "outputs": [
    {
     "name": "stdout",
     "output_type": "stream",
     "text": [
      "{'Arkansas': 'Little Rock', 'Colorado': 'Denver', 'California': 'Sacramento', 'Georgia': 'Atlanta'}\n"
     ]
    }
   ],
   "source": [
    "state_capitals = {'Arkansas': 'Little Rock',\n",
    "                  'Colorado': 'Denver',\n",
    "                  'California': 'Sacramento',\n",
    "                  'Georgia': 'Atlanta' \n",
    "                 }\n",
    "\n",
    "state_capitals['Colorado']\n",
    "\n",
    "print(state_capitals)"
   ]
  },
  {
   "cell_type": "markdown",
   "id": "e0887017",
   "metadata": {},
   "source": [
    "### dictionay'e yeni bir key-value pair'i atamak"
   ]
  },
  {
   "cell_type": "code",
   "execution_count": null,
   "id": "991b2534",
   "metadata": {},
   "outputs": [],
   "source": [
    "state_capitals = {'Arkansas': 'Little Rock',\n",
    "                  'Colorado': 'Denver',\n",
    "                  'California': 'Sacramento',\n",
    "                  'Georgia': 'Atlanta' \n",
    "                 }\n",
    "\n",
    "state_capitals['Virginia'] = 'Richmond' # adding a new item\n",
    "\n",
    "print(state_capitals)"
   ]
  },
  {
   "cell_type": "code",
   "execution_count": null,
   "id": "b6999d15",
   "metadata": {},
   "outputs": [],
   "source": []
  },
  {
   "cell_type": "code",
   "execution_count": 65,
   "id": "081c6af4",
   "metadata": {},
   "outputs": [
    {
     "data": {
      "text/plain": [
       "[4, 'beş']"
      ]
     },
     "execution_count": 65,
     "metadata": {},
     "output_type": "execute_result"
    }
   ],
   "source": [
    "color = [1, 2, \"üç\", [4, \"beş\"]]\n",
    "\n",
    "color[3]"
   ]
  },
  {
   "cell_type": "code",
   "execution_count": 67,
   "id": "f02b6b76",
   "metadata": {},
   "outputs": [
    {
     "data": {
      "text/plain": [
       "[4, 'beş']"
      ]
     },
     "execution_count": 67,
     "metadata": {},
     "output_type": "execute_result"
    }
   ],
   "source": [
    "color[3][:]"
   ]
  },
  {
   "attachments": {
    "image.png": {
     "image/png": "[encoded data removed]"
    }
   },
   "cell_type": "markdown",
   "id": "5e4e77e0",
   "metadata": {},
   "source": [
    "![image.png](attachment:image.png)"
   ]
  },
  {
   "cell_type": "markdown",
   "id": "937c7c82",
   "metadata": {},
   "source": [
    "<img src=\"https://docs.google.com/uc?id=14xeXxFrVRjvOoUYWn_GuyE-v84wVzrqr\" class=\"img-fluid\" alt=\"CLRWY\" width=\"400\" height=\"200\">"
   ]
  }
 ],
 "metadata": {
  "kernelspec": {
   "display_name": "Python 3 (ipykernel)",
   "language": "python",
   "name": "python3"
  },
  "language_info": {
   "codemirror_mode": {
    "name": "ipython",
    "version": 3
   },
   "file_extension": ".py",
   "mimetype": "text/x-python",
   "name": "python",
   "nbconvert_exporter": "python",
   "pygments_lexer": "ipython3",
   "version": "3.9.12"
  }
 },
 "nbformat": 4,
 "nbformat_minor": 5
}
