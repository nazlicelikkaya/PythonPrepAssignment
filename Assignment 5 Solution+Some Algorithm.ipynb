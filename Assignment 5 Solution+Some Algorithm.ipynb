{
 "cells": [
  {
   "cell_type": "markdown",
   "id": "03e0f46f",
   "metadata": {},
   "source": [
    "<img src=\"https://docs.google.com/uc?id=14xeXxFrVRjvOoUYWn_GuyE-v84wVzrqr\" class=\"img-fluid\" alt=\"CLRWY\" width=\"400\" height=\"200\">"
   ]
  },
  {
   "cell_type": "markdown",
   "id": "2379efc2",
   "metadata": {},
   "source": [
    "<a id=\"toc\"></a>\n",
    "\n",
    "## <p style=\"background-color:#0D8D99; font-family:newtimeroman; color:#FFF9ED; font-size:175%; text-align:center; border-radius:10px 10px;\">Python Lab 3</p>"
   ]
  },
  {
   "cell_type": "markdown",
   "id": "0da15d7a",
   "metadata": {},
   "source": [
    "<div class=\"alert alert-block alert-info\"><h1><p style=\"text-align: center; color:purple\">Assignment-5 (Leap Year) Solution<br><br>Some Algorithm Exercises</p>"
   ]
  },
  {
   "cell_type": "markdown",
   "id": "1382b8e1",
   "metadata": {},
   "source": [
    "<a id=\"toc\"></a>\n",
    "\n",
    "### <p style=\"background-color:#9d4f8c; font-family:newtimeroman; color:#FFF9ED; font-size:175%; text-align:center; border-radius:10px 10px;\">Assignment-5 (Leap Year)</p>"
   ]
  },
  {
   "cell_type": "markdown",
   "id": "51c28d15",
   "metadata": {},
   "source": [
    "<div class=\"alert alert-block alert-info\">\n",
    "<font color=red><b>Problem :</b></font> <font color=blue><br>\n",
    "\n",
    "<b>Task:</b>\n",
    "\n",
    "<font color=purple><b>Find out if a given year is a \"leap\" year.\n",
    "\n",
    "In the Gregorian calendar, three criteria must be taken into account to identify leap years:  \n",
    "- The year must be evenly divisible by 4;  \n",
    "- If the year can also be evenly divided by 100, it is not a leap year;  \n",
    "- unless...\n",
    "The year is also evenly divisible by 400. Then it is a leap year.  \n",
    "<br>According to these rules, the years 2000 and 2400 are leap years, while 1800, 1900, 2100, 2200, 2300, and 2500 are not the leap years.\n",
    "Write a Python program that prints True if the given year by the user is a leap year, prints False otherwise.\n",
    "</font>\n"
   ]
  },
  {
   "cell_type": "code",
   "execution_count": 5,
   "id": "4b5983a6",
   "metadata": {},
   "outputs": [
    {
     "name": "stdout",
     "output_type": "stream",
     "text": [
      "enter a year please: 2300\n",
      "False\n"
     ]
    }
   ],
   "source": [
    "year = int(input(\"enter a year please: \"))\n",
    "\n",
    "leap = (year % 4 == 0) and (year % 100 != 0 or year % 400 == 0)\n",
    "\n",
    "print(leap)"
   ]
  },
  {
   "cell_type": "code",
   "execution_count": 6,
   "id": "b3fe09f8",
   "metadata": {},
   "outputs": [
    {
     "data": {
      "text/plain": [
       "True"
      ]
     },
     "execution_count": 6,
     "metadata": {},
     "output_type": "execute_result"
    }
   ],
   "source": [
    "bool(3)"
   ]
  },
  {
   "cell_type": "code",
   "execution_count": 7,
   "id": "495481af",
   "metadata": {},
   "outputs": [
    {
     "data": {
      "text/plain": [
       "False"
      ]
     },
     "execution_count": 7,
     "metadata": {},
     "output_type": "execute_result"
    }
   ],
   "source": [
    "bool(0)"
   ]
  },
  {
   "cell_type": "code",
   "execution_count": 9,
   "id": "095a7b4c",
   "metadata": {},
   "outputs": [
    {
     "name": "stdout",
     "output_type": "stream",
     "text": [
      "enter a year please: 2000\n",
      "True\n"
     ]
    }
   ],
   "source": [
    "year = int(input(\"enter a year please: \"))\n",
    "\n",
    "leap = (year % 4 == 0) and bool((year % 100) or not (year % 400))\n",
    "\n",
    "print(leap)"
   ]
  },
  {
   "cell_type": "code",
   "execution_count": null,
   "id": "59d96802",
   "metadata": {},
   "outputs": [],
   "source": [
    "leap = bool(not (year % 4) and ((year % 100) or not (year % 400)))"
   ]
  },
  {
   "cell_type": "markdown",
   "id": "a5a10b38",
   "metadata": {},
   "source": [
    "<a id=\"toc\"></a>\n",
    "\n",
    "### <p style=\"background-color:#9d4f8c; font-family:newtimeroman; color:#FFF9ED; font-size:175%; text-align:center; border-radius:10px 10px;\">Some Algortithm Exercises</p>"
   ]
  },
  {
   "cell_type": "markdown",
   "id": "c3d3a65b",
   "metadata": {},
   "source": [
    "### Task 1:  Önce integer 1, 2 ve 3 'ten oluşan bir liste tanımlayın. Sonra bu listenin son iki elemanı toplayıp listenin sonuna ekleyen ve bunu 3 defa yapıp her defasında ekrana çıktı alan bir program yazınız. (Döngü kullanmayınız.)"
   ]
  },
  {
   "cell_type": "markdown",
   "id": "a6c56bea",
   "metadata": {},
   "source": [
    "```\n",
    "liste = [1, 2, 3]\n",
    "\n",
    "output = [1, 2, 3, 5, 8, 13]\n",
    "```"
   ]
  },
  {
   "cell_type": "code",
   "execution_count": 11,
   "id": "3f4e23f6",
   "metadata": {},
   "outputs": [],
   "source": [
    "liste = [1, 2, 3]"
   ]
  },
  {
   "cell_type": "code",
   "execution_count": 12,
   "id": "a1965416",
   "metadata": {},
   "outputs": [
    {
     "data": {
      "text/plain": [
       "3"
      ]
     },
     "execution_count": 12,
     "metadata": {},
     "output_type": "execute_result"
    }
   ],
   "source": [
    "liste[-1]"
   ]
  },
  {
   "cell_type": "code",
   "execution_count": 13,
   "id": "90bab8a2",
   "metadata": {},
   "outputs": [
    {
     "data": {
      "text/plain": [
       "2"
      ]
     },
     "execution_count": 13,
     "metadata": {},
     "output_type": "execute_result"
    }
   ],
   "source": [
    "liste[-2]"
   ]
  },
  {
   "cell_type": "code",
   "execution_count": 14,
   "id": "ba168b45",
   "metadata": {},
   "outputs": [
    {
     "data": {
      "text/plain": [
       "5"
      ]
     },
     "execution_count": 14,
     "metadata": {},
     "output_type": "execute_result"
    }
   ],
   "source": [
    "liste[-2] + liste[-1]"
   ]
  },
  {
   "cell_type": "code",
   "execution_count": 19,
   "id": "728fbd3c",
   "metadata": {},
   "outputs": [],
   "source": [
    "liste.append(liste[-2] + liste[-1])"
   ]
  },
  {
   "cell_type": "code",
   "execution_count": 20,
   "id": "cd30c08f",
   "metadata": {},
   "outputs": [
    {
     "name": "stdout",
     "output_type": "stream",
     "text": [
      "[1, 2, 3, 5, 8, 13]\n"
     ]
    }
   ],
   "source": [
    "print(liste)"
   ]
  },
  {
   "cell_type": "code",
   "execution_count": 21,
   "id": "16f122e2",
   "metadata": {},
   "outputs": [
    {
     "name": "stdout",
     "output_type": "stream",
     "text": [
      "[1, 2, 3, 5, 8, 13]\n"
     ]
    }
   ],
   "source": [
    "liste = [1, 2, 3]\n",
    "\n",
    "liste.append(liste[-2] + liste[-1])\n",
    "liste.append(liste[-2] + liste[-1])\n",
    "liste.append(liste[-2] + liste[-1])\n",
    "\n",
    "print(liste)"
   ]
  },
  {
   "cell_type": "markdown",
   "id": "f46e2f34",
   "metadata": {},
   "source": [
    "### Task 2 : ilk n doğal sayının karelerinin toplamını bulan bir program yazın"
   ]
  },
  {
   "attachments": {
    "image.png": {
     "image/png": "[encoded data removed]"
    }
   },
   "cell_type": "markdown",
   "id": "e53e83f1",
   "metadata": {},
   "source": [
    "![image.png](attachment:image.png)"
   ]
  },
  {
   "cell_type": "code",
   "execution_count": 23,
   "id": "aff82001",
   "metadata": {},
   "outputs": [
    {
     "name": "stdout",
     "output_type": "stream",
     "text": [
      "give me a natural number to calculate sum of squares of first n number :5\n",
      "the sum of squares of first 5 number equal to : 55.0\n"
     ]
    }
   ],
   "source": [
    "n = int(input(\"give me a natural number to calculate sum of squares of first n number :\"))\n",
    "\n",
    "sum_of_squares = (n * (n+1) * (2 * n + 1)) / 6\n",
    "\n",
    "print(f\"the sum of squares of first {n} number equal to :\", sum_of_squares)"
   ]
  },
  {
   "cell_type": "code",
   "execution_count": 26,
   "id": "44af27be",
   "metadata": {},
   "outputs": [
    {
     "name": "stdout",
     "output_type": "stream",
     "text": [
      "give me a natural number to calculate sum of squares of first n number :9\n",
      "the sum of squares of first 9 number equal to : 285\n"
     ]
    }
   ],
   "source": [
    "n = int(input(\"give me a natural number to calculate sum of squares of first n number :\"))\n",
    "\n",
    "sum_of_squares = int((n * (n+1) * (2 * n + 1)) / 6)\n",
    "\n",
    "print(f\"the sum of squares of first {n} number equal to :\", sum_of_squares)"
   ]
  },
  {
   "cell_type": "code",
   "execution_count": 28,
   "id": "501100cf",
   "metadata": {},
   "outputs": [
    {
     "name": "stdout",
     "output_type": "stream",
     "text": [
      "give me a natural number to calculate sum of squares of first n number :5\n",
      "the sum of squares of first 5 number equal to : 55\n"
     ]
    }
   ],
   "source": [
    "n = int(input(\"give me a natural number to calculate sum of squares of first n number :\"))\n",
    "\n",
    "sum_of_squares = (n * (n+1) * (2 * n + 1)) // 6\n",
    "\n",
    "print(f\"the sum of squares of first {n} number equal to :\", sum_of_squares)"
   ]
  },
  {
   "cell_type": "code",
   "execution_count": 29,
   "id": "992ff218",
   "metadata": {},
   "outputs": [
    {
     "data": {
      "text/plain": [
       "2.75"
      ]
     },
     "execution_count": 29,
     "metadata": {},
     "output_type": "execute_result"
    }
   ],
   "source": [
    "11/4"
   ]
  },
  {
   "cell_type": "code",
   "execution_count": 30,
   "id": "508cbe2f",
   "metadata": {},
   "outputs": [
    {
     "data": {
      "text/plain": [
       "2"
      ]
     },
     "execution_count": 30,
     "metadata": {},
     "output_type": "execute_result"
    }
   ],
   "source": [
    "11//4"
   ]
  },
  {
   "cell_type": "code",
   "execution_count": 31,
   "id": "3d9af177",
   "metadata": {},
   "outputs": [
    {
     "data": {
      "text/plain": [
       "3.0"
      ]
     },
     "execution_count": 31,
     "metadata": {},
     "output_type": "execute_result"
    }
   ],
   "source": [
    "12/4"
   ]
  },
  {
   "cell_type": "code",
   "execution_count": 32,
   "id": "84f1e930",
   "metadata": {},
   "outputs": [
    {
     "data": {
      "text/plain": [
       "3"
      ]
     },
     "execution_count": 32,
     "metadata": {},
     "output_type": "execute_result"
    }
   ],
   "source": [
    "12//4"
   ]
  },
  {
   "cell_type": "markdown",
   "id": "41e63b54",
   "metadata": {},
   "source": [
    "### Task 3: girilen sayının tek veya çift olma durumunu, ayrıca bu sayının 3'e bölünüp bölünememe durumunu ekrana şu şekilde yazdıran bir program yazınız:"
   ]
  },
  {
   "cell_type": "markdown",
   "id": "0c1936c4",
   "metadata": {},
   "source": [
    "```\n",
    "8 is an odd number and it can not be divided into 3\n",
    "```"
   ]
  },
  {
   "cell_type": "code",
   "execution_count": 33,
   "id": "16afb4b1",
   "metadata": {},
   "outputs": [
    {
     "data": {
      "text/plain": [
       "'sayı=bir'"
      ]
     },
     "execution_count": 33,
     "metadata": {},
     "output_type": "execute_result"
    }
   ],
   "source": [
    "\"sayı\" + \"=\" + \"bir\""
   ]
  },
  {
   "cell_type": "code",
   "execution_count": 34,
   "id": "f05b7eb6",
   "metadata": {},
   "outputs": [
    {
     "data": {
      "text/plain": [
       "'sayı'"
      ]
     },
     "execution_count": 34,
     "metadata": {},
     "output_type": "execute_result"
    }
   ],
   "source": [
    "\"sayı\" * 1"
   ]
  },
  {
   "cell_type": "code",
   "execution_count": 35,
   "id": "e12cc713",
   "metadata": {},
   "outputs": [
    {
     "data": {
      "text/plain": [
       "'sayısayısayı'"
      ]
     },
     "execution_count": 35,
     "metadata": {},
     "output_type": "execute_result"
    }
   ],
   "source": [
    "\"sayı\" * 3"
   ]
  },
  {
   "cell_type": "code",
   "execution_count": 36,
   "id": "f0612d6a",
   "metadata": {},
   "outputs": [
    {
     "data": {
      "text/plain": [
       "''"
      ]
     },
     "execution_count": 36,
     "metadata": {},
     "output_type": "execute_result"
    }
   ],
   "source": [
    "\"sayı\" * 0"
   ]
  },
  {
   "cell_type": "code",
   "execution_count": 37,
   "id": "e8130454",
   "metadata": {},
   "outputs": [],
   "source": [
    "text1 = \"is an odd number\"\n",
    "\n",
    "text2 = \"is an even number\"\n",
    "\n",
    "text3 = \"and it can not be divided into 3\"\n",
    "\n",
    "text4 = \"and it can be divided into 3\""
   ]
  },
  {
   "cell_type": "code",
   "execution_count": 39,
   "id": "099cee93",
   "metadata": {},
   "outputs": [
    {
     "data": {
      "text/plain": [
       "0"
      ]
     },
     "execution_count": 39,
     "metadata": {},
     "output_type": "execute_result"
    }
   ],
   "source": [
    "sayı = 8\n",
    "\n",
    "sayı % 2"
   ]
  },
  {
   "cell_type": "code",
   "execution_count": 40,
   "id": "65e725ba",
   "metadata": {},
   "outputs": [
    {
     "data": {
      "text/plain": [
       "1"
      ]
     },
     "execution_count": 40,
     "metadata": {},
     "output_type": "execute_result"
    }
   ],
   "source": [
    "sayı = 9\n",
    "\n",
    "sayı % 2"
   ]
  },
  {
   "cell_type": "code",
   "execution_count": 41,
   "id": "084a565a",
   "metadata": {},
   "outputs": [
    {
     "data": {
      "text/plain": [
       "True"
      ]
     },
     "execution_count": 41,
     "metadata": {},
     "output_type": "execute_result"
    }
   ],
   "source": [
    "bool(sayı % 2)"
   ]
  },
  {
   "cell_type": "code",
   "execution_count": 42,
   "id": "98720a97",
   "metadata": {},
   "outputs": [
    {
     "data": {
      "text/plain": [
       "'is an odd number'"
      ]
     },
     "execution_count": 42,
     "metadata": {},
     "output_type": "execute_result"
    }
   ],
   "source": [
    "sayı = 9\n",
    "\n",
    "int(bool(sayı % 2)) * text1"
   ]
  },
  {
   "cell_type": "code",
   "execution_count": 43,
   "id": "8430f842",
   "metadata": {},
   "outputs": [
    {
     "data": {
      "text/plain": [
       "'is an even number'"
      ]
     },
     "execution_count": 43,
     "metadata": {},
     "output_type": "execute_result"
    }
   ],
   "source": [
    "sayı = 8\n",
    "\n",
    "int(not bool(sayı % 2)) * text2"
   ]
  },
  {
   "cell_type": "code",
   "execution_count": 44,
   "id": "b4c16d5b",
   "metadata": {},
   "outputs": [
    {
     "data": {
      "text/plain": [
       "'and it can not be divided into 3'"
      ]
     },
     "execution_count": 44,
     "metadata": {},
     "output_type": "execute_result"
    }
   ],
   "source": [
    "sayı = 11\n",
    "\n",
    "int(bool(sayı % 3)) * text3"
   ]
  },
  {
   "cell_type": "code",
   "execution_count": 45,
   "id": "8f3932da",
   "metadata": {},
   "outputs": [
    {
     "data": {
      "text/plain": [
       "'and it can be divided into 3'"
      ]
     },
     "execution_count": 45,
     "metadata": {},
     "output_type": "execute_result"
    }
   ],
   "source": [
    "sayı = 12\n",
    "\n",
    "int(not bool(sayı % 3))* text4"
   ]
  },
  {
   "cell_type": "code",
   "execution_count": 47,
   "id": "3c2c7235",
   "metadata": {},
   "outputs": [
    {
     "name": "stdout",
     "output_type": "stream",
     "text": [
      "enter a number : 55\n",
      "55 is an odd number  and it can not be divided into 3 \n"
     ]
    }
   ],
   "source": [
    "number = int(input(\"enter a number : \"))\n",
    "\n",
    "text1 = \"is an odd number\"\n",
    "\n",
    "text2 = \"is an even number\"\n",
    "\n",
    "text3 = \"and it can not be divided into 3\"\n",
    "\n",
    "text4 = \"and it can be divided into 3\"\n",
    "\n",
    "\n",
    "print(f\"{number}\", f\"{int(bool(number % 2)) * text1}\", f\"{int(not bool(number % 2)) * text2}\",\n",
    "     f\"{int(bool(number % 3)) * text3}\", f\"{int(not bool(number % 3))* text4}\")"
   ]
  },
  {
   "cell_type": "markdown",
   "id": "120c77df",
   "metadata": {},
   "source": [
    "### Task 4: Dairenin alanını \"math\" kütüphanesi ile hesaplayan kod:"
   ]
  },
  {
   "cell_type": "code",
   "execution_count": 5,
   "id": "84fd0880",
   "metadata": {},
   "outputs": [
    {
     "data": {
      "text/plain": [
       "25"
      ]
     },
     "execution_count": 5,
     "metadata": {},
     "output_type": "execute_result"
    }
   ],
   "source": [
    "r = 5\n",
    "\n",
    "r ** 2"
   ]
  },
  {
   "cell_type": "code",
   "execution_count": 50,
   "id": "0181137d",
   "metadata": {},
   "outputs": [
    {
     "ename": "NameError",
     "evalue": "name 'pi' is not defined",
     "output_type": "error",
     "traceback": [
      "\u001b[1;31m---------------------------------------------------------------------------\u001b[0m",
      "\u001b[1;31mNameError\u001b[0m                                 Traceback (most recent call last)",
      "Input \u001b[1;32mIn [50]\u001b[0m, in \u001b[0;36m<cell line: 1>\u001b[1;34m()\u001b[0m\n\u001b[1;32m----> 1\u001b[0m \u001b[43mpi\u001b[49m \u001b[38;5;241m*\u001b[39m r \u001b[38;5;241m*\u001b[39m\u001b[38;5;241m*\u001b[39m \u001b[38;5;241m2\u001b[39m\n",
      "\u001b[1;31mNameError\u001b[0m: name 'pi' is not defined"
     ]
    }
   ],
   "source": [
    "pi * r ** 2"
   ]
  },
  {
   "cell_type": "code",
   "execution_count": 51,
   "id": "717d156c",
   "metadata": {},
   "outputs": [],
   "source": [
    "pi = 3.14159"
   ]
  },
  {
   "cell_type": "code",
   "execution_count": 52,
   "id": "5d2bad5b",
   "metadata": {},
   "outputs": [
    {
     "data": {
      "text/plain": [
       "78.53975"
      ]
     },
     "execution_count": 52,
     "metadata": {},
     "output_type": "execute_result"
    }
   ],
   "source": [
    "pi * r ** 2"
   ]
  },
  {
   "cell_type": "code",
   "execution_count": 1,
   "id": "516bb409",
   "metadata": {},
   "outputs": [
    {
     "ename": "NameError",
     "evalue": "name 'pi' is not defined",
     "output_type": "error",
     "traceback": [
      "\u001b[1;31m---------------------------------------------------------------------------\u001b[0m",
      "\u001b[1;31mNameError\u001b[0m                                 Traceback (most recent call last)",
      "Input \u001b[1;32mIn [1]\u001b[0m, in \u001b[0;36m<cell line: 1>\u001b[1;34m()\u001b[0m\n\u001b[1;32m----> 1\u001b[0m \u001b[43mpi\u001b[49m\n",
      "\u001b[1;31mNameError\u001b[0m: name 'pi' is not defined"
     ]
    }
   ],
   "source": [
    "pi"
   ]
  },
  {
   "cell_type": "code",
   "execution_count": 2,
   "id": "de7283f6",
   "metadata": {},
   "outputs": [],
   "source": [
    "import math"
   ]
  },
  {
   "cell_type": "code",
   "execution_count": 3,
   "id": "f5ae4f56",
   "metadata": {},
   "outputs": [
    {
     "data": {
      "text/plain": [
       "3.141592653589793"
      ]
     },
     "execution_count": 3,
     "metadata": {},
     "output_type": "execute_result"
    }
   ],
   "source": [
    "math.pi"
   ]
  },
  {
   "cell_type": "code",
   "execution_count": 4,
   "id": "eb63ace1",
   "metadata": {},
   "outputs": [
    {
     "data": {
      "text/plain": [
       "8.0"
      ]
     },
     "execution_count": 4,
     "metadata": {},
     "output_type": "execute_result"
    }
   ],
   "source": [
    "math.pow(2, 3)"
   ]
  },
  {
   "cell_type": "code",
   "execution_count": 6,
   "id": "ecc51e9c",
   "metadata": {},
   "outputs": [],
   "source": [
    "area = math.pi * pow(r, 2)"
   ]
  },
  {
   "cell_type": "code",
   "execution_count": 7,
   "id": "d134776e",
   "metadata": {},
   "outputs": [
    {
     "name": "stdout",
     "output_type": "stream",
     "text": [
      "78.53981633974483\n"
     ]
    }
   ],
   "source": [
    "print(area)"
   ]
  },
  {
   "cell_type": "code",
   "execution_count": 10,
   "id": "8cd9094e",
   "metadata": {},
   "outputs": [
    {
     "data": {
      "text/plain": [
       "78.54"
      ]
     },
     "execution_count": 10,
     "metadata": {},
     "output_type": "execute_result"
    }
   ],
   "source": [
    "area = round((math.pi * pow(r, 2)), 2)\n",
    "area"
   ]
  },
  {
   "attachments": {
    "image-2.png": {
     "image/png": "[encoded data removed]"
    }
   },
   "cell_type": "markdown",
   "id": "32d58a30",
   "metadata": {},
   "source": [
    "![image-2.png](attachment:image-2.png)"
   ]
  },
  {
   "cell_type": "markdown",
   "id": "b1b0d8f1",
   "metadata": {},
   "source": [
    "<img src=\"https://docs.google.com/uc?id=14xeXxFrVRjvOoUYWn_GuyE-v84wVzrqr\" class=\"img-fluid\" alt=\"CLRWY\" width=\"400\" height=\"200\">"
   ]
  }
 ],
 "metadata": {
  "kernelspec": {
   "display_name": "Python 3 (ipykernel)",
   "language": "python",
   "name": "python3"
  },
  "language_info": {
   "codemirror_mode": {
    "name": "ipython",
    "version": 3
   },
   "file_extension": ".py",
   "mimetype": "text/x-python",
   "name": "python",
   "nbconvert_exporter": "python",
   "pygments_lexer": "ipython3",
   "version": "3.9.12"
  }
 },
 "nbformat": 4,
 "nbformat_minor": 5
}
